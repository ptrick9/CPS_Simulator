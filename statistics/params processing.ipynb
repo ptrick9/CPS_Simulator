{
 "cells": [
  {
   "cell_type": "code",
   "execution_count": 113,
   "metadata": {
    "collapsed": false
   },
   "outputs": [],
   "source": [
    "def isInt(s):\n",
    "    try: \n",
    "        int(s)\n",
    "        return True\n",
    "    except ValueError:\n",
    "        return False\n",
    "\n",
    "def isFloat(s):\n",
    "    try:\n",
    "        float(s)\n",
    "        return True\n",
    "    except ValueError:\n",
    "        return False\n",
    "    \n",
    "def isBool(s):\n",
    "    return (s==\"true\\n\" or s==\"false\\n\")\n",
    "    \n",
    "def getParameters(filename):\n",
    "    params = dict()\n",
    "    with open(filename) as f:\n",
    "        lines = f.readlines()\n",
    "    \n",
    "    for i in range(0,len(lines)-1):\n",
    "        l=lines[i].split('=')\n",
    "        key = l[0]\n",
    "        if(isBool(l[1])):\n",
    "            val = bool(l[1])\n",
    "        else:\n",
    "            if(isInt(l[1])):\n",
    "                    val = int(l[1])\n",
    "            else: \n",
    "                if(isFloat(l[1])):\n",
    "                    val = float(l[1])\n",
    "                else:\n",
    "                    val = l[1].split(\"\\n\")[0]\n",
    "        params[key] = val\n",
    "    return params"
   ]
  },
  {
   "cell_type": "code",
   "execution_count": 114,
   "metadata": {
    "collapsed": false
   },
   "outputs": [
    {
     "name": "stdout",
     "output_type": "stream",
     "text": [
      "cpuprofile \t  \t <class 'str'>\n",
      "memprofile \t  \t <class 'str'>\n",
      "negativeSittingStopThreshold \t -10 \t <class 'int'>\n",
      "sittingStopThreshold \t 5 \t <class 'int'>\n",
      "GridCapacityPercentage \t 0.9 \t <class 'float'>\n",
      "inputFileName \t Scenario_3.txt \t <class 'str'>\n",
      "sensorPath \t C:\\Users\\adamc\\Documents\\Git\\CPS_Simulator\\CPS_Simulator\\smoothed_marathon.csv \t <class 'str'>\n",
      "movementPath \t C:\\Users\\adamc\\Documents\\Git\\CPS_Simulator\\CPS_Simulator\\marathon_2k.txt \t <class 'str'>\n",
      "OutputFileName \t Log \t <class 'str'>\n",
      "naturalLoss \t 0.005 \t <class 'float'>\n",
      "sensorSamplingLoss \t 0.01 \t <class 'float'>\n",
      "GPSSamplingLoss \t 0.005 \t <class 'float'>\n",
      "serverSamplingLoss \t 0.01 \t <class 'float'>\n",
      "SamplingLossBTCM \t 0.0001 \t <class 'float'>\n",
      "SamplingLossWifiCM \t 0.001 \t <class 'float'>\n",
      "SamplingLoss4GCM \t 0.005 \t <class 'float'>\n",
      "SamplingLossAccelCM \t 0.001 \t <class 'float'>\n",
      "thresholdBatteryToHave \t 30 \t <class 'int'>\n",
      "thresholdBatteryToUse \t 10 \t <class 'int'>\n",
      "movementSamplingSpeed \t 20 \t <class 'int'>\n",
      "movementSamplingPeriod \t 1 \t <class 'int'>\n",
      "maxBufferCapacity \t 25 \t <class 'int'>\n",
      "energyModel \t variable \t <class 'str'>\n",
      "noEnergy \t True \t <class 'bool'>\n",
      "sensorSamplingPeriod \t 1000 \t <class 'int'>\n",
      "GPSSamplingPeriod \t 1000 \t <class 'int'>\n",
      "serverSamplingPeriod \t 1000 \t <class 'int'>\n",
      "nodeStoredSamples \t 10 \t <class 'int'>\n",
      "GridStoredSamples \t 10 \t <class 'int'>\n",
      "detectionThreshold \t 4000 \t <class 'int'>\n",
      "errorMultiplier \t 1 \t <class 'int'>\n",
      "csvSensor \t True \t <class 'bool'>\n",
      "csvMove \t True \t <class 'bool'>\n",
      "superNodes \t True \t <class 'bool'>\n",
      "iterations \t 200 \t <class 'int'>\n",
      "numSuperNodes \t 4 \t <class 'int'>\n",
      "Recalibration Threshold \t 3 \t <class 'int'>\n",
      "StandardDeviationThreshold \t 1.7 \t <class 'float'>\n",
      "detectionDistance \t 6 \t <class 'int'>\n",
      "SuperNodeSpeed \t 3 \t <class 'int'>\n",
      "doOptimize \t True \t <class 'bool'>\n",
      "logPosition \t True \t <class 'bool'>\n",
      "logGrid \t True \t <class 'bool'>\n",
      "logEnergy \t True \t <class 'bool'>\n",
      "logNodes \t True \t <class 'bool'>\n",
      "SquareRowCM \t 60 \t <class 'int'>\n",
      "SquareColCM \t 320 \t <class 'int'>\n",
      "imageFileName \t marathon_street_map.png \t <class 'str'>\n",
      "stimFileName \t circle_0.txt \t <class 'str'>\n",
      "outRoutingStatsName \t routingStats.txt \t <class 'str'>\n",
      "regionRouting \t True \t <class 'bool'>\n"
     ]
    }
   ],
   "source": [
    "p = getParameters(\"Log-parameters.txt\")\n",
    "for key in p:\n",
    "    print(key,\"\\t\",p[key],\"\\t\",type(p[key]))"
   ]
  },
  {
   "cell_type": "code",
   "execution_count": 101,
   "metadata": {
    "collapsed": false
   },
   "outputs": [
    {
     "data": {
      "text/plain": [
       "bool"
      ]
     },
     "execution_count": 101,
     "metadata": {},
     "output_type": "execute_result"
    }
   ],
   "source": []
  },
  {
   "cell_type": "code",
   "execution_count": null,
   "metadata": {
    "collapsed": false,
    "scrolled": true
   },
   "outputs": [],
   "source": []
  },
  {
   "cell_type": "code",
   "execution_count": null,
   "metadata": {
    "collapsed": false
   },
   "outputs": [],
   "source": []
  },
  {
   "cell_type": "code",
   "execution_count": null,
   "metadata": {
    "collapsed": true
   },
   "outputs": [],
   "source": []
  }
 ],
 "metadata": {
  "kernelspec": {
   "display_name": "Python 3",
   "language": "python",
   "name": "python3"
  },
  "language_info": {
   "codemirror_mode": {
    "name": "ipython",
    "version": 3
   },
   "file_extension": ".py",
   "mimetype": "text/x-python",
   "name": "python",
   "nbconvert_exporter": "python",
   "pygments_lexer": "ipython3",
   "version": "3.6.0"
  }
 },
 "nbformat": 4,
 "nbformat_minor": 2
}