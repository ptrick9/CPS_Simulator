{
 "cells": [
  {
   "cell_type": "code",
   "execution_count": 1,
   "metadata": {},
   "outputs": [],
   "source": [
    "%matplotlib inline\n",
    "import matplotlib\n",
    "import matplotlib.pyplot as plt\n",
    "import pickle\n",
    "import numpy as np\n",
    "\n",
    "\n",
    "\n",
    "#f = open('driftExplorerNoBombDurGrid.pickle', 'rb')\n",
    "f = open('MultiScenarioTests.pickle', 'rb')\n",
    "data = pickle.load(f)\n",
    "f.close()"
   ]
  },
  {
   "cell_type": "code",
   "execution_count": 2,
   "metadata": {},
   "outputs": [
    {
     "name": "stdout",
     "output_type": "stream",
     "text": [
      "{'GRDecrement': [0.7, 0.75], 'aloneThreshold': [0.05, 0.1], 'aloneClusterSearch': ['false', 'true'], 'reclusterPeriod': [200, 300], 'totalNodes': [500, 1000, 2000, 3500], 'CHBatteryDropThresh': [0.1, 0.2, 0.3, 0.4], 'localRecluster': [0, 1, 2], 'globalRecluster': [0, 1, 3], 'clusteringOn': ['false', 'true'], 'CHTimeThresh': [150, 300, 450, 600, 900]}\n",
      "\n",
      "0 globalRecluster\n",
      "1 aloneThreshold\n",
      "2 totalNodes\n",
      "3 CHTimeThresh\n",
      "4 reclusterPeriod\n",
      "5 clusteringOn\n",
      "6 aloneClusterSearch\n",
      "7 CHBatteryDropThresh\n",
      "8 localRecluster\n",
      "9 GRDecrement\n",
      "\n"
     ]
    }
   ],
   "source": [
    "print(data['var'])\n",
    "print()\n",
    "for i in range(len(data['order'])):\n",
    "    print(str(i) + ' ' + data['order'][i])\n",
    "print()\n",
    "#for key in data['data'][list(data['data'].keys())[0]].keys():\n",
    "#    print(key)"
   ]
  },
  {
   "cell_type": "code",
   "execution_count": 3,
   "metadata": {},
   "outputs": [],
   "source": [
    "inputDict = {'globalRecluster':'GR', 'reclusterThreshold': 'GR Thresh', 'clusteringOn':'Cluster', 'localRecluster':'LR',\n",
    "             'clusterSearchThresh':'CS', 'CHBatteryDropThresh':'Battery Thresh', 'CHTimeThresh':'Time Thresh'}"
   ]
  },
  {
   "cell_type": "code",
   "execution_count": 4,
   "metadata": {},
   "outputs": [
    {
     "name": "stdout",
     "output_type": "stream",
     "text": [
      "724\n"
     ]
    }
   ],
   "source": [
    "i = 0\n",
    "print(len(data['data'].keys()))"
   ]
  },
  {
   "cell_type": "code",
   "execution_count": 5,
   "metadata": {},
   "outputs": [],
   "source": [
    "def compareOverTime(compare, keyInds, ignoreDicts=[]):\n",
    "    stats = {}\n",
    "    counts = {}\n",
    "    minArrLen = 10000000\n",
    "    ignore = False\n",
    "    for key in data['data'].keys():\n",
    "        for iDict in ignoreDicts:\n",
    "            count = 0\n",
    "            for ind in iDict:\n",
    "                for ignoreKey in iDict[ind]:\n",
    "                    if key[ind] == ignoreKey:\n",
    "                        count += 1\n",
    "            if count == len(iDict):\n",
    "                ignore = True\n",
    "        if not ignore:\n",
    "            run = data['data'][key]\n",
    "            keyStrs = []\n",
    "            for ind in keyInds:\n",
    "                keyStrs += [str(key[ind])]\n",
    "            statsKey = '-'.join(keyStrs)\n",
    "            arr = run[compare]\n",
    "            minArrLen = min(minArrLen, len(arr))\n",
    "            if statsKey in stats.keys():\n",
    "                for i in range(minArrLen):\n",
    "                    stats[statsKey][i] += arr[i]\n",
    "                counts[statsKey] += 1\n",
    "            else:\n",
    "                stats[statsKey] = []\n",
    "                for i in range(minArrLen):\n",
    "                    stats[statsKey] += [arr[i]]\n",
    "                counts[statsKey] = 1\n",
    "        else:\n",
    "            ignore = False\n",
    "    for key in stats.keys():\n",
    "        for i in range(minArrLen):\n",
    "            stats[key][i] = stats[key][i]/counts[key]\n",
    "    stats['compare'] = compare\n",
    "    stats['minArrLen'] = minArrLen\n",
    "    stats['keyInds'] = keyInds\n",
    "    stats['ignore'] = ignoreDicts\n",
    "    return stats"
   ]
  },
  {
   "cell_type": "code",
   "execution_count": 6,
   "metadata": {},
   "outputs": [],
   "source": [
    "def generateOverTimeGraphsHelper(keyInds, stats, x, separationLevel, currentLevel, strArr, titleArr, topY):\n",
    "    legendTitle = ''\n",
    "    if currentLevel < len(keyInds):\n",
    "        currentKey = data['order'][keyInds[currentLevel]]\n",
    "        for var in data['var'][currentKey]:\n",
    "            if not (currentKey in stats['ignore'] and stats['ignore'][currentKey] == var):\n",
    "                legendTitle = generateOverTimeGraphsHelper(keyInds, stats, x, separationLevel, currentLevel + 1, strArr + [str(var)], titleArr + [str(currentKey)], topY)\n",
    "    else:\n",
    "        key = '-'.join(strArr)\n",
    "        if key in stats.keys():\n",
    "            y = stats[key]\n",
    "            label = ''\n",
    "            for i in range(separationLevel, currentLevel):\n",
    "                if titleArr[i] in inputDict:\n",
    "                    label += inputDict[titleArr[i]] + ': ' + strArr[i] + '  '\n",
    "                else:\n",
    "                    label += titleArr[i] + ': ' + strArr[i] + '  '\n",
    "            #label = '-'.join(strArr[separationLevel:])\n",
    "            plt.plot(x, y, label=label)\n",
    "            #legendTitle = '-'.join(titleArr[separationLevel:])\n",
    "    if currentLevel == separationLevel:\n",
    "        title = '-'.join(titleArr) + ': '\n",
    "        title += '-'.join(strArr)\n",
    "        plt.xlabel('Time')\n",
    "        plt.ylabel(stats['compare'])\n",
    "        plt.legend(loc='center left', bbox_to_anchor=(1, 0.5), title=legendTitle)\n",
    "        #plt.legend(title=legendTitle)\n",
    "        bottom, top = plt.ylim()\n",
    "        if topY != 0:\n",
    "            plt.ylim(bottom, topY)\n",
    "        plt.title(title)\n",
    "        plt.show()\n",
    "    return legendTitle\n",
    "\n",
    "def generateOverTimeGraphs(stats, separationLevel=0, topY=0):\n",
    "    generateOverTimeGraphsHelper(stats['keyInds'], stats, [i for i in range(stats['minArrLen'])], separationLevel, 0, [], [], topY)"
   ]
  },
  {
   "cell_type": "code",
   "execution_count": 17,
   "metadata": {},
   "outputs": [],
   "source": [
    "def generateAllGraphs(keyInds, ignoreDict={}, separationLevel=0, topY=0):\n",
    "    for key in data['data'][list(data['data'].keys())[0]].keys():\n",
    "        if type(data['data'][list(data['data'].keys())[0]][key]) is list:\n",
    "            dat = compareOverTime(key, keyInds, ignoreDict)\n",
    "            generateOverTimeGraphs(dat, separationLevel, topY)"
   ]
  },
  {
   "cell_type": "code",
   "execution_count": 8,
   "metadata": {},
   "outputs": [
    {
     "name": "stderr",
     "output_type": "stream",
     "text": [
      "No handles with labels found to put in legend.\n"
     ]
    },
    {
     "data": {
      "image/png": "[encoded data removed]",
      "text/plain": [
       "<Figure size 432x288 with 1 Axes>"
      ]
     },
     "metadata": {
      "needs_background": "light"
     },
     "output_type": "display_data"
    }
   ],
   "source": [
    "Alive = compareOverTime('Percent Alive', [2,5,0], [{}])\n",
    "generateOverTimeGraphs(Alive, 0)"
   ]
  },
  {
   "cell_type": "code",
   "execution_count": null,
   "metadata": {},
   "outputs": [],
   "source": []
  }
 ],
 "metadata": {
  "kernelspec": {
   "display_name": "Python 3",
   "language": "python",
   "name": "python3"
  },
  "language_info": {
   "codemirror_mode": {
    "name": "ipython",
    "version": 3
   },
   "file_extension": ".py",
   "mimetype": "text/x-python",
   "name": "python",
   "nbconvert_exporter": "python",
   "pygments_lexer": "ipython3",
   "version": "3.8.3"
  }
 },
 "nbformat": 4,
 "nbformat_minor": 4
}
