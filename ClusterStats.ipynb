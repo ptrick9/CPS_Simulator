{
 "cells": [
  {
   "cell_type": "code",
   "execution_count": 781,
   "metadata": {
    "collapsed": true
   },
   "outputs": [],
   "source": [
    "import os\n",
    "import pandas as pd\n",
    "import csv\n",
    "import numpy as np\n",
    "from matplotlib import pyplot as plt\n",
    "from matplotlib import animation\n",
    "from IPython.display import HTML"
   ]
  },
  {
   "cell_type": "code",
   "execution_count": 782,
   "metadata": {
    "collapsed": true
   },
   "outputs": [],
   "source": [
    "numCH = [None]*200\n",
    "with open(\"Log-clusters.txt\") as csv_file:\n",
    "    data = list(csv.reader(csv_file, delimiter=','))\n",
    "    count = 0\n",
    "    for row in data:\n",
    "        numCH[count] = len(row)\n",
    "        count = count+1\n",
    "        for i in range(0,len(row)):\n",
    "            row[i] = int(row[i])"
   ]
  },
  {
   "cell_type": "code",
   "execution_count": 783,
   "metadata": {
    "collapsed": false
   },
   "outputs": [
    {
     "data": {
      "text/plain": [
       "<matplotlib.figure.Figure at 0x140fe873c50>"
      ]
     },
     "metadata": {},
     "output_type": "display_data"
    },
    {
     "data": {
      "image/png": "[encoded data removed]",
      "text/plain": [
       "<matplotlib.figure.Figure at 0x14080ff9588>"
      ]
     },
     "metadata": {},
     "output_type": "display_data"
    }
   ],
   "source": [
    "t = range(200)\n",
    "plt.plot(t, numCH, 'ro')\n",
    "plt.title(\"Total Cluster Heads at each Iteration\")\n",
    "plt.xlabel(\"Iteration\")\n",
    "plt.ylabel(\"# of Cluster Heads\")\n",
    "plt.show()"
   ]
  },
  {
   "cell_type": "code",
   "execution_count": 784,
   "metadata": {
    "collapsed": false
   },
   "outputs": [],
   "source": [
    "plt.figure()\n",
    "\n",
    "def update_hist(num):\n",
    "    plt.cla()\n",
    "    plt.hist(data[num])\n",
    "    plt.xlabel(\"Cluster Size\")\n",
    "    plt.ylabel(\"Frequency\")\n",
    "    plt.title(\"Cluster Sizes at T=\"+str(num))\n",
    "    \n",
    "fig = plt.figure()\n",
    "hist = plt.hist(data[0])"
   ]
  },
  {
   "cell_type": "code",
   "execution_count": 785,
   "metadata": {
    "collapsed": false
   },
   "outputs": [
    {
     "data": {
      "text/html": [
       "<video width=\"432\" height=\"288\" controls autoplay loop>\n",
       "  <source type=\"video/mp4\" src=\"data:video/mp4;base64,AAAAHGZ0eXBNNFYgAAACAGlzb21pc28yYXZjMQAAAAhmcmVlAAAoRW1kYXQAAAKtBgX//6ncRem9\n",
       "5tlIt5Ys2CDZI+7veDI2NCAtIGNvcmUgMTQ2IHIyNTM4IDEyMTM5NmMgLSBILjI2NC9NUEVHLTQg\n",
       "QVZDIGNvZGVjIC0gQ29weWxlZnQgMjAwMy0yMDE1IC0gaHR0cDovL3d3dy52aWRlb2xhbi5vcmcv\n",
       "eDI2NC5odG1sIC0gb3B0aW9uczogY2FiYWM9MSByZWY9MyBkZWJsb2NrPTE6MDowIGFuYWx5c2U9\n",
       "MHgzOjB4MTEzIG1lPWhleCBzdWJtZT03IHBzeT0xIHBzeV9yZD0xLjAwOjAuMDAgbWl4ZWRfcmVm\n",
       "PTEgbWVfcmFuZ2U9MTYgY2hyb21hX21lPTEgdHJlbGxpcz0xIDh4OGRjdD0xIGNxbT0wIGRlYWR6\n",
       "b25lPTIxLDExIGZhc3RfcHNraXA9MSBjaHJvbWFfcXBfb2Zmc2V0PS0yIHRocmVhZHM9NiBsb29r\n",
       "YWhlYWRfdGhyZWFkcz0xIHNsaWNlZF90aHJlYWRzPTAgbnI9MCBkZWNpbWF0ZT0xIGludGVybGFj\n",
       "ZWQ9MCBibHVyYXlfY29tcGF0PTAgY29uc3RyYWluZWRfaW50cmE9MCBiZnJhbWVzPTMgYl9weXJh\n",
       "bWlkPTIgYl9hZGFwdD0xIGJfYmlhcz0wIGRpcmVjdD0xIHdlaWdodGI9MSBvcGVuX2dvcD0wIHdl\n",
       "aWdodHA9MiBrZXlpbnQ9MjUwIGtleWludF9taW49NSBzY2VuZWN1dD00MCBpbnRyYV9yZWZyZXNo\n",
       "PTAgcmNfbG9va2FoZWFkPTQwIHJjPWNyZiBtYnRyZWU9MSBjcmY9MjMuMCBxY29tcD0wLjYwIHFw\n",
       "bWluPTAgcXBtYXg9NjkgcXBzdGVwPTQgaXBfcmF0aW89MS40MCBhcT0xOjEuMDAAgAAAEY1liIQA\n",
       "EP/+94G/MstfIrrJcfnn7/2t3bMY0DFQO0TbpSAAAAMACeU/lcDzdVu2OAYkzcr/gB7nhbM/jYxG\n",
       "HQ3Yiz1if4Vhn78EP1UTucCh7Fnoe7i4gPtdp6Kpiwtf4wmi2Efx12JONUp5t7QdYITmOUi1KFaR\n",
       "VnMwif834IwnmsY2oekyad/FZKJVWbbMXepTIHaEcxq0Q6VIgAHQTUVnX270o9vSPxsTkk7yLiYV\n",
       "rABWdSh5vU3h9Pb5f8heq1jtYoElNW5uqc3U1qsrssCaGeJ2zc0+3AwFgJSz31MYNzU5A28AoFt4\n",
       "iJOG3Atd3R+lqCqKn/vgLXG7ghMSmPr688TM9VznrTTgMZRp5OEm2zYek8fDPFf0Oxd1uvId1dL2\n",
       "8/AcYupyWEuHWDZ4CJKSTxmN55acNdUo9M1D71vGLRXONgpoeFlEqcwC33pMDejQkxPuM/mgoNJs\n",
       "IEsN9kyi5fT6ISHkKQMIvzqtfhysbrY2uCQvvxGW0ZeQo9NG678Ughu+/Gtl/0KthfWrGUHKKV+J\n",
       "dGa+7YIYoB/GyU4fAR3RlgyTJHzCOH07byk8ndi66hRJHPGP3o+qpxCSQnCpSHOPF1rtwkctWei1\n",
       "DmvmaoUTywhMIcw+ljqSIs9hNpj9QGeCNffZyz986Scu0MpemWNORhWiatQWHiIyP+ixET5fsUXT\n",
       "e/y32SE89y7g1En9thGt0jTIpSmwVIeU/SpB/kj0c7DGuf6RwecLj6kMmnxb+VmJlFK+e9sCoxYs\n",
       "cz03lZkYo3VgI/YSUhYXO5zLPs9hsOCnwCWo9GGgNk4qZsVRpNq2JTT1T8CDADu/Oe2VdEzbVFyL\n",
       "Z4RSRukER47v7VcyuPdzDU6L9/J7Zwz2sDUhYiuzavlfiIWUvZ6DJhNgnuAYRmNjt/m4p+6wo0yf\n",
       "eBJQWJW9nA6xM7evsopZvYVlQikwVF3HUxpnBK5v5nJUMIXZ9aNnYNqK2Lfgl3ssulO4UkorYAJ5\n",
       "0l96s22H5dc1qHns+//0G54OoYeKhzcDy8ebv7AX9lS16fmgBOhpz5tyaaEulKZjRmVQQTolbSqm\n",
       "YD6SKqhLyEguGjh849d2MNZLJWK+F7BGvODaXokNmUzMNUa77/9pOXYu7cf+hhcm4lh8e8sUhUoJ\n",
       "Dv/6XQXHgFnATBOwyovdUI4MWsTVTGHbBg1A5cdz5u2eunSFVleiPtPj4tSPy2oTPdnS9E6Dbgla\n",
       "XUtJF8f+cTI9sjCUZVe+NEGolQA5pC3wVJ+kQWmvQyFlri+e/d/8Y4n/2uL+RqF7por5irVVmNil\n",
       "CR9cBbyH0yl+EMOIAjb29uA293S+SAIIntEBe5gXWXwQ0iTThxASZmz1LnyXNnqSShFlNkg9zqXC\n",
       "+HKzePgYtJZYDcY/ZSF0ZrKofAlDomv2Uum4sd1EmzbkbTHUn9GfyWKG99+q8lRvsGUnrx2WxuA/\n",
       "NZIc7Q/5E9O6/eWMjvUXIZ/Hv4Up0jSPnD2SqzFCss/BV/FcxyeN+pGWPrEZY3c92m7vJXouCRfe\n",
       "eIO0idk7RiTezt+1CWvw1fHOefzCSOOKsTPt0RgFyK0AGwQapLgczfPCZiEm0NsKFsjI7uF17Pnm\n",
       "QTFtnQaZ5PCoAsx/eQ4hc8qc5kvu24KszxoO1OXK/MuEP4sUy31S0APP7D1QRsFjlDei9HYNLZhi\n",
       "wVrxJBQT5rYvqnONTFAc6e/ZaY30VsFK16Ndo/H7qH/+1OJOAJCEVDRY0GFx5xdQDHpLJrxY22no\n",
       "baRJuzgbiTMX55ZwesjLdbV3IBUtEaRe/Yw3Vh5JOQ9vAbzbgoM11hZsSylsxxXOEXk6Bq9feo/f\n",
       "xgU7GfM03rc6U1xEJMs5+cCFstRr6K05dPjWPE0D3pcM6UlvKmiYjyewE4SS6pMF69Lohl/ljEs/\n",
       "bldGKYDzw847x6hh0fPq6DqdsZbi0b8erZ59V1h+bdmoYebaqu9hU34tY0mXSDRemMBHG9rlj/HW\n",
       "wAObKPT6dAGnlYs9WIzcndXkDLZe8MIofgAEP7kh4aOMtHjuJktl69vWxUVhZO6SiTVes38TfbJi\n",
       "/Mu8rQDzmBn0LWd01+CpjymrVVG5jbFyYq7/3Ie1kEcYi/hlpNIU2edjR67edphbpTEQRf1nec7P\n",
       "pvQvrOCzz0cGCVdpptRs7K879dQDCDJkYg90+R08vupf1+x3aLZH38R8ZXV0UzJkiKIGVYs6hwOq\n",
       "inag0in+gGnV33x4Ol4/DQ6Remt5I3aKZs1cbhNvBY8EnoGA6S6c5Ls3EubKWzn478YpAs0OoQP3\n",
       "pgO7eXPQAApwYXyjO+lg78KJTxHvjnpp2Xfu7zioqnW9GvsqcVVK23ELbWo4onzPIMfv3+LvWps8\n",
       "L926D/8zqAUf7GPi8Uc3b00mROwsVF1mtr3yFSU4Iq4ZW86oULl3SjUpNqsgFzGOVDk894nqTAoR\n",
       "9qATHwRQlwOQNqBYw//+VtsL0ZQyE30zGk6qJVoipQ/EpO8iQhh0r0EtBX0hWN83wuTPLvIGF3XT\n",
       "6L01raIGNdGQf7bRWV/gZxdsEai6j9X0fEsLnQBnQsG1ebNLO+ESApxy6LcZ8od8EE7v5LSQFLtM\n",
       "SOsBa6zfQ2hUBNW7CVMSd4PECea/rZcfKNe8A/+p8whzrKLWo4c+tslhJM7f0sDVgajby8OI8KTA\n",
       "m9cbh8U8U7WCLXAiUCet9C/YxrGcltb7kw1tDmPT6g2Pk6Xdv8uOUe1yuX6AoeO76weu/lB33ETY\n",
       "YIoiLTbC/LcoVtkEa3bmVHNuNffU4AAT+Cyl3q92LeMMoBNlfuLIVmxPUe27BgJX/P0v89CudfkS\n",
       "eJhOTS/CMZSzHBa6nRugi+Oni5EfI05jjAsQXXLeAtsxAZ1YntcEdL4O96fhCP3okjww0Tfi/roM\n",
       "Wi69H3sG4dlfZ2wctwf4Oy7SsAEsRVwDmAyQKAAJGojGyXl8JJTSJH1fcwPPIVRj0M4qjilK/z9b\n",
       "Uiq893rnVDo2sZX10oVHmY8MovMbBRUjkKtlfDyddd+cwsCjdgqOSnSXGuVPO8ukPxWP5XjB8isw\n",
       "OzFsTtpiNxXWb+4CWNCV0CeKCtNXzSA5I2IaQ9Dos5IFdwt3P3VtSm6fKJUc+vZLD5oWxN2Tcl2Y\n",
       "nRSi/H6LVWUzA7zgDBU9gg7zMTL0Z8ejxpUHtS8z/T8Ti+GypRGxFaVEU7oN6s2XoTwH8bGSMvYE\n",
       "0rYPFpTqbL7ngFarYh0wQb39JnxwoXgP1GAG9SQfS35QRsubG9B+ovSTbXq8L5UgrZPnsU6yi2sk\n",
       "qeAk3VO2X4YO14tkinNhsnYq64uRCdHwc8z4Y9ik/55BVot+BRfG+o/uOWI0goafRROHZx7TdcKV\n",
       "fXw5MDiAmnxnjMD2Ozpf6JeV0mh2g7CE4Pig8L/4O9u/zso35EJZ5ber6E/HvzGJhSISjNbigp9I\n",
       "EiiFlBw8/1yKNuIAAW1Xle3UKC6lx7l3iP4JhRDU/3OYGdzc5b+1AyWNJW5pyd1KxNCW1+Ck89oR\n",
       "WX180ZdENpZpFcpbJINs29uKdULWStOdfnyUfaleIuQCYnk6rEEUMS5vSOEV2sA4sFH3LRXidW8N\n",
       "/OMfuEuOBsGEaBW0IZiNQXtF05a3lVhoTIM9TuqZAsCMJumEraVrCG2Mnq95+vmYOtAn6HxakdS6\n",
       "N2VQBPc3hf2lnOnCzo7Z3vG4Y6vCYWDM5ZQDG0f3gzDqE04Y8d99/iucp0HwicHXheP+8UuDEP7S\n",
       "gDI9X1faJEuAzfwWc+ojquUwIvO9l2Rh+2StHG1qKqnDgk3Ye/JYFXvjKQLGpkutfvroEIl+Mtt7\n",
       "6uMEQM0Y+BfNodsgOjrMploKvxk3GwYGq28ouz3YHtzoXHdyb5Hr+wnhHImpB25qsIhjDe6MQsjy\n",
       "xVk3t5N7RNnVC+L76DrMvrM7SpltwIBeCLmZvoMlCZaj8OEn4GvOxcudf23bwMQbwgvq3gOmwlBT\n",
       "SrSyZeVc//+wWEP3Ctn1DTtL2ytUF+JW3HmEIvIjWBotLXECvaUXv4/hzvAInaZ6HxGevt02TKGb\n",
       "h8GsCg86iBWs3+VP2NR0/SyLAOwk/jrLuKTKfEbfOXn4LpHPQp3VYof/duc2zaKy//7R5JN3DjLS\n",
       "w78s9monOmqAVhHi797R/W24OStK5cfpon68UYxly0X0hYmCYWCVAEGvh4yduZPtoB+ko+9f0k79\n",
       "sYF4bd0ii5/b6sGcd8ZkLMF0PQ7b+ZPNZfwnEcuZY7gy7Oh4lI+NeEUupfrFgEQvowNZx/+kfmsJ\n",
       "XRMcltzysWTxZoU2kQ8OfrJNNXSOqhGK//H1Y1Bxk+qVjCgrRDqm/uwH3hTz7yMeClk1pacBZ4aa\n",
       "xHsyrqXGBrLYW/1/hBm8CP60EioD22lJcJdqzozSu4k1lxuo0JyrrI5RAxHkNvQRLuzRWAUbk8Ir\n",
       "inL07sHFpgc7fGDFF3ajCGjxPWxm4Xp7OkEHFPLCsaHk5+TYuRNtJp8yuuGchG7Qy5KJ9p2sxrYv\n",
       "sX2NdnoJAlrABQVbMCvNjHgX3YBBBJmmBvgWtX2ak00x+6xediZ3PVjUIwgCgN4tRnvVQQDNEUHY\n",
       "pCBE3m1ccgT4MGBWoF+2dEaC4y+3b0dis8cwceqF03xVcXFnYFle5GdllSLk6DMarvx2lInXXTCU\n",
       "+XszPwGiY0zNOEUwud2df1tJyDcjO15UY9Fv72dHI7RgQoPopcp7gtRkziCdfZYXPdOb9LRA7kzl\n",
       "aGrMN8LqJ62JZwYopm4yTHNWwhHIBodmjxojduy9Ke2BIt/3tJxcRyqWv11iwNtomUWwm7mrxhFy\n",
       "eeiDO0in0Rf36ADUmX2Pug5NZha1hLiBS6VGsvunFZqrJ52fU9WcgrISXM52JigOgBhwZ/O/jHU4\n",
       "s3LLo0iBCuPeLAmrSzd5mraFB+Ymkr/2hA6ZC4vZX6qr2GxMta8pP0mzvusWaMVSCsBgwP8Sngk8\n",
       "hGvF7iUkhAbix7ralZIeQSUqopM3d4wa6EORf7RmX8vY1it5xwSjQbtrairmsM1x5TrZ9cZ2QRoo\n",
       "V2gFc9jZqSUmRf5/3J2juaoBykzuG+CFILv1a5UkuxYh2MzAdUsP8JMHXQLSnEBLxBsQ6mkmbktx\n",
       "XjZFzi62CMaQfU04avJXg9/N73V/zXeTKYGm2oTYz9da8LpIBZJT9khQ85q2qN0rGBQ1px4rObSF\n",
       "pSs5l5iz6p9p4HWJkRB4xcQ93R8Hz2Vw/f/0phcwUihiguPCuSzh1029TKYRY7Kycm7qcrH4wb4z\n",
       "fh9wy78sH+1SNxCAOB0tMMVtmPpHgjUPYH/lyOxxxfmh7vqkEupdHjAnOnQyHi7acvqep2nbAh4Q\n",
       "M5jA2vsVM9bVmXCa+9QPHrmgjbtEzQCdCvdLqpUGCBMXcqFP5sPff8NZhf6a/z7w0WHcudJOIg2u\n",
       "wpVWaYumvg8v/aolDNHSV/hqlmToOVo3u4WP7/W0OECIx7VBn5feO88a8Tpe2P9i+tNS5bvL1PzM\n",
       "yywpQ8sooAT8NMoyrGNskzxahyp04I8F6jVyTN8jLB7ofCznVpACRffkwAvXrFZ62mOQ9IP6vnFM\n",
       "pOITMLDniKDmRc2sSXVUoFUT5USysRiy4i8VmhPYYlIaR/20q5rhu3+XrlY4HBuob+zwYuZIo6FS\n",
       "gSv7bjRIx+f6r4G6Wd+wsa3GAefyniOjw5J9cY+IU6DEIyIQ689vDm5FtygaKcOMf6yWB0kEkdVk\n",
       "uGq9Ift4vox+5USuFSJTeQB7Ml9mzONy8DosVm0h1NjHmO9d0VH4LeNwN7bZUYJghx7U7nJRNOZK\n",
       "qeCxPa53+D0+PSPWSrsr9kF2YlYB6ogwNGUYeTI4sXs5N+FaPyJQ44dfvww1Z4W6c/S0sNo8fYMS\n",
       "wNrJqIRM3nYsv2YOKw36Tl0XeQF4ckdFMrUiMJcPxd5VVV1lKzQ7ONcyoXs/ElJDC74w4VQc20Zl\n",
       "i2bROT1l8//vQcUalQZH+SFF0yDj70j/WL8I9CWCaqm1VHV9aqiwAQADkwAAAyJBmiJsQQ/+qlUB\n",
       "trp4An77gWiexrgGw22DI+6XDd71LWPOLxLtBmM8ay+BWWA/FcL/POsuSrmr5w8WofEn15RkF78t\n",
       "RNT0yYhQnCoM8dcwTiIUEVCwqW+Yg3jtd1i9q2SM2hpFkoW6AQtJgo6b7HlP1TXuDQwI0OKXiCyN\n",
       "e4otL4vVF/OPi/oAbp4Pe9s3nTSe4l+c7i9hUHfBGbaAyqohxsF9oZiYbrauI0Zc/0v5bpjwNmDO\n",
       "SQSIYv4wpjSKGX7//OKKtOyZXORE9/KhQGS28OM4vbE15CzoazNfEuoGl/zPuwzhXF15Scs3njM9\n",
       "JQ9ycohGi8coYMi4hOYWt+JK/8kY9ZKrW2wyxMc3prWb/BC0mjP6DOx5amKnWHv9MNV5z25Va2Ut\n",
       "zvmacVvkS0gmmLec+CwuNrnYYejf62Do9LRZMaE+UWxzp/CjIWmfEYBBlwW+oAEsw3SvDpMoJYK2\n",
       "GLeQB55eM+XG5jc6Q/YJV1jFVrQZPNyJ1XvNBNYsyM/kTbPT2jM+KUyRZCsojdqK3wGPuDH61RGp\n",
       "zP52JOXIM60j2oeJM95EyHOFaRoDHra0uMFYoHGoCSWDWWGjttdUhstFg9QdI69RRjenzxNSkAQL\n",
       "nA0c1GKdHzlcfkggGG9ruCqcYXECRd8cpg5z5EYIvNCpj6+nuyxxGEqlOLiv0UvgNqfv13GoN/D/\n",
       "89Gxyl/AUfFZSWSmYXj7SX2L3+3vfvMcJEZa5QsOnikaNFE7S8EFScOn4eLR/XeMaf9q9q7u1DSQ\n",
       "lvCfJqblw6VwqWyGAAiW44fqx3V1SzISqOB/dVXDWx1hZ+2+afuq/nOJsVWR/fbDQ1sUUqRYQ7Mw\n",
       "J5Xy0Wvmyk1NX+2QKhT39YA7IZF0RCKlmr/mUVXO6/momc9Zw3cT7x23vaD56hqZe9Dd2mP97HX3\n",
       "HXkW/zf32+fL+CJJvQuhmVKGPiq06pZrug2W8XOlqJjX2V8C3DdTONZNuI3F4EsqP0cwntURIhIc\n",
       "5bxY5DbslNjjiWWsUvB2wZE356xB80pZsKV387Y8V33H4DACfBWg42ixIMLEE/HVWZFAAAAA3gGe\n",
       "QXkP/wCeQ5J4ANqugtByn5pMlJrDi15Led0dRmHzG489ggFHEvZgly1G3CB63M47PIby0Rq7c0hX\n",
       "tlKLkn9amRCz8/ejihUiW3UGcF3z94jiFvTLS2xWrT3kVTN0Xm6AlxXyCS87Yo8qR4r5b2MNr3aa\n",
       "SF0gj+o8npTLJdTBz7cWjabULtsSOs31No8GgX7qsoPQBMntx0Zgp2zGFGsmitLEGew1o9ZSdqW+\n",
       "TvOh7vbEm2Rn6N6a2c9FViohD4wDYbMS5TEaNNvSG87MReHydK0x+XLy1bkhq8w3aQAAAihBmkQ8\n",
       "IZMphBL//rUqgNrF4AAVqnZDzy33oXB417uNj9Ve9+H9psoCmpk9Jdtf/ChsaGXY2oAZYxWQ0xop\n",
       "M41czUXP9a8evEcdn4lyF9v0ufMubLIXgAHzOhOMwMNgvOBkN1bMFvonQdfG3AxnC7mxId03ioOB\n",
       "2yZ5Cet5fWfu5Tmh307yw9WGTxEf9pSb245eXyLJT4/+VhUJOewrYBGNC7Zq3qCxAUEQJO576u2C\n",
       "q8kZgvmVXxe5NHNXEBEe6dkIO+neumhBAPhRCYl6KE7KILNZvsKST5vlglTc5UAfAoT2TDxUGrie\n",
       "7yMkIdWedpAbfvVK06mOWqaM9+hxcz8B1IjC31lCPKKF2bkd2bUjsPDsZjZKrlvLuDI5LvYhpgAt\n",
       "tHwpHM/yo+I772CQBMpgSg9RTXSdbmXp/oDTAv+umgCku1HT35ju9refMDpidLtyH4w8O+ugKo2o\n",
       "6SBzqJFJVj5bde6ppKmiX/WYVaRGj9rXGB+QamaK1aGrDaetnRzD9JfIAF3zwpFKSDiUBm/moIgl\n",
       "/RvrDPLIEJCQf42s6qUlUZ0O+0n6JVUYZThIVQRWNNxi18DFw3/GuBWTmm0CWLdOvSsSGGDjizLn\n",
       "fUzdJuGfwAihM2BM917Fk6C9KCYqRcd+jcAMpnd9pgeKdRQAhv/7YY5rzsEWCzaMzPo0K7SPzP5+\n",
       "1/RFBGMGVAb5livxVZqOZObYfJz0YJSS1ekxDaNjfsmz9vQAAADjAZ5jakP/AJ5NySeADaroLfHz\n",
       "Tk+tTdKyyB2soIZHEM0n4NgVbhun+xtLoIDpn+TjpAi2qmyM93oecV14ibY4anL3fcQ0hcECXUbM\n",
       "PpbzPd8V7cPsY9aGl/ZWrfTEcsMEn/nRY5yVTLXPboSDHa1arbSKSlVWQ2SL3+xnvkzJlHXQRyzt\n",
       "4FNUvnjhn//xHq0odtBWIhmYSV2xLOy+FJmR6JGZEwhggwzzVKiKeul91OPA0d/FOKSKHoZbGw3J\n",
       "MJ3yl9n5W1+0a1T1ZR89eFXSrG5rhJ1YYpwubIuorIYPSebDPEEAAAFXQZpmSeEPJlMFPBL//rUq\n",
       "gNrkJqAEYMCtmmvnWDd7Hnfjew32xk7rIXn5FGU+bSGsor9QisgMPOE1aNxcbVfZOWq/6aopuGFb\n",
       "SUkZoMikgxJnmVJhJm1MNXi1aMj+wXYbMaQ1o8E0U0EIsgX4Vk7Evy8YsIchHuFXVUs8le97jKAD\n",
       "63yhhPCb1qLYFRUpekO9TaDR2diEYh0ja04ytZjWCy2McNUnJNR5W6HY4X/nZumzF8hwPmoU1y/b\n",
       "q4q5q3qINJDFSbnQdFdttOk00qMlQMOPfVYVMW1JxYw6HHJt2HFwnhQ2BdpX8PrwYJzyCu4gRotf\n",
       "fz0sOMwQMpFwce6BCsCB8YgGukRLcPUazd1vfy2uVDz8G8m7B/6L9X8Gw8HwONm7VRlBt9b9ASZM\n",
       "FAT/6ZMpS9IhLHjoEhBWvSq2sbKui63//APhtdOtSo+VBoVHDJa5QXIR/wAAAKIBnoVqQ/8An0zl\n",
       "3gWGnqfgf1hlJEAH9GEp06pIKSobmxxS0n1Lj7Y9xd4UyS8bpMHoRHIepnjEXDjzu/1YoLnb9Hj7\n",
       "xgzLwA6kUztYc0flsxP+N3TL5bX9BvFZsyjm3MwMnh9MeXrbWSjbDEFZC/Vjh0XEPfWws15iOYYY\n",
       "WjSl7IJ8vUjnOtW2gy4s4Wd+weREjUXtu+jrIMTZjOzQNALQukEAAAFQQZqISeEPJlMFPBH//rUq\n",
       "gFpflPy7KACWryi77g63CZnXz5N23S4udmiWAAC5qRB7KhUuZ1ZzrI58nPdP4sMkaqQPFpqW6ek7\n",
       "ikei8ksI53bWdmEB+a0N4agTjY61euTWEU/iUtwX6Jhx4OLDfJMNB/SVBqoJUYDxfo2qs7DRRl1x\n",
       "ZEnlydtV5V8qDf8+iuFlFBqq8Rrc9pZcHpQh/ciN0U/bSBz14+4GoooZaKd/ndbJH53pIJzRyt1f\n",
       "i7NkWDuQ/f1fM5pYiNMbyljK0gfml/9mYEzyGy2Z/f+ItZnUsbMyQe51hl0666+Rlb7d/U4W1niK\n",
       "e13M0dAqgCky8c/M96gNuuDab+Tmm5hVNghzJA2mje4njUaCET3MHyLMBsCnH5X1vDCgmpgYMGsH\n",
       "6GAsdNotO720RoYwyVqmhSXSlkq49DUYYVk5s5+67QaXr2JBAAAAqQGep2pD/wBxb4kfQ26QRzpW\n",
       "gA/gc0X2heHrOH/ZVZCdodaRuavKUoyJlt6u11+HhaJThdqBaTzs0vRhYTPXpnxFzhfiNOdDHy81\n",
       "NSSWYTTBhLX3d8R4ffsN2Wn9oZw+sbFqp9mwoxQ0q6+P20CnK93WPpKDVDSmHB5DwrvHPrShjG8O\n",
       "a24vnZkEDYywS7VKR9+Yl9i/F7opL1JZSbwo1jzhaMDuv8Sy7jIAAAE/QZqpSeEPJlMCCP/+tSqA\n",
       "XE8NgwA4sOWG+8ExR+ss7/HIXGdLuZhhWRjX9yCnmG2GHksYIjDd7ftfFXAIEqZqIghTOctAS1q+\n",
       "Ui5jHaCG+rB0U/Q+SLUm+TM4PHcmEBXaxh8qb4sbqe3QMwGgbiFmmEEY866yCWNPmxAW9ZqCm3eR\n",
       "Y5n5fMo/KeSr981+NBN7le/lZfiXypcWshF7UVd038vYV5Ojb9OD6RLYRM/u01lPxc3tUzoOV4ze\n",
       "Rvjq9dnfhhQCQ8Ci2/NcdVpmdw6nwmI3JzZGTOOOtKpIO+8FlPkIoxOdzhjSv13PtLBffcxGWepa\n",
       "gyj6I+oM0ber/MFurgvB9XObSpp7bHHGM+uY9cOvgI6dnpf0U2Xbs9Rzqhh0PPl5V9JSOoKYxuQ4\n",
       "VjooWVTEiC7oaT2TbH2pnqWogAAAANBBmspJ4Q8mUwIIf/6qVQIBF+h8mvdL+57K/jk3VqZYAF/m\n",
       "otiXriHbH9WXTi18ibrkYA0kK+mRneofWeV+DLfP3Mi/QCzP3QboQbstXfDzFb02dd+uwl44jQ7b\n",
       "EpTyJnh84CX8IkM4woCAZzBogEbd4KGuG2j5+1oyjXFpq/T4AktnFDgaeCxtQUCgkOfLT692h6i8\n",
       "ZLP4VDwaP2UXjAN3fBkYQdy9wCLgHhRIlptO7TLS7VekplSlrEcvWmX1i6K+38gxd0JUhvqkrf9/\n",
       "x5yBAAAA40Ga7EnhDyZTBRE8EP/+qlUAtH7ARjb+YACWrhODNHfEEYCMZD/6mf+VERlZyU4X0eO/\n",
       "KW+eSjH1+vNnu6m0A1n/A3xx1fVp1LPz08atidRaBr2pgSe3hKIjD8j42CjIlodBq1syOygptaOW\n",
       "Byz9UFB1DgwvgryTcHUctRWH1yMEw4+fT/DSPnbowQ5ax7H8e4j5I9ZG2jAp+haDQBWGI/IsICwy\n",
       "Jbpl9BStUH0U0b7Jbe12VagsHNlT547Fltn6nnbkVTjnYjhKsUtcle6gqNrwKJ9npHjEy/j65YQr\n",
       "jkHjMPz/AAAAuAGfC2pD/wBxb3v4WdPABCnqoaFv61G36WiMr4xsXGFzG1Vawq3kgLogOJrCXddo\n",
       "npA+CPjZyplninqxuPzPLNe6W30+6wGEjAvGQS83x7eeTwCtbH0RrwCgy4waUekEiNIctTrAyhRM\n",
       "H9wT247xk8/fMlasXaJK3YxSNRk0wed9kimy7aKP3Ck2amElN6nymBg/0heiJaDVRaQXW+Kuh8gF\n",
       "5OsGp7kSD5Olv02TgI33H44Lsg8/uCAAAAEKQZsPSeEPJlMCCH/+qlUAtiLCAALp4XUxW4jghbO2\n",
       "1lUkxjYmBgUgy2/xuV46b2FE8a491BjlBhve1MAThnvxWQ3z48tCtgGBjwVYIC1vnCH0KA3r7nLk\n",
       "beyo7k3/56nBoxdZEs+EWUyYmv8lHaW0P19PWGjnndWVal1V3uEvhJ1HKmviTpOs03Ifp8+amsYz\n",
       "NoQoeUm/Adf/P/L3Lk5gLy0Lh8doibVxZvtxur6elc6jDeedn5/q7VmMTsO4HIbIjBV9RI0I00XW\n",
       "OF5PvPYL0ZfEWz/PZNAKCAGkLMtKm9zeZFEdBM7/yBQgDTSadBtu3BieM3SaYRTVfJPKwvS42CjY\n",
       "N/hHYBEXl0cAAACUQZ8uQh//AHSlMAEQcO8Bn6T0T5J8xyhlOcT5Yn/DBN7IyKiu9Fd8IXVcHcqv\n",
       "Qqcp36BNutQVx6dokJqVP5o+8hIE7uNpsB/cCjmLOJATAPe84f+nHhkVnFYmkKPweH7xmMv0B8Kz\n",
       "T67vXRlqb8TfPThykwNPJ0Kvfd5/SXLSnwMlDVAMSP+8MtI8s/aTkjF1riI+gQAAAJkBn01pEP8A\n",
       "cYl8vKi4ANpQ7YOzH6SQ6y1hN4SN3FJOOaj/xkgnoBjIW/BB87WtCUpdwHpTds97zj5ldEt+Ralk\n",
       "FfUtlkwSZmBk93Nr6pcmWdDrfgNr+C6EIvngSClDeNyftVVOwy+4AUrq8QmQ+M4PZPQgFcZP3sOh\n",
       "ghDv6MH7vmjBUw6sPrm+mlYzWlL7vvUdq6g/BeAE3YEAAADYQZtRSahBaJlMFETwQ//+qlUAtJMN\n",
       "GGZKAAW8SKoOJuCvLAjQxzh5u4eij3Fh2J86WRaxdT/OjJKNlkNuVl1daUYLICasm4yw1tNh8VfO\n",
       "I+2OPGh+m9fK71oZoWi7+agRdpypnsDzd1INlE95BiCoD2pjbO2Kos9dOKvghLyE8Y/M8l1K4IKY\n",
       "n8uSELUbdYAN2LWst0WK571TpUjAIgh63uV0+CcxBCZ0KsrToxFjKHCw149dqaWpjSxlI7YzDIfF\n",
       "xkhct6/rUSiGnTzjqEVjGNPa4GeuumZwAAAAeQGfcGpD/wBxaJCjhx1QAbT5Dj9p0n8Z6QbJTdGz\n",
       "/KWoIUXB0ZfyCyZLVnD4XzQjCjHKbK1hr4+fTFDhyLQts97zi2EUxTAsy+h3fnXu/EuW0qM1kXTH\n",
       "VJO7kVkwu+As2IXxhTG0oCHh4LH3/qgStqn08iBAoM/7FZAAAAC7QZtySeEKUmUwIf/+qZYCj+HB\n",
       "LTpgAuobOAZ2jMMLxsp4P+Kw1DbRh478Ztft0QRAE5SSSuVQPTSYrlezLSI5zTr0GHcYT1h+PbQ0\n",
       "+1jbcC+xBVMm8LmxZ2DT/dADILPaGNKvLwexZFJftmen30WQJExYQZHT3uZ9lTB8mf0Bh1OBhich\n",
       "atfUl/UO8rhSGuPhe0/7g5+Fpn6P087g9iF4Hc6OMnSB2Edu+hG5V52pGL5VG7OvhUdtgQ4sSQAA\n",
       "AMVBm5NJ4Q6JlMCH//6plgKPSVaiOACFPVR7LyHdwuoKA3K+a5R9fT/uDVU1tElF2HQMlyT2DoBH\n",
       "/HXXBrHGgdhQBHrorYT+IqXcfO1bq/qY2KVi37f6mUA/57Ca6bVauv38YgCCdFskDr5Lh2zDku0n\n",
       "I8+T642hYQdgl/4a6q8jbZtlOWuFgckovV+2cBfBuYcG9BMvTg4DHQf4N3bNyznOYklQMp2T9DBw\n",
       "F8UVUga+2z1vvlxiLrJgdn90IlxCSLrRGvFR0AAABA5tb292AAAAbG12aGQAAAAAAAAAAAAAAAAA\n",
       "AAPoAAAPoAABAAABAAAAAAAAAAAAAAAAAQAAAAAAAAAAAAAAAAAAAAEAAAAAAAAAAAAAAAAAAEAA\n",
       "AAAAAAAAAAAAAAAAAAAAAAAAAAAAAAAAAAAAAAACAAADOHRyYWsAAABcdGtoZAAAAAMAAAAAAAAA\n",
       "AAAAAAEAAAAAAAAPoAAAAAAAAAAAAAAAAAAAAAAAAQAAAAAAAAAAAAAAAAAAAAEAAAAAAAAAAAAA\n",
       "AAAAAEAAAAABsAAAASAAAAAAACRlZHRzAAAAHGVsc3QAAAAAAAAAAQAAD6AAABAAAAEAAAAAArBt\n",
       "ZGlhAAAAIG1kaGQAAAAAAAAAAAAAAAAAACgAAACgAFXEAAAAAAAtaGRscgAAAAAAAAAAdmlkZQAA\n",
       "AAAAAAAAAAAAAFZpZGVvSGFuZGxlcgAAAAJbbWluZgAAABR2bWhkAAAAAQAAAAAAAAAAAAAAJGRp\n",
       "bmYAAAAcZHJlZgAAAAAAAAABAAAADHVybCAAAAABAAACG3N0YmwAAACzc3RzZAAAAAAAAAABAAAA\n",
       "o2F2YzEAAAAAAAAAAQAAAAAAAAAAAAAAAAAAAAABsAEgAEgAAABIAAAAAAAAAAEAAAAAAAAAAAAA\n",
       "AAAAAAAAAAAAAAAAAAAAAAAAAAAAAAAY//8AAAAxYXZjQwFkABX/4QAYZ2QAFazZQbCWhAAAAwAE\n",
       "AAADACg8WLZYAQAGaOvjyyLAAAAAHHV1aWRraEDyXyRPxbo5pRvPAyPzAAAAAAAAABhzdHRzAAAA\n",
       "AAAAAAEAAAAUAAAIAAAAABRzdHNzAAAAAAAAAAEAAAABAAAAoGN0dHMAAAAAAAAAEgAAAAEAABAA\n",
       "AAAAAQAAGAAAAAABAAAIAAAAAAEAABgAAAAAAQAACAAAAAABAAAYAAAAAAEAAAgAAAAAAQAAGAAA\n",
       "AAABAAAIAAAAAAIAABAAAAAAAQAAGAAAAAABAAAIAAAAAAEAACAAAAAAAQAAEAAAAAABAAAAAAAA\n",
       "AAEAABgAAAAAAQAACAAAAAACAAAQAAAAABxzdHNjAAAAAAAAAAEAAAABAAAAFAAAAAEAAABkc3Rz\n",
       "egAAAAAAAAAAAAAAFAAAFEIAAAMmAAAA4gAAAiwAAADnAAABWwAAAKYAAAFUAAAArQAAAUMAAADU\n",
       "AAAA5wAAALwAAAEOAAAAmAAAAJ0AAADcAAAAfQAAAL8AAADJAAAAFHN0Y28AAAAAAAAAAQAAACwA\n",
       "AABidWR0YQAAAFptZXRhAAAAAAAAACFoZGxyAAAAAAAAAABtZGlyYXBwbAAAAAAAAAAAAAAAAC1p\n",
       "bHN0AAAAJal0b28AAAAdZGF0YQAAAAEAAAAATGF2ZjU2LjM2LjEwMA==\n",
       "\">\n",
       "  Your browser does not support the video tag.\n",
       "</video>"
      ],
      "text/plain": [
       "<IPython.core.display.HTML object>"
      ]
     },
     "execution_count": 785,
     "metadata": {},
     "output_type": "execute_result"
    }
   ],
   "source": [
    "num =0\n",
    "animation = animation.FuncAnimation(fig, update_hist, 20, fargs=(num) )\n",
    "HTML(animation.to_html5_video())"
   ]
  },
  {
   "cell_type": "code",
   "execution_count": 786,
   "metadata": {
    "collapsed": false
   },
   "outputs": [
    {
     "name": "stdout",
     "output_type": "stream",
     "text": [
      "Iteration\t\t    ClusterSize Freq\t\t\tNodes in Cluster\tCluster Heads\t  No Cluster\n",
      "   0 \t\t [ 17  15   7  12   8   9  14   5 128] \t\t     1285 \t\t   215 \t\t    0\n",
      "   1 \t\t [ 16  14   7  11   9   9  13   5 129] \t\t     1287 \t\t   213 \t\t    0\n",
      "   2 \t\t [ 17  12  11  10   8  10  11   6 129] \t\t     1286 \t\t   214 \t\t    0\n",
      "   3 \t\t [ 16  13  11  11  10  10   9   7 128] \t\t     1285 \t\t   215 \t\t    0\n",
      "   4 \t\t [ 14  13  13  10   9  13   6   8 128] \t\t     1286 \t\t   214 \t\t    0\n",
      "   5 \t\t [ 15  13  10  11   9  15   6   7 128] \t\t     1286 \t\t   214 \t\t    0\n",
      "   6 \t\t [ 14  13   9  12  10  12   9   6 128] \t\t     1287 \t\t   213 \t\t    0\n",
      "   7 \t\t [ 12  13   9  12   7  16   8   6 128] \t\t     1289 \t\t   211 \t\t    0\n",
      "   8 \t\t [ 13  11  10  13   7  19   6   5 128] \t\t     1288 \t\t   212 \t\t    0\n",
      "   9 \t\t [ 15   9  12  13   8  17   3   8 128] \t\t     1287 \t\t   213 \t\t    0\n",
      "   10 \t\t [ 15   9  12  13   8  17   3   8 128] \t\t     1287 \t\t   213 \t\t    0\n",
      "   11 \t\t [ 15   9  11  11   8  19   4   7 128] \t\t     1288 \t\t   212 \t\t    0\n",
      "   12 \t\t [ 18   8  11  13   6  17   6   8 127] \t\t     1286 \t\t   214 \t\t    0\n",
      "   13 \t\t [ 18   8  10  14   7  16   6   8 127] \t\t     1286 \t\t   214 \t\t    0\n",
      "   14 \t\t [ 17   8  11  14   7  16   7   8 126] \t\t     1286 \t\t   214 \t\t    0\n",
      "   15 \t\t [ 17   8  12  13   7  15   8   8 126] \t\t     1286 \t\t   214 \t\t    0\n",
      "   16 \t\t [ 17   8  13  14   9  13   7   6 128] \t\t     1285 \t\t   215 \t\t    0\n",
      "   17 \t\t [ 18   8  12  13   9  14   7   6 128] \t\t     1285 \t\t   215 \t\t    0\n",
      "   18 \t\t [ 16   9  12  12  10  14   8   5 128] \t\t     1286 \t\t   214 \t\t    0\n",
      "   19 \t\t [ 17  10  11  11  10  14   5   7 129] \t\t     1286 \t\t   214 \t\t    0\n"
     ]
    }
   ],
   "source": [
    "count = 0\n",
    "total_nodes = 1500\n",
    "print(\"Iteration\\t\\t    ClusterSize Freq\\t\\t\\tNodes in Cluster\\tCluster Heads\\t  No Cluster\")\n",
    "#print(\"\\t         \\t    0   1   2   3   4   5   6   7   8\")\n",
    "for row in data:\n",
    "    \n",
    "    cluster_nodes = 0\n",
    "    cluster_heads = 0\n",
    "    count_array = np.bincount(row) \n",
    "    for i in range(0,len(count_array)):\n",
    "        cluster_heads = cluster_heads + count_array[i]\n",
    "        cluster_nodes = cluster_nodes + count_array[i]*(i+1)\n",
    "    \n",
    "    print(\"  \",count,\"\\t\\t\",np.bincount(row),\"\\t\\t    \",cluster_nodes-cluster_heads,\"\\t\\t  \",cluster_heads,\"\\t\\t   \",total_nodes-cluster_nodes)\n",
    "    count = count+1"
   ]
  },
  {
   "cell_type": "code",
   "execution_count": null,
   "metadata": {
    "collapsed": false
   },
   "outputs": [],
   "source": []
  },
  {
   "cell_type": "code",
   "execution_count": null,
   "metadata": {
    "collapsed": true
   },
   "outputs": [],
   "source": []
  }
 ],
 "metadata": {
  "kernelspec": {
   "display_name": "Python 3",
   "language": "python",
   "name": "python3"
  },
  "language_info": {
   "codemirror_mode": {
    "name": "ipython",
    "version": 3
   },
   "file_extension": ".py",
   "mimetype": "text/x-python",
   "name": "python",
   "nbconvert_exporter": "python",
   "pygments_lexer": "ipython3",
   "version": "3.6.0"
  }
 },
 "nbformat": 4,
 "nbformat_minor": 2
}
