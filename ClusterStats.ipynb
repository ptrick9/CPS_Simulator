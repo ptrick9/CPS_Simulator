{
 "cells": [
  {
   "cell_type": "code",
   "execution_count": 37,
   "metadata": {
    "collapsed": true
   },
   "outputs": [],
   "source": [
    "#THIS IS A TEST FOR STATIC CASE -- NOT INDICATIVE OF MOBILE CASES\n",
    "\n",
    "import os\n",
    "import pandas as pd\n",
    "import csv\n",
    "import numpy as np\n",
    "from matplotlib import pyplot as plt\n",
    "from matplotlib import animation\n",
    "from IPython.display import HTML"
   ]
  },
  {
   "cell_type": "code",
   "execution_count": 38,
   "metadata": {
    "collapsed": true
   },
   "outputs": [],
   "source": [
    "numCH = [None]*200\n",
    "with open(\"Log-clusters.txt\") as csv_file:\n",
    "    data = list(csv.reader(csv_file, delimiter=','))\n",
    "    count = 0\n",
    "    for row in data:\n",
    "        numCH[count] = len(row)\n",
    "        count = count+1\n",
    "        for i in range(0,len(row)):\n",
    "            row[i] = int(row[i])"
   ]
  },
  {
   "cell_type": "code",
   "execution_count": 39,
   "metadata": {
    "collapsed": false
   },
   "outputs": [
    {
     "data": {
      "text/plain": [
       "<matplotlib.figure.Figure at 0x2f21d7d9048>"
      ]
     },
     "metadata": {},
     "output_type": "display_data"
    },
    {
     "data": {
      "image/png": "[encoded data removed]",
      "text/plain": [
       "<matplotlib.figure.Figure at 0x2f21d9d2860>"
      ]
     },
     "metadata": {},
     "output_type": "display_data"
    }
   ],
   "source": [
    "t = range(200)\n",
    "plt.plot(t, numCH, 'ro')\n",
    "plt.title(\"Total Cluster Heads at each Iteration\")\n",
    "plt.xlabel(\"Iteration\")\n",
    "plt.ylabel(\"# of Cluster Heads\")\n",
    "plt.show()"
   ]
  },
  {
   "cell_type": "code",
   "execution_count": 40,
   "metadata": {
    "collapsed": false
   },
   "outputs": [],
   "source": [
    "plt.figure()\n",
    "\n",
    "def update_hist(num):\n",
    "    plt.cla()\n",
    "    plt.hist(data[num])\n",
    "    plt.xlabel(\"Cluster Size\")\n",
    "    plt.ylabel(\"Frequency\")\n",
    "    plt.title(\"Cluster Sizes at T=\"+str(num))\n",
    "    \n",
    "fig = plt.figure()\n",
    "hist = plt.hist(data[0])"
   ]
  },
  {
   "cell_type": "code",
   "execution_count": 41,
   "metadata": {
    "collapsed": false
   },
   "outputs": [
    {
     "data": {
      "text/html": [
       "<video width=\"432\" height=\"288\" controls autoplay loop>\n",
       "  <source type=\"video/mp4\" src=\"data:video/mp4;base64,AAAAHGZ0eXBNNFYgAAACAGlzb21pc28yYXZjMQAAAAhmcmVlAAAoCW1kYXQAAAKtBgX//6ncRem9\n",
       "5tlIt5Ys2CDZI+7veDI2NCAtIGNvcmUgMTQ2IHIyNTM4IDEyMTM5NmMgLSBILjI2NC9NUEVHLTQg\n",
       "QVZDIGNvZGVjIC0gQ29weWxlZnQgMjAwMy0yMDE1IC0gaHR0cDovL3d3dy52aWRlb2xhbi5vcmcv\n",
       "eDI2NC5odG1sIC0gb3B0aW9uczogY2FiYWM9MSByZWY9MyBkZWJsb2NrPTE6MDowIGFuYWx5c2U9\n",
       "MHgzOjB4MTEzIG1lPWhleCBzdWJtZT03IHBzeT0xIHBzeV9yZD0xLjAwOjAuMDAgbWl4ZWRfcmVm\n",
       "PTEgbWVfcmFuZ2U9MTYgY2hyb21hX21lPTEgdHJlbGxpcz0xIDh4OGRjdD0xIGNxbT0wIGRlYWR6\n",
       "b25lPTIxLDExIGZhc3RfcHNraXA9MSBjaHJvbWFfcXBfb2Zmc2V0PS0yIHRocmVhZHM9NiBsb29r\n",
       "YWhlYWRfdGhyZWFkcz0xIHNsaWNlZF90aHJlYWRzPTAgbnI9MCBkZWNpbWF0ZT0xIGludGVybGFj\n",
       "ZWQ9MCBibHVyYXlfY29tcGF0PTAgY29uc3RyYWluZWRfaW50cmE9MCBiZnJhbWVzPTMgYl9weXJh\n",
       "bWlkPTIgYl9hZGFwdD0xIGJfYmlhcz0wIGRpcmVjdD0xIHdlaWdodGI9MSBvcGVuX2dvcD0wIHdl\n",
       "aWdodHA9MiBrZXlpbnQ9MjUwIGtleWludF9taW49NSBzY2VuZWN1dD00MCBpbnRyYV9yZWZyZXNo\n",
       "PTAgcmNfbG9va2FoZWFkPTQwIHJjPWNyZiBtYnRyZWU9MSBjcmY9MjMuMCBxY29tcD0wLjYwIHFw\n",
       "bWluPTAgcXBtYXg9NjkgcXBzdGVwPTQgaXBfcmF0aW89MS40MCBhcT0xOjEuMDAAgAAAEdtliIQA\n",
       "Ef/+94gfMstp+TrXchHoH/213hMs2jtYR0UbK2AAAAMABgtATXe7zOthvp2pxdZuWXQnaV97Q4dS\n",
       "54hhLfK7K/7jqUbejffQa56SXgzz6Hu4uID7XgXkeqQLX+MJothIGYorVTVKebe0HWCFWOrEdPST\n",
       "fRmxbED/UayMJ67GNqHpMmnfx1n2VVm2zF3t2yB2hHMatEOyD4KUx4LFZ19u9aPb0j8bMMAk8i4m\n",
       "FawAVnUofb1N4fT2+X/IXqtZDCKBJTVubqnN1NarK7Ldmhnids3NPtwMBYuks99TGDc1OQWP+HtM\n",
       "h+WdsbgWvWEzytaqKn/vgMnOfPSM/icPUk8U2zCS4Gtb+BRlgiXEm2zYek8fDPYf0Oxd1uvId1mO\n",
       "3M/AcYupyWKuHWDZ4DlayTxmN55acNdUo9beL71vGLRXONgpoeHPkqcwC33pMDejQky3qpm2BIjM\n",
       "tpIEN9kyi5fT6ISHkKR8IvzqtfhysbrY6+CQvvxGW0ZeQpDLQrehH7QrCEytz/0KthfWrOUHKKV+\n",
       "JdGdfS2oYoD/GyVTAk3X8gQxTLBDCOH07byk8ndy66hRJHPGP3o+qpxEgQnCpSHOPF1rtwkdFWei\n",
       "1DmvV6oUTywhMIcw+ljrSIs9hNpj9QGeCNgfZyz986Scu1spemWNORhWiatQWHiIyP+ixET5fsOT\n",
       "BVyKWHl26Mprg1En9thGt0jTIpS2wVIeU/SpB/klUc7DGuf6RwedLj6kMmnxb+VoJlFK+e93ZIxY\n",
       "scz03lZkYo3WwI/YSUhYXO5zLPw9hsOCnwCWo9GGgNlXO5sVRpNq2JTWVT8CDADu/Oe2VpEzbVFy\n",
       "LZ4RSRukFR47v7VcyuPVzDU6L9/J7ZxT2sDUhYiuzavlflIWUvZ6DJhNgnuCYRmNjt/m4p+7Ao0y\n",
       "feBRxWJW9nA6xM7evspXoMEjliddhL60AtIeIpYs38zkqGELs+tGzsG1FbFvwS72mXSncKSUVsAE\n",
       "96S+9WbbD8uua1D02ff/6Dc8HUMPAQ5uB5ePN39gT+ypa9P/QAnQ05825NNCXSlMxozKoIJ0etpV\n",
       "TMI3DFVQl5CQXDRw+cXTEYnKb1ikWqbIRrzcvsoEtKG1D+eyQ7P/aSz9nIyW8zJXJuK4fHvLFIVK\n",
       "CQ7/+mkFx4BacpSOYm8vczj+7EpukBdW/elT/9ia7/LvVaZSjJt9rcwi0EoeDYxKPK7WqScgU6u8\n",
       "quh9qNAPKlDR8nKFtsO+uSu3U37plGEb1iHBT+3S+SBo29PIJMduJGY0K+zATdeVubt8EbQBxKlt\n",
       "oHJPMIC/f/+UaC1L37RaIGVj7NGLzPD0pMlV7Wt6JCvasvFkDGM04Ri6uTboDz7840o3mLX/vO50\n",
       "dn1us9F1wfwj31NnP+dxprjiT0SzLtTnOZUtpWcNMzdNFOed+I+13a3Bs0Lx+PiEFIIGUNDMQqId\n",
       "ObjzTqmkHDrp3UAzzN0gjI2lH2W8TueGdjoUvH0ep3lPhpwZl1VioUmqdLiWa/jRbUFRS1EfIaXd\n",
       "GAVke84JecCRlf8nUDFfJms5dXqeOKUAGlNhINYVX+/lMIsWB1D+L6BrcirsKXyI76mqcWSoc6Nu\n",
       "QtrIh4hh/7ccwg9sDUutjjvCVQjaei5UENbO0aAVcrDq3XCHBZ5R+5XIYEvMazF9qRzeWwX1KKhq\n",
       "LPnfj/VpIV8fg5wq7lXKOs3pehRyYDOpp+AaHI+/NyxIECSpE1IL+x2tm3P6k7dKHAqPEn37v04a\n",
       "NmVrei5ru0yS3wRTB0yE/32iVdGpEjjwtApAFyts3uU2QbIR8wDdissr2H9/dSHt+cRXEna+jK//\n",
       "O9eF49eeCAV+CYOPEcIhMpFthl2umzqacTXXvVG+w9CBXqJtUIwCqXHtJcwS/7u9/U67p/djzd8j\n",
       "hyx63bnGg3s5TW9AXz8meUeHgnLcVcuUxNfVf/xBHnnlUpSyyc5nhJ7n2MYTZufXd4xP+oyltwPF\n",
       "+vaFaYgitPJHrlo2SWzKEvdRtji+ZGqHSOlt9YpeL2irdZb+GD7+qPDOjbS9PkPiU4P6hG+d40ZX\n",
       "YayR/HZ5pciwI2+N65Nq9p52VguJNJkvrkcBsxfxmrMAUHRPwGgAYVYZtXlyNSMbjQ/lWJYJCRdu\n",
       "VPAonWrRXDMhND/hMDvjEvKl5q577r4EpkFSWmpN13bMkTcJOmTntUjcQZV1RB577ig9FWoQr1u+\n",
       "PRE1LXlYXpNNMvo4yMPuItKzj7EkpcSP1VKv8WBGHV5G7+Xl1OCxN2KsyJomFSelGu32akL5/uwi\n",
       "F4LCZRkatnaRxY4zGjgCJsFonpQ0YhfOjgO7ZYSStNCx+JwWtNP/bm9OSa/LF195IrzMXG/4UC3Y\n",
       "HGUEOih/q4FVtXQzIBnPemBxTxJ5U4E1hXvCsF3CFPV0z3aS0OIJoPV2CRg5tXydo+05iu7HfGg5\n",
       "SoMovV0OfJwjuDXIbibCTlNjK73a3cioMID4oXSefoXfiOSorwkcNkWFPLulG8o9r1ZSXUB7VZma\n",
       "RBiqB2ufpWhCr4TZTKDcQl/NrM8Rd5mwOW2Y1mh3vygnqW1CjNRE64Pqtj+/fagBit9h6R0gDcFm\n",
       "Y24p39LysnhTcFxu5/DzP2PL9U/BI0HdEnz1nrLlgi1kv68Rt6We2WK+iMlAE4Vrj0Fz5YbGTi2s\n",
       "RT4mf1k+ls1R/6S0sTv6c1i///fbTUvK1agC7y8G8tUq6K9YQd/l7BVPh2XU6qE7kLqCvVtHdlx1\n",
       "zD2g9lDTgPPvx6y2BhSP9GdKX0Di+4rZrMqQ25IeeCYOgFHhYNu81SNPfXiMgMmSmZDcLlE+aGuD\n",
       "FU41wIwdWMGTUWQ//2BoTyzIxDQ7dY9dLOa5fF272HevDVlIomYNOYeN11ym/uPlGjBLJS5KdD2i\n",
       "Uq9WDUtGZun4PeuDh3NRsC8HkKXxevSLDhUX9O+tr2OeRmjOV8EzjOsEgPb6ZVv5gS8iNE9jTEl8\n",
       "mAOf/OjMfmbDWzjGRXYzfUBWu00xeSZfTrt7hicVX5vrDK5x6BK7KANs0AkYhe7a2NwVS+squ8R0\n",
       "70Knq7N+48hh9x99ywHKfB0hh8QeMKj+IpFU5Q7f0bdBpPTIO9PLCmJy9SnoRJyuFyC5toSCzDWC\n",
       "59j5y7T84s8+VF3chmAwNkZQP9D7uV+qLmuSfRRcF2nTffPfMTkhiw9Y5DBAGzpf2GGkQqUjShHV\n",
       "WOB8KmZ06zuWqpuIiPXA3pnCMHdsuFvTfWxHY1S/D3AN4TFa1sQko9c8zxdnRpGPAIPZf4+cqqQ5\n",
       "0VfjkHhZa3BIb/eGdhCb7dZx/pOfsdosOWsrKzuOVTSRfJdzWgiDgedc7EzQJjtilzgCrp1rZWjG\n",
       "Cg6gBWw4Rs66qkB7BMmK9m00kjzGjwaU1K1piQPvah+lo0eeBsPcslaZUHXp55J8t2OQ5kwEzYUq\n",
       "lj/cAilL/2GxeyLwjcpnwTUudsqwn3+weIfrU7ab5YHRSU+kITy7ILMwcqecApBpoRPmXy/62bwM\n",
       "9rvet+RjWyffbVOQp25PiqB1XViJEMVEOGtDO0kYy3AEmXxAtwuaYijqh3ukGx681jbVgucPQomh\n",
       "zE+glDrgm5vU8cWzvF5pATp+RH6FPb+eW+qdqL3pKvS3qhw3aHWqFPzJrOQ5VDQUB3fYo//0KEnT\n",
       "wJwweNGe/Q7X7C6z9qFRXGccIczvyjM9wUWJXeX5gJIRZ4rYoLrKLU5F7QeXRXNCUBpNICr3jxVb\n",
       "+/TvI42NUFsrwxIHc32BKzcQG1y5PwPCD5wPsJjI7gFJyO4JRJjOR6hQ+0u4VP8l9NUoHwRGMw/1\n",
       "njtoCjUMC+5bxGbFFXD45nfTvoJ+vsbKWI6HOr+YiQv346LHxgW1AzlKp7bYmfvv5n8bgw819feS\n",
       "K8zFcM5tIde48mF7Nmrbhr2vY8OYR5SM+JAnI8CuSpuz4XYBuRqFhtsd+BfNodsgOjrMploKvxk3\n",
       "GwYGq28ouz3YHtzh20AsNgd8LgyKvp/9zVUArhLh23dcJoj2jM9/LEUXd0s9ykEzJQdWjPMv3jsg\n",
       "cr81qYYtAkGJV3ISxR3cc4ZGEr5cuYuzSpBpceF9MdVZkmXLzZ/8kZXin5p+IuZipSxaUf0E0Mth\n",
       "+Ik/1TgtX7cygX4oSxfTxerD6cVh3IeflrZazu/3ReA3R778B5ynRxkND0eU0ypzZy/om0aMwxQ8\n",
       "oWdisiY80FjJ0MvlLGLlizcEyt0zVqlrCTfz+WI706e96fcMrklztTs23GtK4Fw1PSuFAh65nK0E\n",
       "NR8Jhk3/tiNvjuUnINErRZiDgFYHmzWqiuoEkNMaHFNlwLDZu/nPb6Gfgz9RjFcu+tAOV1Fzh45m\n",
       "FQzA/9ekc2IFa5Jp3ufyrkU88YzRd+NPcAVFzxNXCJKwYmfGckNGFjtc8XN9rSt9lYCsZkwydM7D\n",
       "Dy/PDKf/vdS56W8ShCxHVIM8oUsMd7zQWJYSvspwqzrvjSezw8uAvQSlmV4ZJ1QjEeQaGMxrxYo+\n",
       "h01rEv0n3A/bfD61ZrCYP5BS83JrL1HPtp2E9N72Q10YFbwPbQj61jj+mvavIAt0FJ5+51ueIKPJ\n",
       "r4IyJMpO0FXnU0IZSX4OGf/03XtOarjBC4PykI1J2suSK9dwm9VVqV+8LlnniSaWLBbHbr74LcU3\n",
       "z3osmhSWgX54uU0lVECWj0KFRN2Bmj0tpkTuMLKg4gBciXkstJ/pUnzqxKGonPSiOFt90M2yu0sL\n",
       "iba35JzJXhzroSguSFhkKgNGjSGxoCCBR8Qtp3tTKMpKyNK6hnHXLujrI1Pq4gK03toJ1+FouW8Z\n",
       "DWlPx8SpT3BaiX/8AW+ywuxJzPCE1r86FGbir/hU3JMhmCZhAlALpT9uKIhCOQDQ7NHjP3DiZzdq\n",
       "skClbymHqdz4Cbb7meq00k+A4v81lYQtPQcTHhy97IP99p/zuv29CaIhBzHhMXECLwvUl9D2ZjVW\n",
       "Tzs+p6sxxiGYxWy6k+Vv8IFjlS7ijmprk+gXaPcNeow3iwJq0s3eZq2LOUtZot+cJf+0IHTIXF7K\n",
       "/VVeXmUVujz6KrEoDWi/iaET3goaqOmgCOsz6uNOZ0gi5lj/OyQlzxiwXuldV+EmwdiIryqUTCC/\n",
       "ttJK6RzDq8QbXQv+3bkVFdLAGtn1xfKullcMBRNtxA/5GnJ5zue9dXs08DpLsMLEwEKx0/bunopK\n",
       "ym1oOXcvj1y0Nqvial57hydrqtDiPCLtGFoMeDzKxvL3vXJ4CBe8agtmbPQ8X4FhIpt6n5Bfpcdc\n",
       "tN+yQoec1bVG6VjA5rcYghPHadaB3V2Ys+qfa+2eEtdMzbcc0ZsYcv4HIT/9KYXMFGmN1/Uw1fc6\n",
       "hRw/71MphFjsrJybz7IqXxNbDWDh9wy78sH+1SNxB8OOkwxW2Y+keCMlfO86XtAccYHArmZVNoMZ\n",
       "Zeapzp0MifmcpqyvU7TtbAsiG6Y06TUJPWAYdFc/hfzBzDikR80EbdomaAToV7pdVXowQJi7lQp/\n",
       "Nh78Ni+nyQw3jSRc+Irzv+NxGSH+FKqzTF018Hl/7ai2s8Ht3llDsRKlc+/xmsPH7EF5gSrs08Id\n",
       "EBqsixoJROl7zHB3Be7jxAho28MzLLClDyyigBYv02LWsY2yTPD7oTR9sOTmEjVyTN8jLB7oehQX\n",
       "1pACRffkwAvf2ZtvUMo+AI2/XzoqU7vYKDKnvuVkLm8U9rqqUCqJ8qFbG/9ZcReKzNIU/RqbGmsu\n",
       "tFvLjCFzrlY4HBuob+zwYtpIo6FSgSv7bjRRF+f6r4G6Wd+wsa9mAefyniOjw5J9sa+IU6DEIyIQ\n",
       "6+qThZG6eYQ7blxSYf8MDpIJI6moGNV6Q/bxfRj/ColcKkSm8gD2ZL7Ymibl4HRYrNorYbGPMd67\n",
       "oqPwW8U4YVl+f3pwCIYyxYMXmaeKqeCxPa54BA+sekeslXZe7cLsxKwD1REgaMow8mRxjvZyb8K0\n",
       "fkSiiQ6/fhhqzwt05/OJjhflpvpLdW1SLKlkFOwdUNWiy+11Vtyi4zkLtpoYvlELYGEdJrBa8Llx\n",
       "MKF3DwpHdYTL9khhd8YcHxxdiCeJ19Zde/i49/yAXb7in1N3Pjx8ypKvdOgK9+Ee1LBNVTaqjq+t\n",
       "UqN6wId6gQAAA01BmiRsQS/+tSqA2282AI9CMgMeLJkH3BsPWn8DsTsKl+kC//bIPp8AHXhCyqCP\n",
       "WWIvn8aB3pTxvMXzVNsEZjgoiUDlxDlZts2hHjObLh2yI+R5ALDG2IFslLQQNtSUkjXwf5v/r9u5\n",
       "yUtzDdC3m8aDTuDsgUs7NPe3PVyXVO+EmGIgEKcTNcMOqqtZqzGIyJEhiMTZvlZNmsHCVDElLC4g\n",
       "XNtEMtnaZsLVavE4Ef+xjdNy90KqZjfVabwQwk7qnYsJgh8zr9EsAQafKu/GRwr4kc0rNLbtPT4s\n",
       "WQdY7LdR3DXQMpUKYT8PZ0f64ApWLPjKR7LuGVx/4jBkLDUaPtYzvkBy50Wx/SZU/QQL/oLyDkI2\n",
       "Cmmk+AT1jGTPAVq0mG8qEVCCzA2uNiq0RvCgYlMEWH2ygEcji9RXX6FXQtdB8zu60hzT5fkhEbnJ\n",
       "9gQzVDMYfuGgZrklylv795SSOJSDhHMkiBzqnQYA11XBHXCnIp5dSHkpl9MYMMhOAGouWLTlvgaI\n",
       "5cdZhmLYfBR4D0G4BBo8I1G1pl/Otwg6D9IxX0PDb4PPR6AMMuilk0G1myzgTCLU43Y95tM5Dbod\n",
       "Ziz/Lw2PNMYjYcLaVXEFc1m40vSzRyHh6aij6tmF0swurgicaNKGcu1vAZ/qeFm7Ft08QcES60fy\n",
       "HLFoxugHVOAWp+Za2K1d7as2+IhrGKv+kPg6hjUPqO0vtcQv3hx2MmoNKozDZcEDulczcxObgFQJ\n",
       "QARqzJQt+pw/QoS+89+6ZPU4nCTpd21/xQdXK/dS5lgzLR+tJ3H6SgCt/R0iVRqfftjiyd6jLQuc\n",
       "PMCX11SvQSf+qXV9vaNjvyys1Q/Ji5G8hMFfLX6ZwxdLv1ooIn09AioIG6GXxUmKqr9tUTNaNIIc\n",
       "C+n06M59feLEtY09fLV0b7iQbRbd8tXS9a/SU4bsKVBIsW51Za9/rpBuZ4LwpgF32KNQWnqUtdKX\n",
       "WPa5nI9s5YXdzMUyxJ9n7T9r7uKWFlnwpL7VzDnBZwitLjYRVwcWQKrJNM326FZELvUYL+lnrYb3\n",
       "F2LVg2bfkQKBnUiPA5RrbR2TTPzTmrjmcNBy8F/O9l1zkgQO8mQuoSu/bdlnXBbz4YaejXm/NkQP\n",
       "WgAAASJBnkJ4gh8ATDzqC0gAP6FHpsnZyfk1Tg7uLvDAKmKPSiATM7YS1Ha+YtyJXjQx0B6Qtzfk\n",
       "/L8lb/zr8iAp75+au7lBFjiiAJsM5v3hv5pAeRgwTvSGmqUGQcnJCsZAjHBrBZS9PS8jg0AwMYRS\n",
       "64/kR6F2zk1kUDNBBiW9dxXLxW/pyIEYuAz/uowrHnxe36Fl4jq52JARI89GEOF5jqu32+SCz0LB\n",
       "m1Bc+fKc+BHidkT5fjncVsrVZGhZGoWP3YLkd+8XJW2To9Jypi5vLZkm+KaqcuhXK0e/79g7b0Yt\n",
       "x7ReEDHdRMLwwdJewoBh6YFUdDGtaahCKTx5+dG0K+0GtBwkbN4As3J6jCIPAIEqKQyhYqUhmU1H\n",
       "6y5lSaABwl1LMQAAAOgBnmF0Q/8Anzo1QXoAG1R/g1mavMOGmzuLxdFuVpnjKqhW80tDAfOr/3nW\n",
       "YGfJUPA7T0tga99kGPzoWhTne15RLQ2bP0VpRK5gQcCSvsJiDTsmrCWGNiJVHg3aAhOlez//N8M0\n",
       "hXYvklBA8SNuuJBnaD7l8seJfHTwMsq4PSVC16aovjIEyCa52KSyN9HapJXh5jIbCMDR9WmhF+ba\n",
       "0uRu8dWGGe2+IwGXdIp3BVZpo463N3etRMxA3HqrWFWlyaMhWDKttKTcPFxo9TzRVgK5/guSTVPv\n",
       "Doy03SsrAutwIettnbB7GULAAAAApAGeY2pD/wCW69nwAbVH+DWZ4hS0L2hPHrloxOlJ6stuHfIr\n",
       "Gvw2uT2boVEBO4be7pgkN8g/yySjcIz2bUANHH+z71bTj+xz+11H8JbxbZPRJvrFfP24Bf14zwUd\n",
       "1b2WoqA8KYXbEL1xGIkwnXmk3RRTUBkG8m9HKbfL2C79Eb4wBSBFOC087mHPoQyZV0Ju6IiGS+7b\n",
       "ezgxtc6QT7+YL41HV0ExAAAA/EGaaEmoQWiZTAgh//6qVQG1j4AA6HM8xaFaZZ+AE3UowUt86bvg\n",
       "l6Rzxdb6A7QsrxFjdppCUUMDFGw99UogvvnCF/otIixn8a+ZTSx0lVD1BD9lDD2UTNmi4PqMiO6s\n",
       "weepuISGOtJUDg2RA59MwtAatNLuNbES29IuX5pmrOwDGIvGlWI8dEBZ5acZh/ndGTYvZJ9DDrn+\n",
       "Y1vAc4zAB9iuqdnFNAiVDHLYKxwGM5pWAmw62ifVTKPe3EQ474MPzX7PclZof5IpSfcbqujH1rqa\n",
       "bh0ATO9y92vbOmehk4Z0LWqQujkF62mxSuGz1QXLhAUHdoM0upXDM/oD/QAAAKxBnoZFESwQ/wBI\n",
       "vSAAJq197AklsCPtBYLFubIj4nIw6n4kpZ3kgF9LFORbOH9ofQdSEwFucrOBdxYoRsDaV2rdudsX\n",
       "X9VsqnWTy1PsQHhPtmGKL32uAeyleDvOSi6vFCrbPVcW/f0BSkCpFCFW06O1HX1rF+iJqg5Cxu6E\n",
       "sdSNEblc2ZuvEQ9wvhbjTuXuM8FRyzdcCts3SMbTURRtbYb65o6ZgFXjw4Je6gg5AAAAjgGepXRD\n",
       "/wCXDsvQARBqEeWYy1Qq5d2G2zbbBA1lFTPIPVu4Kx9mIj+fWrT7L35B8y9Fp7i/jgyyp2/xLjBh\n",
       "7Fo2pUmP1JtTV5bxUmFK63QQbetViZvMbpXL00UrMdRaajlNOje0vqxFmprbPXJhI0PBuXWibHQX\n",
       "nTtJ/Iy9x2lL8eNTWoMWaKDdCES8cU0AAACdAZ6nakP/AJcWDhwAQpqEeWYQfeJCnYSOQmE4OUZl\n",
       "Fo2AbPPFnjkhjssd7ZSWhVwt7FRELKNVAakRLlBs/jIzyfTMAfrjX4kr74vOkt3xzlRzImeg3HJS\n",
       "RhqD1XOQ2OitkG25eYuEPF173zb0H96lsEmhryMDr2Egg3TFHcdvOh2gPArCn/puxWLVLNvu491n\n",
       "jgdIBeAAx0wwlDCFbAAAAT9BmqxJqEFsmUwII//+tSqBAarOXtmQEy0AIxRMP/bZMOP143zqy7YW\n",
       "kw5poYsyQ5h1YuzWnPV3bd1N9y3LcNcQPxCs/RfDTElG1Y4sQ05lie0c7iR9zSDCc0gIggN/iLJI\n",
       "N5wmjJzhxnZUW0edtSzLgLZLsQ8wFqsAczpfHm+un6V+0S5wbOYBRwI9U577UIEZ3LTvNNX2Mx+8\n",
       "Yk1VeecyoEW+b3+muzLLvsl62QVC2sQH2uk4XA8uEuVVdpaFJl2UDSEcQ9ryUa11Y27d70A0vqP+\n",
       "N7KfqyoKQ/RVEB5b1lSQGwCPrc7Y32V5tAbAHtprN5YzVt4giPLTQs8UmIsVoFUTxcttBvi/lwSy\n",
       "IjyZTSGBoVLA2glOjmol1Qcry6yZ9XuTrxVPjAEcGtP9sS/Q/VnV/EyP59X93LYL+ydAAAABXEGe\n",
       "ykUVLBD/AFFKehHwuh2oADaOLxl5Q8ybQvsPxPe3BeOJmbw9T4N0HFB7iQiMzhycWnqtyuPHPPgy\n",
       "xo8u7qjJCs+B4PenY+7jTZqU6eFxMynHxVHWpYg0pxluRzW8/YjDMJ4Jd3n76eCk1zWAfpDmkpjb\n",
       "zSsOXkm5j/4RXX6JVPmrunb2QyeRpFeITOtZCjX7Twk1rL+grVwzXf+c78Q66fBDK2OwEk79XKK7\n",
       "MTbRASEqasyy5dXls4YY69H0FIvYir0EIn35vIgjhGpDnCWXrfToFCRRrH4LL9j3clEuY/NWK3WE\n",
       "J2Bbyfy8ehBWDPT7Tz+ybPQLx0OZ1mjdwrpNIiz7JMJ40bgp2oKwbN+jEHP+3wHohNC0wP20u4Ge\n",
       "anDf6KlFCSKKKtaBX5HbNLUOUoAJhgaERssXqK+FgYpd0c1M/yYfj0YnnSfTbnlNe6HkdD04EA1e\n",
       "v2KTgQAAALsBnul0Q/8AqP+c9nqzhY1/QATnKNzgh3LuXYzjcQ1owrjxIjoO5l5zddkCECNs8rZa\n",
       "3O5vtZNrEcC9j6LVy8WrQZSq2NQcpfpof0DT2Pqlr8iDkUJ51AJCNLA75TbwP6+IKxQEvGUmy2Iw\n",
       "2xaTC0+D2H0rwCvUFioLMuTKyQN5fglOSP32auC+Pj6PdkP+gkC8Ksc/smuc/hmUzkU4KF/LibX5\n",
       "2/x0KGrnkdADj4cccZa4F9qFvL0GA41BAAAA3AGe62pD/wCfcclmcAIRQUM6fHyMy8Rplum3vTsZ\n",
       "Tl+WVIQuLNUmAy4XJZxSnujpNbEY6exodma2KGVIynxL+GhjHhG2tIihJPR0u8HOIXAPaP/pZPpp\n",
       "aU3/DG/pvMx1UCU5WaoM3pFk6LyWUFPDLmnotmR8fmLaRSVvV9afYQ87R6t+ir43EDgHt8+bqTto\n",
       "z0kDGlp3Y77xHGchw4XnVo4s/KyslM6IrFW+6v4RIQdZoyAGWNOVtrTcreIzSQKw0xQIptUmWPIh\n",
       "GkZSuotbyaDh+0dJlu2E0bMkbbMAAAEvQZrtSahBbJlMCCP//rUqgNqo4H6QAIj0uZzh2mWSdL3z\n",
       "235B4f3e/EWTktND0V2LocL0xErFt9YRfo+loqBkclIEMBaemwPeq17xk9JYuc280BbhJz0guGYO\n",
       "KkBEDv9QPYttWVglo+x9wgRe3Qw+L5yDPPbrz/yuP3XWmpZ69Knr/ty7cfxDYPQprKwJQc4DKEzN\n",
       "DnqvImOcSDwLkH+TZnQOoZrWPfOn2LFnJ+irKYTeq+BnNLC6ec4YfodVzKkw/vSiL0Ayufkmoplf\n",
       "7z6kDCQgZHS5t+d64Sl1Isq/rtz6rjHEx0mT+a8wgnaJr1i1T6+ImDgaqHeLXTQcXjTByIw/jUFV\n",
       "ZhRWaesMUZYd/56IrDNG8PXGa9wYceT5NYFfRtywzp5fqR5V+IPDs6Y5AAABLkGbEUnhClJlMCCH\n",
       "//6qVQF49LwALdI9VI9gg81sWswFdV/eR7BXpV8nsh01IsmzW7xY/M7xC9miwnMbbuY7uLKRo2Hf\n",
       "QaGwpjBN60CHI5ZhscSYu0ltivxcDCp0XkWbHcolGHTsxzpezjKNbYB1r7P8wpzWz5pAIlymALVW\n",
       "wrvoH4f6nbNuXDII7umrqvGGY5C3QpO7Y3mK+xSqV3XVBbSFPLFBav/XtQ01Hg3QoQx44DPmZNEn\n",
       "p1vUsqleJZ+jDtADsjj+V/cZB6t7i/TmZs530IUireKxpRDwt1lqWIAxlvl7W3agztIit8MYQzzX\n",
       "HU2LU+WDssMAWBbESbBEwAbTT42sfNkz9tV929DbWbixXwdaKzw3ZIz24T7lfZt+0Q6ZP8FeLDpt\n",
       "mu+hvuu5AAAA40GfL0U0TBD/AEg+NcAE7XCtNur+3ts4BOgd2ooXAO4iPDco5HhpGejHkzkLNr4q\n",
       "I7aZ3+7OBrUKXo1BgIX9k3cZzfO7okmExOKO5w3rt0SmoqA/pZ2Azm/6UsUCfNoLhpdaENFNbtly\n",
       "lblqXUV96JNJU1+ro2JjXUnZbFy963D7a/fPec4sSAaocjAvaU4zzMSzv+RIn0LdqeGVq8/K44oT\n",
       "mqqZxnvLjvIM+VIT1q2R68eBBFy0yMHIjYXYy6w0xTISLBBK/vT/ezFDD0W4UGs/lfqmSmNt+zya\n",
       "y53VtSL10teBAAAAswGfTnRD/wCV1Ldx7GWgA/pDsBBak1ozK+j8Sz+y3qQHpiWt29/W3xX5SN3V\n",
       "W+INDkNrBSYOEUej40G22vBKHW8SK27Pk5IXfa0vDIt0mxcF8nE9uvKHeuPD8ailHGeIz6rWiYHG\n",
       "QwbhCVsAYCHyO3RDmLtZik7aNKMy2ycbGWK1+2wfXzHzGp0w90ENZtvJTqC+8CO3kzMBWxW3f4Yy\n",
       "XiCLa6ffXbSY3KVCR9bbI9G7S8eEAAAAzwGfUGpD/wCQFah50a0AH9IdgILUmtHor6PxLQyTw3NH\n",
       "g1dX2YXsznFcnJWKR5C0V1iqaMZ/98cdb3RUSKCNGD7wEDl2jcrd/e/z0mNRKgXnLcrRX7bE1C/J\n",
       "AnXFfAZpa+yGPcFYcH2btz0Qm8KqGNR2OI4k2AJYUCE2OxVsxP3iI0+jveO47c32LauzDjuX1wPe\n",
       "bnKgizJ26K9xV0C/DRjcr0cwGQYjAt2k5TjFYqki4WC90glRnHDSH2GasdK8S8lUJnKI6AWXi6DH\n",
       "7PrwDAAAAMhBm1NJqEFomUwU8P/+qZYEfHCJ6jf98AH9IdgILUmrzosGEoBGoLfeoJLUl1Wgtrpl\n",
       "dqhqBG8BTeHZoZKx9pkoHuIzNmp4ZsRUhIawyANSwu/WypW4tkm5CTV2P4jBl8rjizC7bBXxq5pg\n",
       "dBzH7vhTVnpizsK1JvTsTTF8kYsCMc9RsAB93JYlkXWPe5902JYpQs/lJDNf5ieYE6n4Mx7f7vKE\n",
       "okGlJnKi+u5uXP9vQM75jxldKN/F5DgAi4S5YdD8AJnuDjPb4QAAAJsBn3JqQ/8Al4lwAQnWS5sw\n",
       "/C5OWHoe7ZmqDrlzGd45IDAnGdHSN3KqWKkI258+f2CWCTI6BTjw5NXhhfiXsFqNoP/NOh7YF78h\n",
       "QVJWJK0UVYHe7Cz8IBBfTiBdCbMt8xmnuKrntp7KB42G7fyR0Y9oyTqMT3btwrDdFWpbueuAoedM\n",
       "Y+6QaB0TDhfbE6Jhe6ei+tRs1xbkosMFawAABB5tb292AAAAbG12aGQAAAAAAAAAAAAAAAAAAAPo\n",
       "AAAPoAABAAABAAAAAAAAAAAAAAAAAQAAAAAAAAAAAAAAAAAAAAEAAAAAAAAAAAAAAAAAAEAAAAAA\n",
       "AAAAAAAAAAAAAAAAAAAAAAAAAAAAAAAAAAACAAADSHRyYWsAAABcdGtoZAAAAAMAAAAAAAAAAAAA\n",
       "AAEAAAAAAAAPoAAAAAAAAAAAAAAAAAAAAAAAAQAAAAAAAAAAAAAAAAAAAAEAAAAAAAAAAAAAAAAA\n",
       "AEAAAAABsAAAASAAAAAAACRlZHRzAAAAHGVsc3QAAAAAAAAAAQAAD6AAABAAAAEAAAAAAsBtZGlh\n",
       "AAAAIG1kaGQAAAAAAAAAAAAAAAAAACgAAACgAFXEAAAAAAAtaGRscgAAAAAAAAAAdmlkZQAAAAAA\n",
       "AAAAAAAAAFZpZGVvSGFuZGxlcgAAAAJrbWluZgAAABR2bWhkAAAAAQAAAAAAAAAAAAAAJGRpbmYA\n",
       "AAAcZHJlZgAAAAAAAAABAAAADHVybCAAAAABAAACK3N0YmwAAACzc3RzZAAAAAAAAAABAAAAo2F2\n",
       "YzEAAAAAAAAAAQAAAAAAAAAAAAAAAAAAAAABsAEgAEgAAABIAAAAAAAAAAEAAAAAAAAAAAAAAAAA\n",
       "AAAAAAAAAAAAAAAAAAAAAAAAAAAY//8AAAAxYXZjQwFkABX/4QAYZ2QAFazZQbCWhAAAAwAEAAAD\n",
       "ACg8WLZYAQAGaOvjyyLAAAAAHHV1aWRraEDyXyRPxbo5pRvPAyPzAAAAAAAAABhzdHRzAAAAAAAA\n",
       "AAEAAAAUAAAIAAAAABRzdHNzAAAAAAAAAAEAAAABAAAAsGN0dHMAAAAAAAAAFAAAAAEAABAAAAAA\n",
       "AQAAKAAAAAABAAAQAAAAAAEAAAAAAAAAAQAACAAAAAABAAAoAAAAAAEAABAAAAAAAQAAAAAAAAAB\n",
       "AAAIAAAAAAEAACgAAAAAAQAAEAAAAAABAAAAAAAAAAEAAAgAAAAAAQAAEAAAAAABAAAoAAAAAAEA\n",
       "ABAAAAAAAQAAAAAAAAABAAAIAAAAAAEAABgAAAAAAQAACAAAAAAcc3RzYwAAAAAAAAABAAAAAQAA\n",
       "ABQAAAABAAAAZHN0c3oAAAAAAAAAAAAAABQAABSQAAADUQAAASYAAADsAAAAqAAAAQAAAACwAAAA\n",
       "kgAAAKEAAAFDAAABYAAAAL8AAADgAAABMwAAATIAAADnAAAAtwAAANMAAADMAAAAnwAAABRzdGNv\n",
       "AAAAAAAAAAEAAAAsAAAAYnVkdGEAAABabWV0YQAAAAAAAAAhaGRscgAAAAAAAAAAbWRpcmFwcGwA\n",
       "AAAAAAAAAAAAAAAtaWxzdAAAACWpdG9vAAAAHWRhdGEAAAABAAAAAExhdmY1Ni4zNi4xMDA=\n",
       "\">\n",
       "  Your browser does not support the video tag.\n",
       "</video>"
      ],
      "text/plain": [
       "<IPython.core.display.HTML object>"
      ]
     },
     "execution_count": 41,
     "metadata": {},
     "output_type": "execute_result"
    }
   ],
   "source": [
    "num =0\n",
    "animation = animation.FuncAnimation(fig, update_hist, 20, fargs=(num) )\n",
    "HTML(animation.to_html5_video())"
   ]
  },
  {
   "cell_type": "code",
   "execution_count": 42,
   "metadata": {
    "collapsed": false
   },
   "outputs": [
    {
     "name": "stdout",
     "output_type": "stream",
     "text": [
      "Iteration\t\t    ClusterSize Freq\t\t\tNodes in Cluster\tCluster Heads\t  No Cluster\n",
      "   0 \t\t [115 133  89  75  42  24  15   6   5] \t\t     996 \t\t   504 \t\t    0\n",
      "   1 \t\t [117 132  89  74  41  24  15   6   6] \t\t     996 \t\t   504 \t\t    0\n",
      "   2 \t\t [118 130  89  75  42  23  15   6   6] \t\t     996 \t\t   504 \t\t    0\n",
      "   3 \t\t [118 129  89  76  43  23  14   6   6] \t\t     996 \t\t   504 \t\t    0\n",
      "   4 \t\t [120 127  89  79  42  21  15   6   6] \t\t     995 \t\t   505 \t\t    0\n",
      "   5 \t\t [121 126  88  81  40  22  15   6   6] \t\t     995 \t\t   505 \t\t    0\n",
      "   6 \t\t [120 126  88  83  40  22  14   6   6] \t\t     995 \t\t   505 \t\t    0\n",
      "   7 \t\t [121 126  86  82  41  25  12   6   6] \t\t     995 \t\t   505 \t\t    0\n",
      "   8 \t\t [119 127  87  83  42  23  12   6   6] \t\t     995 \t\t   505 \t\t    0\n",
      "   9 \t\t [122 125  85  83  42  23  13   6   6] \t\t     995 \t\t   505 \t\t    0\n",
      "   10 \t\t [123 124  84  83  42  24  14   6   5] \t\t     995 \t\t   505 \t\t    0\n",
      "   11 \t\t [118 127  85  88  41  22  13   6   5] \t\t     995 \t\t   505 \t\t    0\n",
      "   12 \t\t [116 130  87  85  40  23  13   5   6] \t\t     995 \t\t   505 \t\t    0\n",
      "   13 \t\t [118 130  85  86  40  23  13   5   6] \t\t     994 \t\t   506 \t\t    0\n",
      "   14 \t\t [117 130  86  87  40  22  13   5   6] \t\t     994 \t\t   506 \t\t    0\n",
      "   15 \t\t [116 130  87  85  40  24  12   4   7] \t\t     995 \t\t   505 \t\t    0\n",
      "   16 \t\t [115 130  88  86  40  23  12   4   7] \t\t     995 \t\t   505 \t\t    0\n",
      "   17 \t\t [114 132  86  89  39  21  12   5   7] \t\t     995 \t\t   505 \t\t    0\n",
      "   18 \t\t [114 132  86  89  39  21  12   5   7] \t\t     995 \t\t   505 \t\t    0\n",
      "   19 \t\t [113 131  92  87  36  20  14   5   7] \t\t     995 \t\t   505 \t\t    0\n"
     ]
    }
   ],
   "source": [
    "count = 0\n",
    "total_nodes = 1500\n",
    "print(\"Iteration\\t\\t    ClusterSize Freq\\t\\t\\tNodes in Cluster\\tCluster Heads\\t  No Cluster\")\n",
    "#print(\"\\t         \\t    0   1   2   3   4   5   6   7   8\")\n",
    "for row in data:\n",
    "    \n",
    "    cluster_nodes = 0\n",
    "    cluster_heads = 0\n",
    "    count_array = np.bincount(row) \n",
    "    for i in range(0,len(count_array)):\n",
    "        cluster_heads = cluster_heads + count_array[i]\n",
    "        cluster_nodes = cluster_nodes + count_array[i]*(i+1)\n",
    "    \n",
    "    print(\"  \",count,\"\\t\\t\",np.bincount(row),\"\\t\\t    \",cluster_nodes-cluster_heads,\"\\t\\t  \",cluster_heads,\"\\t\\t   \",total_nodes-cluster_nodes)\n",
    "    count = count+1"
   ]
  },
  {
   "cell_type": "code",
   "execution_count": null,
   "metadata": {
    "collapsed": false
   },
   "outputs": [],
   "source": []
  },
  {
   "cell_type": "code",
   "execution_count": null,
   "metadata": {
    "collapsed": true
   },
   "outputs": [],
   "source": []
  }
 ],
 "metadata": {
  "kernelspec": {
   "display_name": "Python 3",
   "language": "python",
   "name": "python3"
  },
  "language_info": {
   "codemirror_mode": {
    "name": "ipython",
    "version": 3
   },
   "file_extension": ".py",
   "mimetype": "text/x-python",
   "name": "python",
   "nbconvert_exporter": "python",
   "pygments_lexer": "ipython3",
   "version": "3.6.0"
  }
 },
 "nbformat": 4,
 "nbformat_minor": 2
}
