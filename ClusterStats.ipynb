{
 "cells": [
  {
   "cell_type": "code",
   "execution_count": 693,
   "metadata": {
    "collapsed": true
   },
   "outputs": [],
   "source": [
    "import os\n",
    "import pandas as pd\n",
    "import csv\n",
    "import numpy as np\n",
    "from matplotlib import pyplot as plt\n",
    "from matplotlib import animation\n",
    "from IPython.display import HTML"
   ]
  },
  {
   "cell_type": "code",
   "execution_count": 694,
   "metadata": {
    "collapsed": true
   },
   "outputs": [],
   "source": [
    "numCH = [None]*200\n",
    "with open(\"Log-clusters.txt\") as csv_file:\n",
    "    data = list(csv.reader(csv_file, delimiter=','))\n",
    "    count = 0\n",
    "    for row in data:\n",
    "        numCH[count] = len(row)\n",
    "        count = count+1\n",
    "        for i in range(0,len(row)):\n",
    "            row[i] = int(row[i])"
   ]
  },
  {
   "cell_type": "code",
   "execution_count": 695,
   "metadata": {
    "collapsed": false
   },
   "outputs": [
    {
     "data": {
      "text/plain": [
       "<matplotlib.figure.Figure at 0x14081031518>"
      ]
     },
     "metadata": {},
     "output_type": "display_data"
    },
    {
     "data": {
      "image/png": "[encoded data removed]",
      "text/plain": [
       "<matplotlib.figure.Figure at 0x140fefef400>"
      ]
     },
     "metadata": {},
     "output_type": "display_data"
    }
   ],
   "source": [
    "t = range(200)\n",
    "plt.plot(t, numCH, 'ro')\n",
    "plt.title(\"Total Cluster Heads at each Iteration\")\n",
    "plt.xlabel(\"Iteration\")\n",
    "plt.ylabel(\"# of Cluster Heads\")\n",
    "plt.show()"
   ]
  },
  {
   "cell_type": "code",
   "execution_count": 696,
   "metadata": {
    "collapsed": false
   },
   "outputs": [],
   "source": [
    "plt.figure()\n",
    "\n",
    "def update_hist(num):\n",
    "    plt.cla()\n",
    "    plt.hist(data[num])\n",
    "    plt.xlabel(\"Cluster Size\")\n",
    "    plt.ylabel(\"Frequency\")\n",
    "    plt.title(\"Cluster Sizes at T=\"+str(num))\n",
    "    \n",
    "fig = plt.figure()\n",
    "hist = plt.hist(data[0])"
   ]
  },
  {
   "cell_type": "code",
   "execution_count": 697,
   "metadata": {
    "collapsed": false
   },
   "outputs": [
    {
     "data": {
      "text/html": [
       "<video width=\"432\" height=\"288\" controls autoplay loop>\n",
       "  <source type=\"video/mp4\" src=\"data:video/mp4;base64,AAAAHGZ0eXBNNFYgAAACAGlzb21pc28yYXZjMQAAAAhmcmVlAAApo21kYXQAAAKtBgX//6ncRem9\n",
       "5tlIt5Ys2CDZI+7veDI2NCAtIGNvcmUgMTQ2IHIyNTM4IDEyMTM5NmMgLSBILjI2NC9NUEVHLTQg\n",
       "QVZDIGNvZGVjIC0gQ29weWxlZnQgMjAwMy0yMDE1IC0gaHR0cDovL3d3dy52aWRlb2xhbi5vcmcv\n",
       "eDI2NC5odG1sIC0gb3B0aW9uczogY2FiYWM9MSByZWY9MyBkZWJsb2NrPTE6MDowIGFuYWx5c2U9\n",
       "MHgzOjB4MTEzIG1lPWhleCBzdWJtZT03IHBzeT0xIHBzeV9yZD0xLjAwOjAuMDAgbWl4ZWRfcmVm\n",
       "PTEgbWVfcmFuZ2U9MTYgY2hyb21hX21lPTEgdHJlbGxpcz0xIDh4OGRjdD0xIGNxbT0wIGRlYWR6\n",
       "b25lPTIxLDExIGZhc3RfcHNraXA9MSBjaHJvbWFfcXBfb2Zmc2V0PS0yIHRocmVhZHM9NiBsb29r\n",
       "YWhlYWRfdGhyZWFkcz0xIHNsaWNlZF90aHJlYWRzPTAgbnI9MCBkZWNpbWF0ZT0xIGludGVybGFj\n",
       "ZWQ9MCBibHVyYXlfY29tcGF0PTAgY29uc3RyYWluZWRfaW50cmE9MCBiZnJhbWVzPTMgYl9weXJh\n",
       "bWlkPTIgYl9hZGFwdD0xIGJfYmlhcz0wIGRpcmVjdD0xIHdlaWdodGI9MSBvcGVuX2dvcD0wIHdl\n",
       "aWdodHA9MiBrZXlpbnQ9MjUwIGtleWludF9taW49NSBzY2VuZWN1dD00MCBpbnRyYV9yZWZyZXNo\n",
       "PTAgcmNfbG9va2FoZWFkPTQwIHJjPWNyZiBtYnRyZWU9MSBjcmY9MjMuMCBxY29tcD0wLjYwIHFw\n",
       "bWluPTAgcXBtYXg9NjkgcXBzdGVwPTQgaXBfcmF0aW89MS40MCBhcT0xOjEuMDAAgAAAEEFliIQA\n",
       "P//+92ifAptaQ3qA5JXFJdtPgf+rZ3QEPq8SAwAAAwAAFkN2p5A1ZeHM4BiTNyuUAYbXsd/+ajxD\n",
       "0N2Is9YnmE4Z9O4iirnTOrVExZp5q4uID7XaOhWc87fGtc1U+Bd6uW77+set2vTNnFHk4LhlCtIq\n",
       "tT8hP+b8EYT22MbUPSZNO/h8hEqrNtmLvT7kDtCOY1aIdUkQADoJqKzr7d50e3pH42EfLrjLiYVr\n",
       "ABWdSh6vU3h9Pb5f8heq1jxsoElNW5uqc3U1qsrsrKkVfGJHYKfbgYCuLpZ76mMG5qcgxf8PaZD8\n",
       "s7Y3AtdVR+lqCqKn/vgJoOfPSM/icPUk8SM9VznrTTgMZRp08ny4J4ek8fDPDi+xkZ1BfCe6uPLe\n",
       "fgOMXU5K/XDrBs8BD1BJ4zG88tOGuqUewah963jFornGwU0PCSiVOYBb70mBvRoSYv3GfzQUGk2E\n",
       "B6G+yZRcvp9EJDyFIWEX51Wvw5WN1sbHBIX34jLaMvIUdmjdd+KQQ3ffjWu/6FWwvrVfqDlFK/Eu\n",
       "jMfdr0MUA/f5KcPhal/IEMUx9wwjh9O28pPJ3XuuoUSRzxj96PqqcQkEJwqUhzjxda7cI08VnotQ\n",
       "5r1mqFE8sITCHMPpY6siLPYTaY/UBngjXf2cs/fOknLsjKXpljTkYVomrUFh4iMj/osRE+X7El03\n",
       "v8t9khPPcm4NRJ/bYRrdI0yKEpsFSHlP0qQf5E9HOwxrn+kcHnG4+pDJp8W/lY6ZRSvnvabqMWLH\n",
       "M9N5WZGKN18CP2ElIWFzucyzrPYbDgp8AlqPRhoDY+KmbFUaTatiU09U/AgwA7vzntlVRM21Rci2\n",
       "eEUkbZBEeO7+1XMrj3cw1Oi/fye2cE9rA1IWIrs2r5X4iFlL2egyYTYJ5gGEZjY7f5uKfumKNMn3\n",
       "gSRFiVvZwOsTO3r7KGWb2FZUIpMFRdx1MaZwSub+ZyVDCF2dWjZ2Daiti34JdrLLpTuFJKK2AB+d\n",
       "JferNth+XXNah57Pv/9BueDqGHSoc3A8vHm7+wF/ZUten5oAToac+bcmmhLpSmY0ZlUEE6BW0qpm\n",
       "A+EiqoS8hILho4fOPXdjDWSyVivhewRrzg2l6JDZlMzDVGu+//aTl2Lu3H/oYXJuJYfHvLFIVKCQ\n",
       "7/+lFn52pZDKdEpN0XuuUBl7eaeGYcomz39pwrXV3vbwzUaszmdlP5gorfv9Cy5o46tCSmyNf2Ru\n",
       "cCdB+Y2lxqepLyi0pqEW2h7Yd++vE9/bqxrdTWDuw3xpGz8MCkyHpz7arrokPG8p0c6RS4pli3E5\n",
       "DZZJTf5IAfA+gF7rD3IB9D5H499PcGkkiOan9J9KZTKOFeS1JdJqWi5s9SSUIspW/+j1GnIIZJxH\n",
       "0HxblTMzhS4SaBVJu8nzCexYn+yl03FjuokvbdD9FAeYlljTYXZhSTjAdJqKq6pXD3pwNIeW/y3K\n",
       "f9Ioi4l85vbA595akn/odEPBOZjiBx6EnhygeMLqiC930LhpI7i24azlJyK2xR6zG6ecEJ19NTYY\n",
       "7+scb5ONcEM0Tg+9gLfgrLh689WqQZe7Q19NAIprVtf8kt8Ox1WW7u+PdQcj+TooTdcgDNbX68tm\n",
       "yPGQFXVvDecrJpuulMP53uyAAgbJtv6Fy4Nn5jL3fVAPrBp6og+87xobwEGfh6xffuxLL+YVHcQk\n",
       "MCpLqNoIv67QAGKyzmpkepsXfPi+bBvtIkHk0zsrjjEsVA1a6v9P/Z2lF11pvjWxJ+uw0+/WJQwy\n",
       "aUCcHv2mGnteroQXYSzsrNzuXLvynhU1OG6wjbTFGjZdyWSbf3RFrnW5C8OkSHsalAjIE0JEuNOE\n",
       "8iVNfVGbiSDindwBljCAdyncpZFiA7wpu8qgYAeOHM3ii5TIfN3+xv6SkN5Uw6crSOeE6VaobAK6\n",
       "BxjQAMKsLiI/mMvIPtfUSCZDwGjgf4e1IA5CWv8kzgKSA2+Y7FKP97tzs+QqzDYyt0Q0O5I7iv0T\n",
       "KHBd9w+BIJMcj9gFAI7A1nKf5QXyr2VGvG4cL6P/KwGxjInfihVa5p7n+PVschLenWgoKMtBrYhq\n",
       "FdVnWg48tSQL6tRYY9pKqa0jwQ4s8OE19fZILpvmGQr6ImMyQiuljIozwOukiHnAn5MEQqiJ3SI1\n",
       "q88vf+FBM25Mu5DHJK4MarddtZI1WfiX+qmsQjvdDBzlMnYkhkYAo6+pJzazsimquNcTQsX1e2yW\n",
       "S9btsvysuPfLgRBhI9TnhvJtTABZjtwzIUGfGbBFHQgS3m7ZdZtMHEgjBpcKW5pf+jT/+9I1WhZY\n",
       "NIDjy0Sci+VtpGN39hucQ8Lgarcw8YVYi7ErP+Rr1DgVDDOXwJ+YDnZJX0KEgwqCLqq/SpgwF493\n",
       "cCCoaBdf74jNOcRxKjp2VkpdbO4YKZSQyo+43QalACcI3cV0aMHfMrFNZFoXK3iId+1EhLj9XcXh\n",
       "NZPa3Fz/4HrOIifeKxL3BUDoul91Qi1U4Hx1YziFfQNJ9aGOXnxkToJiH9D+kl7vR2SDX2gQlAiv\n",
       "ZOCtM/Rv9Etz4p372jRgeR3SQ5iXfmcCZRc+TEp9qmBtwsaRAXX8Y9htdVN2rYld2xb6EjuLjkSe\n",
       "STtOWRtwZyy4EgFWPP2DbHq6qicsI90gO95kXihl1pWRQDwP0HKgSHCK5+BQmQIIT/rpVJ7jLwzS\n",
       "W5OADhpjdCmBNukdK2e4598TKK6UgMCYkZob/XaUQ2T2BccX+b7rV4glOio5iMcAAp/zHdAJgLiT\n",
       "TQSv8Q2SZr4F52KSmWg3Sw0rKfey7vamctPSjk+v1Gg5aWNsbqdyJzGo8oOoQRYeMpppgcdZPu2U\n",
       "TIdMevPi3/NBWfgB9OQOhsAxWQ2/8ROVwa4k6aM4aNkBvPMeC2AtFqVaA9NLlvmb2ja/Z7D0dGZ/\n",
       "/zDh1VkIkkkymqvUYs7V32zcfU3m/FpDzVJxBeGUTFWmLmelvADP81F2iPyNxYO+ly48Bc9eJQJQ\n",
       "d30yUds8PD4HLgpfFcs150ydqU45ct/5H7tiS2OfB6vEMdgiFGb7QoHQp4u5wf4zf///sDjyl73Z\n",
       "/PjrogARn6B//wLREd6JDYbkG4yU23CkRq66s9SH/7vMFncCjE5pT1p/iMD0FGePskg5UGBUA0S0\n",
       "J+swRBMsJ/bila0GNFh/2lQjtJ1O/ZfLLY5Num0/3MJgGtwFQ4oEa3QScQgE/T9x4LxBi8GgTymD\n",
       "8sr8Ezpp7Oj0ux47TdaOW11ogGJeYn2E/0CHuWqLk4skK7YmTfmrZKYwijDQ63X903v8W+z2KDXU\n",
       "p5HX1wvqKo2QzacLMVMJLYZrdD5pwCRszU8lEjo6P4rYXOS66y5XbGLVDFS8mMTFdAdU/vwHWSU8\n",
       "k27LDqyC0Z01uiFNkmj3x6SiOiZEI88sSBl6QZX87JyqrP+Lt3Z4utu8kGKWQX0888hzUrdRpHHw\n",
       "MrJWg6E/eU7FRR26d5kU35r7ZPmo+UGyGqyWQfBi2DpopjPiTY3FDotuLBff2Lywno9Jo+5ai19b\n",
       "I3z6w493IGn3VVNJ//0tV02WfXpJcRhiJ8EKX/TSAmw1EEDeWq1yqgb84aaD0+4fYtdBJF/ek5Wh\n",
       "YB5S14OPY/mNGM4Cnu4mK09izpRCZZouEHIrKcdMjea8DPpWThswkv98b0qxoHYWhDP++kodLqKv\n",
       "IvEiU5nWohqhGiCYa8Nc4b3EjWvJJVBI7YaLNTYYcoeij230G7snUU9WCQzzcgD/ipWjTsrD7MQR\n",
       "vGEOL/UIbQWl6retrXcHvdJdLtmQb4CHwKwn7vmL/HOwHSjE+k2jezQR/pxEY5UNd1eDTTwxDH8c\n",
       "xfHqcWF4MKSJDFkwDGaBZz64Z38DOLWfBsfHm2AZWjykKyNoJi4L/GWyB7R4/4L3H/kM1hEHNowe\n",
       "NqP/3QzeTrtL6V3NA/xMdz/Y7SNsP0gyFywjLhDOd2XyL0mDOmgRKxlKZcrXIi2jZkrQ5lkNbgzi\n",
       "bVyLjo0BR6qGy+3oIl3ZorACZK9DdQeuGNQRFmYxaiS1X6Lu1GENHiemJWPbyoRNiTinjpfNmf6F\n",
       "RZMk7qX1LY1YwE0KBMux79/jE1vH6SkEqsHKQjUnay5Ir13ATudz446edfFTf8H86sAbvm6lixZJ\n",
       "/5xmxgAtNuDPMRrfl3J26NKpElc1o9LaZE7jCyoOIzrlSGXL3XnjmDiGMREuKgCWPRyOhm2V2lTe\n",
       "519UKOHCj6kjxG7tH5gi9LdK2Z4gVTLBoZv9nlIjWeJzmGzttxIqtyXFlBKLv1Hot/cUIJfiKzhE\n",
       "F32+VKbp9q/4J19lhdiQIF1h8Yz6sVr98JGDfL49978f8xijHd2rCEcgGh2aPGKabdl6U9sCRb/v\n",
       "SFA6UWtfrrFgbbRMotd7YR56QQcXxMeHL3sbcUCDmfqD2Pugzf5OHWrZswzizP0tBjCbJ52fU9Tg\n",
       "doNarmc7ExQHQAw4M/okRX0CgIQu0e3/mRgs9miK52NbMkjuj0Zb/Rf+0IHTIXF7K/VVdbEoDt1J\n",
       "em/iYUjwtWD9lJKMEmENSVWfVxpzOkEWpkKGlEa/JwWC90rivwk2DsRFeVSiYQWI/fpXSOYdXiDa\n",
       "6ADatyKiulgDWz646mMKJuogEWD1vY/15RSkDXVhFcvjeUq6PwEUSd7tqNJqT9SPaabm7kTaFf2+\n",
       "/+/ZAEsUSyTAcXjS0OdPUOIWEHLdv54i3etyUg+cL35GCoQ9qwt3yJbXlU4fEkE9ZPbmoPFLFsT8\n",
       "euqyPvxoDMmNN8Uo00ZAqARRhZyN03nOKTMv6MnRBjh6Bz//8sMqkFGgMxEpYGiAF+qm+wcCrx51\n",
       "WTk3dcicpVrYec8PxOJ/lg/2qRuIPimgmeauzH0jwRSKUX+DXcHJ2vcHgGqRRM+RvYijuYAz8sAf\n",
       "/JJOnq67PT3pLb8OablsBkUImjXr70G3wijf5wFPc570K90uqr+Kr6npbPHzwMbnV6czMkMN40kX\n",
       "OB3cudJOIx3DwpVWaYumvg8v/bUN1ng9u8sodiJUrj+M3zmX5K8sKejddrM4weq+1WJyOTy3J/91\n",
       "3y93HiBDRD+ZmWWFKHllFAC3hpnmVYxtkmeeHpyw66i+KILTISZvkZYPdDxKC+tIASL78mAF8QNH\n",
       "PW0xyHpB/V86dJlC9H7diIIKUeIwyzaGnHfM82vC7pA9xHCLxWZqqn6NTY01l1ot5cYQv9crHA4N\n",
       "1Df2eDGFJFHQqUCV/bcaKOf5GhQStk2eQk/Pj9k0MW06KLaIgjyP2j74DWBcW376hHtDjnHCz3uX\n",
       "FJh/wwOkgkjqagYu/pD9vF9GP86aVwqRKbyAPZkvtmaJpVSoBis2itnso8x3ruio/BbxThKUP5/e\n",
       "nAIhjLFiwk05kqp4LE9rnivciVXty0zX2hHIuzErAPVEZs1rKgMRa1N7OTfhWj8iUWVbmTUMNWeF\n",
       "unPxNAKSBeo7BgbWTUQiZvOxZccwcVhv0nLou8gOBPI6KZWpEYS4fi7yrCrrKVmh2ca5lQvaWZUU\n",
       "8RT7bmLJZjEE8Tr6y69/FyD/kAu33FPqbufI1E5SVe6dAV78I9iWCaqm1VHV9aouXwwAJWEAAAMk\n",
       "QZohbEP//qmWBeSQ4A2puXkRkuBcEAzj3o0spvq4U5T3E/eLdSjSFrfKjJhE1wMT4/esskKrCmB4\n",
       "fx00MC2AnPUvaP/RMyYhQnDdIc65zd/iOb8lhVRG7BvHa7q7GUdik0Y4TqtH0AhaTAf6JWOU/VNb\n",
       "oHo75uBS8PgJr3FFpfF6n+gV7/g3wkRdccTmZmMViQhmuk+iJWUxC7QkPzTGevSfObvlG7Pd6KEc\n",
       "I/BrEm4mLNDzr0OlGQotPauFY0YJzoy8To9tiAmfsLWidQChxM52MUNOmhBD+WKBhVAgpcP4SpFq\n",
       "v2ZVCE5sAbCQvFa4T37trmzOlX+moJU5OblkEGf62M+l6tPYGDSdT8GeWi0zQwOndf0MD4Q87CNK\n",
       "YHKITIZfn7UYbQIiKg5yYjisJxinibfyLZLk6la/wa4JSWk3ka9S8ogNScFk+HVlsv0wM6Nww0jl\n",
       "7WROPe07K/aUN07xJkWW79Z6rOO513gnYSe0LErIdqKLwNIPXXoUbI4VKmyY9h+H9svBO/9DjVhH\n",
       "czd2cP/43t+Lf0vXrWERr8N8ESOC8vMc5pYkVOrgQnG+resKuUKPw/7M29xj6riWRs8in4cDETfJ\n",
       "DRT6m7xXAe+uiVQFvIfHw/ARWTiCsWKQBedsNfIGdq6RDNUcGRl3LR8dlaoH2ETDb4Ejg1FBLqBv\n",
       "aYXBwF05kTp5wHoWjQAvFOLWkqVUj1XY0ed7uXd0/vLzowpBWHXd0LhUHAlpJFpebRucU2Npe0xh\n",
       "rChXOY9Po+NM0sEsCmajZHx96g6SAXpywf4fydGv8NlyfBz5icPU0Y6+HnflGJUxvo3MbFV752Yu\n",
       "o0DEkfM8AhUO3XDNhI4W9WBqKVTm4H5J0dTnkkyzx2cvgi7cKa7iE13MsUN/WY5JkjV2+iKQwTIF\n",
       "HLJHb16/wqBp3O4YHFYRrXCn42ra165d4vIEJ5/WGO6pGkeNPiKXPq4KPUP1JYwhxAaV9EkUEiMd\n",
       "uDreRbyAODcT/mWywB16SaEqCOG8Wu+Mvk68aeuJfcCQxrZkHrR50HN9eov6j4HMDfi8gUfMdMjD\n",
       "qo5mbHSkAAABtkGaQzwhkymEEP/+qlUBto08AJoA4Fonsa4BsNtgyPulw3e9S1jzjBslW0XW6v/Z\n",
       "lKY/Y5ys8ZY5ZnKDefHvObygyviiV5/Ex2fiXIOhr40jD0iWQvAAPeQWDzXhegsgMe3ICnMpA8IL\n",
       "kG3AxnCmH13bmrNO1V/K6MBPW6ZR8uSjFkNWvNlKnKJXjtIMqvka0Sd4cK7RqhWKdRVNCACFd5i2\n",
       "V5weFHF1chOJYBPI75AxrVlCR3nCJ+wptnX5u4/I8PTsSPsY3IV0fDvGscVw8Xrey4/GBvfiUZY1\n",
       "E/iNObHMsvZHS6WHp3Mx3sQLFmXuE50PzgMAzmRmrHYSB2Yvu01zaberRgZbz6CM5QG5OVPFVins\n",
       "2I40H3QvaaeIxqSjOq8P5mCBnKlOgkM6kWbrZhsF5jED00OokSYMSln3V9PaQfq9LSya/wPMkvtT\n",
       "D911+nKhZde0735DjaqbUBtIJNCHzuWn2yuDUYoi75qQZG3E9hJjrTbFtjorOWnvoXlDt7HH5Mbm\n",
       "oxl4G+/fgFV4oyGQN3kYdHKfmOK3KxONlmBIlaDeCWElqG8q+Vmg0WNrlf41jwqE4QAAAVgBnmJq\n",
       "Q/8Ank3JJ4ANqugtBz6PNanJmemEbxlrbbIPy/UAF0m8neLky0QHQ9099oSl6nvwJWZzbwuumOuF\n",
       "s8KQk3VKUWhuRwo0OHsMlvc6wzuBbJiu/MPsi7QrTnRX26wbT3XHnxOLmby+Plg0mSPVjLN09LBd\n",
       "91KW5X2nKtRMWYpuqsf+wbMO5rk1FqmI4/gU36ywCe5XuG959ybGBUBuZj8rjXcN1/bG6SbR0R2c\n",
       "TLQ82+dFzLZZyc6aHcghnUh0WGvr3/5sNm9V4VJTcpAQGyw25S0brj7RhRd8h8ujOjswoPgvPsO9\n",
       "oQHTKnvjpLAe/XgAyNYKhaqYBqkUmAXTjn1Ru6rLSnad/b71bwAYSKK0dhEn8huLttN++sSCzdKf\n",
       "17FywPIHLCyuT+NBLDhJo9fr8ATiNK1OPfzG+BIkwsDpdLW4wt0e4bSdSMAAVfceG1HXb1v5uAAA\n",
       "AW5BmmVJ4Q8mUwU8EP/+qlUBtuA/gB0CyjTS3XCuoCFb4u020IxvdndWFUtDq2hRsVkRWoRWP6Bg\n",
       "xQlGjhOKuvLO9BDVB9umFbPMkZeZmCRIWfIUGYpqI1GzvtLcUF2f7DZjSGtC57GGAhFkC92LLiIV\n",
       "u/i1sJRhDGLesnypFvcZQAfW/KnqBkr10yQ2mjjMA0QdjFMIC6/F9ojXmy6IBU3zU1WbXjTp/Jf0\n",
       "X72L3aay67qgg09ZBuyNde9ORHU+X/lihP0v8s8PRbJDcd3W3GRW+QAtrpBl9fx6727Iq+VURv8m\n",
       "Q3/UgBAHv5beKhAn/58FnJZAMSkY4/VfAwvJSjgXKBIhP0f3UHr6yaenlkfHoWi46Epe08ovt49b\n",
       "uV2t+a6If4L0N13uNIwnkYKEMq6bMTtm6JUJO8jm+3cPLj3cgMWHLl2d+LqCHI/jKZ2X+pvE0Mdu\n",
       "kOIm+QCD1/JDaF/IsoTLvyo8wZIPPj0GNlUAAAEDAZ6EakP/AJ9RF6ACIPYLHJf8u01XxzZOdyzX\n",
       "WpOqhAi/JdHYmNgC2OfsQKU2WVOJGy3su+eSxlitcVgUNmVIIF37mTwj7DZ5Yh1z3dc0ceRwEkEr\n",
       "v5F6FLdliKt3GkosDKNm2oYeTrkVUZ4SyAOu2R20vxBlbcS8kU1zU6YnQkqWPH6RavCmfymM4G8Q\n",
       "BmrGYMU8RzKRPDCS8G0royEbK/T9QC1VxTPglKg4N6pZydomsZPRy1+z56NqSrH8WGzt1JNg0vFM\n",
       "tHeoVe/GJn7dc4oFAT92RRpFHnm/gcpFXduHGixB0QMRgXMhjfU6jm+0rf2yJ2Z+iR8swd6rT87R\n",
       "rzhBwQAAAYdBmodJ4Q8mUwU8EP/+qlUBtZ08AOld4lv8Uqq9GhlQyPg6sqRbQR0c5Wg5ET5wCbch\n",
       "cgDuKdVgYUweZ/LeAE1FoVPAOGDbc05/TBzMnGBkiQ22pL2kZnG62Ldz2GGpfSDAlTLVbkrr1ZcF\n",
       "BmLU6rcDSflRfo2np24c9J3107QBkm6+7dHyXo8GNzlJqPIKejvVfrvxqxCW7w4eRU9RZLiSfvUb\n",
       "+ijbW9Hw1jDrPvFD9vKyhOQClcwDpjZZndF+/pF/3dIOqGixUHxO5pYSekkOAGybnY609wLK5lsI\n",
       "ZmIg/617eK/PFw9koqcKxVM+u79/zbKhY9CPWMgz94vqk+hA+H9ZA4m/OK4+ihjEk1UaH/BW4eeI\n",
       "UddTBno9PqU2pT4T+2xNndfIwleDloqzNHT4CdDgg4wOnXQh35poonrOUVeRjdNJtOdjK5o3DAnS\n",
       "KDH7ndXyyLdtmq/80e+AnryJiZitsdg4UOlw+sy5apTIGuj/zoWVRN6BZlxFLzlPtfjpl9VjwlFH\n",
       "AAAAzAGepmpD/wCgcvQARB7BYpV6VBgD5jOZ6TGq5xr56cZlf0deHcu+MewNdgmayVzZ49ltoN9N\n",
       "+FJfJoae4Lo38SyNV+BCLNO9pTQDiOFUOC6FDLEtxSvsgI2TQEumP+rFlvMUPr1KHVih9sa9RZ8g\n",
       "CT0flcA6E5v3zCF4IneYIaU+TIdJrCHIhH/AMaUawfOo3enTMKtKpZZypp2+YLW8ysjUuzXWFuGL\n",
       "MIYulZLtmdXfPyJFQ61IylZ/geD/OvTnkSO5O9lU0u0TzzhrwQAAAYNBmqlJ4Q8mUwU8Ef/+tSqA\n",
       "2qy8ACJrwM1NN4uzvwea0+ddWO+KFnibVCHWjdhyO0Hk/f6gmA+5wiHDDuDh57pwYB5a0n1CCLSN\n",
       "Tuh6jQThyCuA8zEIXxjWhUkeevW6SXgG7aCW3697KA7LU9wxboZoVvsV0KECyUgBx1r7ytQ8sqH/\n",
       "Qw3ThOMGMenXw15Z1Hbv22sWJE/Znv5cqkvixzVVk/xE/rRo2mAtyNIn6aMrBO6sYLgIjoQx9j6/\n",
       "uN7wVT5f+t6sz84cFEGITnZLzH3DTBf6GRZy+n156pMjxSCfw1L+8ezAsBfkY6li5nel2V1V7KSF\n",
       "8Fz3aamL7Pg9EUSf0gHd2aKwDYkcv7QffUZgaGsO3V0NtdPzjpouJd4N4drJ66e19c6d0fcc9K/l\n",
       "RnnDlAU2YIiZksoLwHuoavvmf4K/y0HQEJlsoH7GMgL4XUawih/bSuTj6BUhG1iFSh+cvnFGLZAc\n",
       "AeIYyfd5Gd2o12qj99YYheIn0MV44Fhd4nSrbuAAAAD7AZ7IakP/AJ+NTLQAbVbwyKE96H5IThlw\n",
       "leg4KpB4r1IN1d9CwqbUV9v34b9l22ESguNXMiAthkp4cask6IKhmeU4rZNUT07ASjT2/zEULQRH\n",
       "QkkICC2T9LHW85l3rpSfbaMlIu1Fl35WHcVlxH/kP/26pPjUMTWc+uF4edJ8B6aP3BVKaisS4kPe\n",
       "/7WnvAGNq3+A8Ew/tD96pBcmvGhT1KY1MODLzaa8mNH3XVLaGaWWkRNBHVQK5bNU/kvjp585rKso\n",
       "aW0hfGn2k/VOvlzy8kU83ohlqvZzle16gZsDIXM4taywKjWh8jrEADvKNSccb5GoHGeI08ViRJQA\n",
       "AAGLQZrKSeEPJlMCCH/+qlUCARfofLJQAOiiBVKrm5I01rqX1NQJyoz036BLfKHYL1XBD/4vMY2d\n",
       "nEHRl5UeffeNXkustV6babK/f3ZnASFcAfK3WWp7NVUik19Yn7xTT6qVpjWserkbZB4Os2O8pkj/\n",
       "uuzwPyvWYaDA8cnZLh5FX4OkotPVHbJ+7eZFQEaRSuCbo8ZylVwUsgW4X8kIAOmUYPtcfCkNHcSv\n",
       "GG7J6/X9RVols/q7vPvOgLlP/CEygPW4ztZ6U7YSx3ctrsuwSTk5Wph/8ndiyj8CxAzz7WCGzcUt\n",
       "/zOAIiJr6JghZgErVIePz4lkcV4ZlHLtRCdNmyRd4U8LR7ziGoauuAm4mABRx6I6zChuRFgA1j3F\n",
       "VXBrHiv8BpCzEO4Y7YOITZ8F0TNQrnHsusFQqdPTfGezgHSy0dYWxuEoPVQDrbaXM9qkEiBdm5JR\n",
       "n0DdrVK94yyJ9XRLdXCbjqmREOUfc05pMvng3oSAXHTtXyUobN4MkYmfgnEPzmhzAejbDik63JUA\n",
       "AAFiQZrsSeEPJlMFETw///6plgXgTVADoZjVjxg6LtCJ1VYOOGWdGTcjCBJWR+lwawxmn5dU+xdh\n",
       "bxiHJzbaeVIz64wmuj3cJpU3gFjFkMVZrmp5eg5Ro1uzhEkRaYknOoLZMIeMpeiMjNWq/qZ2bj4g\n",
       "SGc02OzSMqBSScnWv+k/AC3nwT/nzn8ldXKnzV1hsYUlmBqgpjNXWCvppYct5sF37UG+Yjw0Ljs3\n",
       "N1P+D1YuiTbMtHssBoSQUhhgUhNU6nNK78LQch/P/OTIXDFTsOwRpLSPsrVk7A9QkJu4CYFRVk5g\n",
       "Qus80qLXxjUpGxo7Q/pDbapCLIMVhCzUsrTZqym6rOlmo6FfZ0K/SscZpgwYW/SZQ+AU9wS85TEk\n",
       "TZzYy13CyT890FQ2aD8x03TeqKJ8yj6rvUmSDclWh3M2AsM75F9QO3eH6VOwmKBTUfDfkXzQhXgf\n",
       "6UjltuiCkRQgfEPGZa+YAAAAxwGfC2pD/wCfTMvjJHdHABCaO0qYEUXyf29e2M0n8ScylF2Os/MD\n",
       "/yLcVd/F7905u4AQ1zeHL3GsSfXhkypbi/GzsIzUx7lovpRv57R+/XzOtYu+slnAaSlK15qE9Tx5\n",
       "kDBJN+W3UdOpgGuWpPupauEpsyviaX+o7V4rZkDcMdEHTeeCpFPlbKvVua49BJL5NyuKCjJacxJU\n",
       "pu++EEBktezmxZXW4QsxLIoy8nP7G8bXgWhAsJbjwbe++YU6d2ga9JejJjgCM6AAAAEUQZsNSeEP\n",
       "JlMCCH/+qlUBeDIZgBGKPP3JSoKYUH/CLkb2YZhhPj7lUo0a2Iut0nOvRbsj1UJ6UVBhjMNXuTFl\n",
       "vtPm9daMjyZogGRv2x1Uc6E66Id6q4m3lszJKpt9onDi0YH5twe0AmFe7e2iwOaYZgvynbwTNgFI\n",
       "Z6n7BVSDIvVbii3Jsm6uHiGFhdPj/0+PRCt3uP5gShHSr83fl2+E1Z9cDYx9MluIDIXjrX8VOSNr\n",
       "VowMt59QgxY4EkTD2NZHJ6/LCZLwBmtNLq7hwTYJFlbLNYp3Mw5NFJQ6qxkbfvrAVM1AzjZys2Nh\n",
       "/jfSImHIDgQrV93aKhJkC5sNt7jrHy1Pj1jcTRDfSZ1UVT/w/GAKebtZAAABD0GbL0nhDyZTBRE8\n",
       "Ev/+tSqA2sNnCWRgS9wAfxFG/Y8aqt9P2BNVH8FZBuztLGD45Kqd5Q1bk8i5NNPXY9BtrfE40vRp\n",
       "KFnGZFQ24OWLDifZB0sf/wrV5Z8yBMEkZy0ti7uhaGTp6XUrTxb92hHdTrtRuF0hgVMH/tdYuYFa\n",
       "MH/zOHb/5oaCVQyPL+NOHs74pijuuW3VAcMKPLfMF14UL4IStw+VZh4H8mOXvqtB5d+eb9436Lf6\n",
       "CHeb2KvE/LRT7uI/P290KQEZmIIEYjTaFBvewb1hZ6tQJljDzd6LsDIAbnl5/3wVRWoehCsRK+OK\n",
       "BN2dLX347UXVCm69LE2yRay1CAXr4vpeoFTYL9wmTVkAAADQAZ9OakP/AJ9M5d4V1+wAhNHaVMCH\n",
       "KunoDJnIThyVTzo2kg7Z0tLpx8tyIVU2CoKs6GpqBkVf3/VJcUYXecmN7TwO154SWItadyJCl2fR\n",
       "IckP83kDP3btt4ovPDYAaBT0JCySetn7HUEFLfvnzXZKipxaA7r6lUCfHiPQajDxZgRnEAOv1nF/\n",
       "aGuosUQSl0ti5uSjWr5TbeOx3lw6WjHUTaGxHRNBIJWNf4OvplshJOCn9Lr3XlIZml7PibIhkmCB\n",
       "uctLEm+W8hldIhMj9aWHsQAAANhBm1JJ4Q8mUwIf//6plgP1dK8AG0YbSpgRAQjW7w7C5rkoTzrX\n",
       "JAJtH3eyEW+A5FgAZNYm7F0tq2zerrGS2LAvcd+s/KtZplwG+XvqkUM0P2Zr8BJqHWj4hrID9ry4\n",
       "/P8s5Vb1sO2lPwPwcDqJNbzpKeV6ZAvbgk6Uez2b7nh9qgtQXqz+k8hHiEX5P2ZWrTTkH2TyFOPr\n",
       "DNn39/PjwKVGfM3POavax7iC0kTyoI5MoiLiQVZSenJ/75U0AAeTBCHOTqIkZoggPVlUyXVxMg74\n",
       "Pr3BQshoimIAAAC1QZ9xQh//AIlEjHABCaO0qYERWoVu8OwulUCUhbdqeyP4sNzYUuTrgefdicry\n",
       "EBeD5ETmR0L9DgavGrHUC5wylfwCNWuWUnOjwtV1L7cFoEPyUvUEkLVQjHCpuXWQSckGYBPS0d5U\n",
       "Ve/SzXtZdNn2WL5kNM7tJpqsdQcIhQpH6P6efSFKyuJDgRMk8hHP0J0dgxnSqEM23pXGLE+iwniq\n",
       "doEM4oMfQexjKHXKDxQ728qXmVhXIwAAALUBn5BpEP8AiEH5TwAbQ7GGRs2x//siHErecO1r3K/Z\n",
       "gOkWk2h7ujwP3iDSdzPZ5C8rT4hJ1xtgbkIoNppp2VmZy2FJC2vH0/HThYDrf/e98mDPqQq+zIvZ\n",
       "7a5qNAUgVeiqrcYV8gK6Ci9RFh2cF/hQeTrMDkx8KtDChbmXnsoScNIJsTrBaKYWeVCfJc+UkSds\n",
       "9u7JwP8Fey+GCeA7yoQibyyXTVVr4jCY2Iq2rBPggxVpmgHDAAAECm1vb3YAAABsbXZoZAAAAAAA\n",
       "AAAAAAAAAAAAA+gAAA7YAAEAAAEAAAAAAAAAAAAAAAABAAAAAAAAAAAAAAAAAAAAAQAAAAAAAAAA\n",
       "AAAAAAAAQAAAAAAAAAAAAAAAAAAAAAAAAAAAAAAAAAAAAAAAAAIAAAM0dHJhawAAAFx0a2hkAAAA\n",
       "AwAAAAAAAAAAAAAAAQAAAAAAAA7YAAAAAAAAAAAAAAAAAAAAAAABAAAAAAAAAAAAAAAAAAAAAQAA\n",
       "AAAAAAAAAAAAAAAAQAAAAAGwAAABIAAAAAAAJGVkdHMAAAAcZWxzdAAAAAAAAAABAAAO2AAAEAAA\n",
       "AQAAAAACrG1kaWEAAAAgbWRoZAAAAAAAAAAAAAAAAAAAKAAAAJgAVcQAAAAAAC1oZGxyAAAAAAAA\n",
       "AAB2aWRlAAAAAAAAAAAAAAAAVmlkZW9IYW5kbGVyAAAAAldtaW5mAAAAFHZtaGQAAAABAAAAAAAA\n",
       "AAAAAAAkZGluZgAAABxkcmVmAAAAAAAAAAEAAAAMdXJsIAAAAAEAAAIXc3RibAAAALNzdHNkAAAA\n",
       "AAAAAAEAAACjYXZjMQAAAAAAAAABAAAAAAAAAAAAAAAAAAAAAAGwASAASAAAAEgAAAAAAAAAAQAA\n",
       "AAAAAAAAAAAAAAAAAAAAAAAAAAAAAAAAAAAAAAAAABj//wAAADFhdmNDAWQAFf/hABhnZAAVrNlB\n",
       "sJaEAAADAAQAAAMAKDxYtlgBAAZo6+PLIsAAAAAcdXVpZGtoQPJfJE/FujmlG88DI/MAAAAAAAAA\n",
       "GHN0dHMAAAAAAAAAAQAAABMAAAgAAAAAFHN0c3MAAAAAAAAAAQAAAAEAAACgY3R0cwAAAAAAAAAS\n",
       "AAAAAgAAEAAAAAABAAAYAAAAAAEAAAgAAAAAAQAAGAAAAAABAAAIAAAAAAEAABgAAAAAAQAACAAA\n",
       "AAABAAAYAAAAAAEAAAgAAAAAAQAAEAAAAAABAAAYAAAAAAEAAAgAAAAAAQAAEAAAAAABAAAYAAAA\n",
       "AAEAAAgAAAAAAQAAIAAAAAABAAAQAAAAAAEAAAAAAAAAHHN0c2MAAAAAAAAAAQAAAAEAAAATAAAA\n",
       "AQAAAGBzdHN6AAAAAAAAAAAAAAATAAAS9gAAAygAAAG6AAABXAAAAXIAAAEHAAABiwAAANAAAAGH\n",
       "AAAA/wAAAY8AAAFmAAAAywAAARgAAAETAAAA1AAAANwAAAC5AAAAuQAAABRzdGNvAAAAAAAAAAEA\n",
       "AAAsAAAAYnVkdGEAAABabWV0YQAAAAAAAAAhaGRscgAAAAAAAAAAbWRpcmFwcGwAAAAAAAAAAAAA\n",
       "AAAtaWxzdAAAACWpdG9vAAAAHWRhdGEAAAABAAAAAExhdmY1Ni4zNi4xMDA=\n",
       "\">\n",
       "  Your browser does not support the video tag.\n",
       "</video>"
      ],
      "text/plain": [
       "<IPython.core.display.HTML object>"
      ]
     },
     "execution_count": 697,
     "metadata": {},
     "output_type": "execute_result"
    }
   ],
   "source": [
    "num =0\n",
    "animation = animation.FuncAnimation(fig, update_hist, 19, fargs=(num) )\n",
    "HTML(animation.to_html5_video())"
   ]
  },
  {
   "cell_type": "code",
   "execution_count": 698,
   "metadata": {
    "collapsed": false
   },
   "outputs": [
    {
     "name": "stdout",
     "output_type": "stream",
     "text": [
      "Iteration\t\t    ClusterSize Freq\t\t\t\tNodes in Cluster\tNodes without a cluster\n",
      "   0 \t\t [ 24  18  18   8  10   5   7   2 108] \t\t\t     1263 \t\t\t -13\n",
      "   1 \t\t [ 22  12  12  12   8   8   5   3 106] \t\t\t     1231 \t\t\t 19\n",
      "   2 \t\t [ 29  16  13   7   7  10   5   1 108] \t\t\t     1238 \t\t\t 12\n",
      "   3 \t\t [ 23  10  10  11   6  10   6   3 106] \t\t\t     1227 \t\t\t 23\n",
      "   4 \t\t [ 27  11  12  10   6   8   5   3 108] \t\t\t     1234 \t\t\t 16\n",
      "   5 \t\t [ 18   9  13   8   6   8   5   5 107] \t\t\t     1223 \t\t\t 27\n",
      "   6 \t\t [ 28  10  12  10   6   7   7   4 106] \t\t\t     1231 \t\t\t 19\n",
      "   7 \t\t [ 19   9  11   8   7   8   4   7 106] \t\t\t     1223 \t\t\t 27\n",
      "   8 \t\t [ 30  11  13  10   5   6   5   4 108] \t\t\t     1231 \t\t\t 19\n",
      "   9 \t\t [ 22   9  11  10   5   6   4   6 108] \t\t\t     1222 \t\t\t 28\n",
      "   10 \t\t [ 33  11  13  10   6   7   4   3 108] \t\t\t     1230 \t\t\t 20\n",
      "   11 \t\t [ 23  12  11   9   7   7   5   5 106] \t\t\t     1222 \t\t\t 28\n",
      "   12 \t\t [ 33  10  13  10   8   7   3   4 107] \t\t\t     1230 \t\t\t 20\n",
      "   13 \t\t [ 23  11  12   9   8   6   5   5 106] \t\t\t     1222 \t\t\t 28\n",
      "   14 \t\t [ 28  12  15  10   7   7   4   3 107] \t\t\t     1229 \t\t\t 21\n",
      "   15 \t\t [ 21  12  14   7   8   6   5   3 108] \t\t\t     1222 \t\t\t 28\n",
      "   16 \t\t [ 29  12  15   9   7   6   4   3 108] \t\t\t     1229 \t\t\t 21\n",
      "   17 \t\t [ 20  13  13  10   6   6   5   3 108] \t\t\t     1222 \t\t\t 28\n",
      "   18 \t\t [ 28   9  14  13   6   7   3   3 108] \t\t\t     1229 \t\t\t 21\n"
     ]
    }
   ],
   "source": [
    "count = 0\n",
    "total_nodes = 1250\n",
    "print(\"Iteration\\t\\t    ClusterSize Freq\\t\\t\\t\\tNodes in Cluster\\tNodes without a cluster\")\n",
    "#print(\"\\t         \\t    0   1   2   3   4   5   6   7   8\")\n",
    "for row in data:\n",
    "    \n",
    "    cluster_nodes = 0\n",
    "    count_array = np.bincount(row) \n",
    "    for i in range(0,len(count_array)):\n",
    "        cluster_nodes = cluster_nodes + count_array[i]*(i+1)\n",
    "    \n",
    "    print(\"  \",count,\"\\t\\t\",np.bincount(row),\"\\t\\t\\t    \",cluster_nodes,\"\\t\\t\\t\",total_nodes-cluster_nodes)\n",
    "    count = count+1"
   ]
  },
  {
   "cell_type": "code",
   "execution_count": null,
   "metadata": {
    "collapsed": false
   },
   "outputs": [],
   "source": []
  },
  {
   "cell_type": "code",
   "execution_count": null,
   "metadata": {
    "collapsed": true
   },
   "outputs": [],
   "source": []
  }
 ],
 "metadata": {
  "kernelspec": {
   "display_name": "Python 3",
   "language": "python",
   "name": "python3"
  },
  "language_info": {
   "codemirror_mode": {
    "name": "ipython",
    "version": 3
   },
   "file_extension": ".py",
   "mimetype": "text/x-python",
   "name": "python",
   "nbconvert_exporter": "python",
   "pygments_lexer": "ipython3",
   "version": "3.6.0"
  }
 },
 "nbformat": 4,
 "nbformat_minor": 2
}
