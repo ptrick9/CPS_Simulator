{
 "cells": [
  {
   "cell_type": "code",
   "execution_count": 93,
   "metadata": {
    "collapsed": true
   },
   "outputs": [],
   "source": [
    "#THIS IS A TEST FOR STATIC CASE -- NOT INDICATIVE OF MOBILE CASES\n",
    "\n",
    "import os\n",
    "import pandas as pd\n",
    "import csv\n",
    "import numpy as np\n",
    "from matplotlib import pyplot as plt\n",
    "from matplotlib import animation\n",
    "from IPython.display import HTML"
   ]
  },
  {
   "cell_type": "code",
   "execution_count": 94,
   "metadata": {
    "collapsed": true
   },
   "outputs": [],
   "source": [
    "numCH = [None]*200\n",
    "with open(\"Log-clusters.txt\") as csv_file:\n",
    "    data = list(csv.reader(csv_file, delimiter=','))\n",
    "    count = 0\n",
    "    for row in data:\n",
    "        numCH[count] = len(row)\n",
    "        count = count+1\n",
    "        for i in range(0,len(row)):\n",
    "            row[i] = int(row[i])"
   ]
  },
  {
   "cell_type": "code",
   "execution_count": 95,
   "metadata": {
    "collapsed": false
   },
   "outputs": [
    {
     "data": {
      "image/png": "[encoded data removed]",
      "text/plain": [
       "<matplotlib.figure.Figure at 0x21865751c88>"
      ]
     },
     "metadata": {},
     "output_type": "display_data"
    }
   ],
   "source": [
    "t = range(200)\n",
    "plt.plot(t, numCH, 'ro')\n",
    "plt.title(\"Total Cluster Heads at each Iteration\")\n",
    "plt.xlabel(\"Iteration\")\n",
    "plt.ylabel(\"# of Cluster Heads\")\n",
    "plt.show()"
   ]
  },
  {
   "cell_type": "code",
   "execution_count": 96,
   "metadata": {
    "collapsed": false
   },
   "outputs": [],
   "source": [
    "plt.figure()\n",
    "\n",
    "def update_hist(num):\n",
    "    plt.cla()\n",
    "    plt.hist(data[num])\n",
    "    plt.xlabel(\"Cluster Size\")\n",
    "    plt.ylabel(\"Frequency\")\n",
    "    plt.title(\"Cluster Sizes at T=\"+str(num))\n",
    "    \n",
    "fig = plt.figure()\n",
    "hist = plt.hist(data[0])"
   ]
  },
  {
   "cell_type": "code",
   "execution_count": 97,
   "metadata": {
    "collapsed": false
   },
   "outputs": [],
   "source": [
    "#num =0\n",
    "#animation = animation.FuncAnimation(fig, update_hist, 200, fargs=(num) )\n",
    "#HTML(animation.to_html5_video())"
   ]
  },
  {
   "cell_type": "code",
   "execution_count": 98,
   "metadata": {
    "collapsed": false
   },
   "outputs": [
    {
     "name": "stdout",
     "output_type": "stream",
     "text": [
      "Iteration\t\t    ClusterSize Freq\t\t\tNodes in Cluster\tCluster Heads\t  No Cluster\n",
      "   0 \t\t [] \t\t     0 \t\t   0 \t\t    2000\n",
      "   1 \t\t [] \t\t     0 \t\t   0 \t\t    2000\n",
      "   2 \t\t [19] \t\t     0 \t\t   19 \t\t    1981\n",
      "   3 \t\t [26  5  0  1] \t\t     8 \t\t   32 \t\t    1960\n",
      "   4 \t\t [23  3  2  3  3] \t\t     28 \t\t   34 \t\t    1938\n",
      "   5 \t\t [27  1  2  2  2  3  1  1] \t\t     47 \t\t   39 \t\t    1914\n",
      "   6 \t\t [20  1  2  1  1  4  1  2  2] \t\t     68 \t\t   34 \t\t    1898\n",
      "   7 \t\t [30  1  0  2  0  4  3  2  3] \t\t     83 \t\t   45 \t\t    1872\n",
      "   8 \t\t [23  4  3  0  1  2  3  1  7] \t\t     105 \t\t   44 \t\t    1851\n",
      "   9 \t\t [21  5  3  2  1  0  2  1 10] \t\t     120 \t\t   45 \t\t    1835\n",
      "   10 \t\t [29  3  3  3  4  1  0  0 12] \t\t     135 \t\t   55 \t\t    1810\n",
      "   11 \t\t [27  6  2  3  2  3  2  4  9] \t\t     154 \t\t   58 \t\t    1788\n",
      "   12 \t\t [27  6  3  3  4  3  1  2 12] \t\t     168 \t\t   61 \t\t    1771\n",
      "   13 \t\t [26  9  2  7  2  1  1  3 14] \t\t     186 \t\t   65 \t\t    1749\n",
      "   14 \t\t [27  5  3  4  8  1  1  2 15] \t\t     200 \t\t   66 \t\t    1734\n",
      "   15 \t\t [30  7  4  7  3  2  1  3 16] \t\t     213 \t\t   73 \t\t    1714\n",
      "   16 \t\t [31  6  3  7  4  2  0  5 17] \t\t     230 \t\t   75 \t\t    1695\n",
      "   17 \t\t [29  6  4  9  3  1  3  3 18] \t\t     241 \t\t   76 \t\t    1683\n",
      "   18 \t\t [33  5  6  7  0  9  3  1 18] \t\t     252 \t\t   82 \t\t    1666\n",
      "   19 \t\t [24  8  6  2  4  4  5  2 20] \t\t     266 \t\t   75 \t\t    1659\n",
      "   20 \t\t [36  6 10  1  6  4  6  2 19] \t\t     275 \t\t   90 \t\t    1635\n",
      "   21 \t\t [39  9  5  4  9  3  6  0 22] \t\t     294 \t\t   97 \t\t    1609\n",
      "   22 \t\t [44 10  2  2 10  4  6  3 22] \t\t     313 \t\t   103 \t\t    1584\n",
      "   23 \t\t [43  8  5  3  6  4  4  5 26] \t\t     338 \t\t   104 \t\t    1558\n",
      "   24 \t\t [39  7  9  7  5  7  1  4 28] \t\t     359 \t\t   107 \t\t    1534\n",
      "   25 \t\t [38 11  3  7  8  6  2  6 28] \t\t     378 \t\t   109 \t\t    1513\n",
      "   26 \t\t [48 17  5  4  6  9  7  1 29] \t\t     389 \t\t   126 \t\t    1485\n",
      "   27 \t\t [45 11  9  7  5  6  8  3 30] \t\t     409 \t\t   124 \t\t    1467\n",
      "   28 \t\t [44 16  7  8  4  7  7  2 32] \t\t     417 \t\t   127 \t\t    1456\n",
      "   29 \t\t [52 14  6  9  4  6  6  4 34] \t\t     435 \t\t   135 \t\t    1430\n",
      "   30 \t\t [52 13 10  6  7  5  5  4 36] \t\t     450 \t\t   138 \t\t    1412\n",
      "   31 \t\t [43 14 12 10  5  6  3  4 38] \t\t     468 \t\t   135 \t\t    1397\n",
      "   32 \t\t [49 14 10 11  6  7  4  4 38] \t\t     482 \t\t   143 \t\t    1375\n",
      "   33 \t\t [54 16  9  9 10  7  4  4 38] \t\t     492 \t\t   151 \t\t    1357\n",
      "   34 \t\t [60 15  8 12  8  9  4  4 38] \t\t     500 \t\t   158 \t\t    1342\n",
      "   35 \t\t [70  9 13 10  9  3  4  8 39] \t\t     508 \t\t   165 \t\t    1327\n",
      "   36 \t\t [67 13 12 10 11  7  7  4 38] \t\t     520 \t\t   169 \t\t    1311\n",
      "   37 \t\t [85 14 10  9  8  8  9  2 40] \t\t     521 \t\t   185 \t\t    1294\n",
      "   38 \t\t [83 13 10 13  8  9  9  1 41] \t\t     538 \t\t   187 \t\t    1275\n",
      "   39 \t\t [86 12  8 14  8  7 10  3 42] \t\t     554 \t\t   190 \t\t    1256\n",
      "   40 \t\t [81 17 10 14 10 10  4  2 47] \t\t     583 \t\t   195 \t\t    1222\n",
      "   41 \t\t [82 18 11 12 11  9  6  3 47] \t\t     598 \t\t   199 \t\t    1203\n",
      "   42 \t\t [88 23 12 12 12 10  5  4 46] \t\t     607 \t\t   212 \t\t    1181\n",
      "   43 \t\t [81 19 15 13 13  9  6  7 45] \t\t     630 \t\t   208 \t\t    1162\n",
      "   44 \t\t [81 20 11 16 11  8  6  6 50] \t\t     652 \t\t   209 \t\t    1139\n",
      "   45 \t\t [86 20  9 15  7  6 12  6 51] \t\t     663 \t\t   212 \t\t    1125\n",
      "   46 \t\t [93 20 12 14 12  8  7  7 52] \t\t     681 \t\t   225 \t\t    1094\n",
      "   47 \t\t [93 21 11 14 13 10  8  5 53] \t\t     694 \t\t   228 \t\t    1078\n",
      "   48 \t\t [90 19 10 13 13 11  9  4 56] \t\t     715 \t\t   225 \t\t    1060\n",
      "   49 \t\t [99 14 11 15 14  8 11  5 57] \t\t     734 \t\t   234 \t\t    1032\n",
      "   50 \t\t [90 15  8 15 14 13 10  6 57] \t\t     755 \t\t   228 \t\t    1017\n",
      "   51 \t\t [96 14 14 16 11 11 10  6 59] \t\t     763 \t\t   237 \t\t    1000\n",
      "   52 \t\t [110  19   9  13  16  11   9   6  60] \t\t     771 \t\t   253 \t\t    976\n",
      "   53 \t\t [94 17 15 10 14 15  9  8 60] \t\t     798 \t\t   242 \t\t    960\n",
      "   54 \t\t [102  21  11  13  14  11   9  11  61] \t\t     812 \t\t   253 \t\t    935\n",
      "   55 \t\t [92 21 14 11 15 14  9 11 62] \t\t     839 \t\t   249 \t\t    912\n",
      "   56 \t\t [91 27 14 15 15 11 11 10 63] \t\t     855 \t\t   257 \t\t    888\n",
      "   57 \t\t [97 20 19 13 15 10 11 11 65] \t\t     870 \t\t   261 \t\t    869\n",
      "   58 \t\t [97 23 19 16 12 11 12 11 65] \t\t     881 \t\t   266 \t\t    853\n",
      "   59 \t\t [106  29  17  14  16  13  13  11  63] \t\t     893 \t\t   282 \t\t    825\n",
      "   60 \t\t [88 27 19 19 19 11 16 12 61] \t\t     921 \t\t   272 \t\t    807\n",
      "   61 \t\t [93 31 11 17 19 13 13 11 67] \t\t     936 \t\t   275 \t\t    789\n",
      "   62 \t\t [90 33 16 17 21 11 13 11 67] \t\t     946 \t\t   279 \t\t    775\n",
      "   63 \t\t [100  32  19  17  21  10  14   8  70] \t\t     955 \t\t   291 \t\t    754\n",
      "   64 \t\t [101  32  17  15  25  13  11   8  72] \t\t     974 \t\t   294 \t\t    732\n",
      "   65 \t\t [97 33 14 15 21 10  8  8 81] \t\t     992 \t\t   287 \t\t    721\n",
      "   66 \t\t [106  30  15  29  15  11   8  10  77] \t\t     996 \t\t   301 \t\t    703\n",
      "   67 \t\t [103  36  15  22  16  10  12  11  77] \t\t     1011 \t\t   302 \t\t    687\n",
      "   68 \t\t [101  40  13  21  17  11  14  10  77] \t\t     1022 \t\t   304 \t\t    674\n",
      "   69 \t\t [113  42  13  14  14  14  14  12  78] \t\t     1028 \t\t   314 \t\t    658\n",
      "   70 \t\t [112  36  14  20  12  14  12  17  76] \t\t     1041 \t\t   313 \t\t    646\n",
      "   71 \t\t [115  33  21  18  15  16  11  11  80] \t\t     1052 \t\t   320 \t\t    628\n",
      "   72 \t\t [128  34  17  18  20  18  10   9  82] \t\t     1071 \t\t   336 \t\t    593\n",
      "   73 \t\t [115  39  15  22  16  15  12  11  84] \t\t     1095 \t\t   329 \t\t    576\n",
      "   74 \t\t [113  44  16  22  16  16  11  11  85] \t\t     1109 \t\t   334 \t\t    557\n",
      "   75 \t\t [123  38  20  27  12  14  11  10  88] \t\t     1117 \t\t   343 \t\t    540\n",
      "   76 \t\t [133  35  22  23  10  14  12  11  90] \t\t     1127 \t\t   350 \t\t    523\n",
      "   77 \t\t [142  35  19  31  12  12  15   9  88] \t\t     1131 \t\t   363 \t\t    506\n",
      "   78 \t\t [141  34  22  23  22  15  12  12  86] \t\t     1154 \t\t   367 \t\t    479\n",
      "   79 \t\t [124  38  18  22  17  18  12  17  87] \t\t     1185 \t\t   353 \t\t    462\n",
      "   80 \t\t [129  41  21  30  20  16  12  11  89] \t\t     1194 \t\t   369 \t\t    437\n",
      "   81 \t\t [130  43  27  21  23  18  13  14  86] \t\t     1206 \t\t   375 \t\t    419\n",
      "   82 \t\t [136  42  23  26  23  13  12  16  89] \t\t     1219 \t\t   380 \t\t    401\n",
      "   83 \t\t [133  38  25  29  24  13  15  17  87] \t\t     1241 \t\t   381 \t\t    378\n",
      "   84 \t\t [131  42  23  28  17  16  15  17  92] \t\t     1265 \t\t   381 \t\t    354\n",
      "   85 \t\t [123  42  27  22  19  17  13  15  98] \t\t     1290 \t\t   376 \t\t    334\n",
      "   86 \t\t [134  45  23  17  19  18  10  21  98] \t\t     1299 \t\t   385 \t\t    316\n",
      "   87 \t\t [142  42  24  26  25   9  14  21  95] \t\t     1304 \t\t   398 \t\t    298\n",
      "   88 \t\t [145  51  21  21  20  18  11  18  99] \t\t     1310 \t\t   404 \t\t    286\n",
      "   89 \t\t [142  52  28  22  18  13  12  19 102] \t\t     1332 \t\t   408 \t\t    260\n",
      "   90 \t\t [132  55  27  25  17  15  17  16 102] \t\t     1357 \t\t   406 \t\t    237\n",
      "   91 \t\t [152  53  26  26  16  16  15  20 101] \t\t     1365 \t\t   425 \t\t    210\n",
      "   92 \t\t [138  46  26  27  21  19  12  17 105] \t\t     1389 \t\t   411 \t\t    200\n",
      "   93 \t\t [158  40  27  20  29  16  17  11 109] \t\t     1401 \t\t   427 \t\t    172\n",
      "   94 \t\t [158  47  28  21  24  13  14  13 114] \t\t     1414 \t\t   432 \t\t    154\n",
      "   95 \t\t [150  46  26  27  27  14  16  15 109] \t\t     1430 \t\t   430 \t\t    140\n",
      "   96 \t\t [139  46  34  27  25  19  15  18 107] \t\t     1462 \t\t   430 \t\t    108\n",
      "   97 \t\t [139  51  30  30  34   9  14  19 110] \t\t     1479 \t\t   436 \t\t    85\n",
      "   98 \t\t [146  51  32  30  22  20  18  20 106] \t\t     1489 \t\t   445 \t\t    66\n",
      "   99 \t\t [146  55  35  30  22  13  16  18 114] \t\t     1502 \t\t   449 \t\t    49\n",
      "   100 \t\t [152  55  37  29  20  12  20  17 115] \t\t     1515 \t\t   457 \t\t    28\n",
      "   101 \t\t [145  56  35  31  25  17  16  16 115] \t\t     1532 \t\t   456 \t\t    12\n",
      "   102 \t\t [135  62  26  34  27   8  15  16 122] \t\t     1542 \t\t   445 \t\t    13\n",
      "   103 \t\t [135  55  29  36  20   9  20  16 121] \t\t     1546 \t\t   441 \t\t    13\n",
      "   104 \t\t [144  54  31  32  19  13  14  16 124] \t\t     1541 \t\t   447 \t\t    12\n",
      "   105 \t\t [150  57  37  27  19  11  13  16 125] \t\t     1533 \t\t   455 \t\t    12\n",
      "   106 \t\t [153  54  37  29  20  16  15  14 121] \t\t     1531 \t\t   459 \t\t    10\n",
      "   107 \t\t [138  56  43  30  16  25  13  17 115] \t\t     1538 \t\t   453 \t\t    9\n",
      "   108 \t\t [139  55  46  28  17  22  18  12 117] \t\t     1537 \t\t   454 \t\t    9\n",
      "   109 \t\t [142  60  41  33  14  23  20   9 117] \t\t     1531 \t\t   459 \t\t    10\n",
      "   110 \t\t [153  52  40  29  22  17  16  13 119] \t\t     1531 \t\t   461 \t\t    8\n",
      "   111 \t\t [152  55  41  36  23  17  11  13 118] \t\t     1523 \t\t   466 \t\t    11\n",
      "   112 \t\t [151  52  50  38  17  21   8  12 119] \t\t     1523 \t\t   468 \t\t    9\n",
      "   113 \t\t [152  58  50  34  17  19  13  16 114] \t\t     1525 \t\t   473 \t\t    2\n",
      "   114 \t\t [168  52  49  33  19  16  16  16 113] \t\t     1517 \t\t   482 \t\t    1\n",
      "   115 \t\t [161  58  47  30  21  17  17  17 111] \t\t     1520 \t\t   479 \t\t    1\n",
      "   116 \t\t [164  57  45  24  18  25  17  15 112] \t\t     1519 \t\t   477 \t\t    4\n",
      "   117 \t\t [170  53  47  25  21  20  10  16 117] \t\t     1514 \t\t   479 \t\t    7\n",
      "   118 \t\t [166  55  47  25  24  23  12  16 112] \t\t     1515 \t\t   480 \t\t    5\n",
      "   119 \t\t [161  52  49  31  20  26  10  19 109] \t\t     1518 \t\t   477 \t\t    5\n",
      "   120 \t\t [160  62  40  37  24  20  11  18 109] \t\t     1513 \t\t   481 \t\t    6\n",
      "   121 \t\t [159  60  40  39  21  20  13  20 107] \t\t     1515 \t\t   479 \t\t    6\n",
      "   122 \t\t [159  56  45  32  24  25  14  15 108] \t\t     1516 \t\t   478 \t\t    6\n",
      "   123 \t\t [160  55  44  32  28  22  13  16 108] \t\t     1515 \t\t   478 \t\t    7\n",
      "   124 \t\t [158  55  47  33  23  20  16  17 108] \t\t     1519 \t\t   477 \t\t    4\n",
      "   125 \t\t [158  60  44  38  25  20  14  16 107] \t\t     1514 \t\t   482 \t\t    4\n",
      "   126 \t\t [164  61  43  34  27  18  11  18 109] \t\t     1511 \t\t   485 \t\t    4\n",
      "   127 \t\t [177  53  49  33  29  20  14  18 103] \t\t     1500 \t\t   496 \t\t    4\n",
      "   128 \t\t [163  67  41  35  30  21  15  16 103] \t\t     1505 \t\t   491 \t\t    4\n",
      "   129 \t\t [160  66  43  36  23  24  15  23  98] \t\t     1507 \t\t   488 \t\t    5\n",
      "   130 \t\t [149  72  44  36  25  25  16  14 103] \t\t     1511 \t\t   484 \t\t    5\n",
      "   131 \t\t [165  67  43  32  24  23  14  15 107] \t\t     1505 \t\t   490 \t\t    5\n",
      "   132 \t\t [164  76  44  29  25  25  16  13 104] \t\t     1495 \t\t   496 \t\t    9\n",
      "   133 \t\t [160  76  49  29  28  24   9  11 109] \t\t     1496 \t\t   495 \t\t    9\n",
      "   134 \t\t [152  88  50  26  24  23  12  12 108] \t\t     1497 \t\t   495 \t\t    8\n",
      "   135 \t\t [143  81  54  22  32  21  11  16 105] \t\t     1506 \t\t   485 \t\t    9\n",
      "   136 \t\t [157  80  49  22  27  24  13  16 105] \t\t     1502 \t\t   493 \t\t    5\n",
      "   137 \t\t [157  74  50  23  21  20  17  21 104] \t\t     1508 \t\t   487 \t\t    5\n",
      "   138 \t\t [164  75  50  28  23  18  14  18 106] \t\t     1499 \t\t   496 \t\t    5\n",
      "   139 \t\t [166  70  58  23  23  24  11  19 104] \t\t     1498 \t\t   498 \t\t    4\n",
      "   140 \t\t [168  73  50  20  21  27  20  18 100] \t\t     1498 \t\t   497 \t\t    5\n",
      "   141 \t\t [178  71  52  19  26  28  11  15 104] \t\t     1479 \t\t   504 \t\t    17\n",
      "   142 \t\t [189  69  49  22  27  19  15  14 105] \t\t     1464 \t\t   509 \t\t    27\n",
      "   143 \t\t [187  80  48  27  22  19  11  17 105] \t\t     1465 \t\t   516 \t\t    19\n",
      "   144 \t\t [186  78  53  21  25  18  21  21  94] \t\t     1462 \t\t   517 \t\t    21\n",
      "   145 \t\t [185  79  46  21  32  23  17  17  96] \t\t     1466 \t\t   516 \t\t    18\n",
      "   146 \t\t [178  76  51  23  29  21  14  16 101] \t\t     1472 \t\t   509 \t\t    19\n",
      "   147 \t\t [180  74  54  22  29  23  16  18  96] \t\t     1469 \t\t   512 \t\t    19\n",
      "   148 \t\t [175  68  63  18  28  19  16  19  99] \t\t     1476 \t\t   505 \t\t    19\n",
      "   149 \t\t [167  72  61  22  22  23  16  13 104] \t\t     1482 \t\t   500 \t\t    18\n",
      "   150 \t\t [167  69  56  21  25  21  16  14 106] \t\t     1491 \t\t   495 \t\t    14\n",
      "   151 \t\t [173  74  53  26  22  21  14  17 104] \t\t     1486 \t\t   504 \t\t    10\n",
      "   152 \t\t [163  80  52  27  35  19  15  19  95] \t\t     1483 \t\t   505 \t\t    12\n",
      "   153 \t\t [170  78  54  29  22  30   9  20  97] \t\t     1481 \t\t   509 \t\t    10\n",
      "   154 \t\t [178  82  49  38  18  27  15  16  96] \t\t     1471 \t\t   519 \t\t    10\n",
      "   155 \t\t [175  63  55  42  22  24  17  17  93] \t\t     1472 \t\t   508 \t\t    20\n",
      "   156 \t\t [182  74  51  36  22  32  19  17  88] \t\t     1469 \t\t   521 \t\t    10\n",
      "   157 \t\t [188  78  60  21  23  22  21  19  93] \t\t     1466 \t\t   525 \t\t    9\n",
      "   158 \t\t [192  78  53  29  20  21  19  17  97] \t\t     1465 \t\t   526 \t\t    9\n",
      "   159 \t\t [197  77  49  30  29  26  12  17  95] \t\t     1462 \t\t   532 \t\t    6\n",
      "   160 \t\t [191  76  49  28  36  25  10  15  97] \t\t     1468 \t\t   527 \t\t    5\n",
      "   161 \t\t [177  77  45  38  33  22  12  15  97] \t\t     1476 \t\t   516 \t\t    8\n",
      "   162 \t\t [182  71  38  32  31  30  14  16  95] \t\t     1473 \t\t   509 \t\t    18\n",
      "   163 \t\t [187  65  43  38  25  25  17  12 100] \t\t     1476 \t\t   512 \t\t    12\n",
      "   164 \t\t [188  70  39  42  26  27  12  15  98] \t\t     1474 \t\t   517 \t\t    9\n",
      "   165 \t\t [171  81  36  35  24  24  19  13 101] \t\t     1487 \t\t   504 \t\t    9\n",
      "   166 \t\t [183  81  45  38  23  19  12  15 103] \t\t     1473 \t\t   519 \t\t    8\n",
      "   167 \t\t [190  72  57  32  17  34  10   9 103] \t\t     1467 \t\t   524 \t\t    9\n",
      "   168 \t\t [176  88  48  23  24  25  17  12 102] \t\t     1476 \t\t   515 \t\t    9\n",
      "   169 \t\t [176  86  56  17  18  28  23  13  99] \t\t     1482 \t\t   516 \t\t    2\n",
      "   170 \t\t [181  74  50  29  23  33  11  14 100] \t\t     1482 \t\t   515 \t\t    3\n",
      "   171 \t\t [170  70  55  29  24  30  17  19  93] \t\t     1492 \t\t   507 \t\t    1\n",
      "   172 \t\t [165  70  59  29  23  29  24  19  88] \t\t     1493 \t\t   506 \t\t    1\n",
      "   173 \t\t [163  80  54  24  28  28  17  17  95] \t\t     1493 \t\t   506 \t\t    1\n",
      "   174 \t\t [177  80  55  33  26  14  22  12 100] \t\t     1479 \t\t   519 \t\t    2\n",
      "   175 \t\t [168  90  51  30  25  21  17  18  96] \t\t     1483 \t\t   516 \t\t    1\n",
      "   176 \t\t [177  75  52  38  22  19  18  12 102] \t\t     1484 \t\t   515 \t\t    1\n",
      "   177 \t\t [174  84  54  37  18  15  20  18  98] \t\t     1480 \t\t   518 \t\t    2\n",
      "   178 \t\t [171  81  55  39  28  19  20  13  94] \t\t     1478 \t\t   520 \t\t    2\n",
      "   179 \t\t [169  87  57  35  25  24  13  14  95] \t\t     1462 \t\t   519 \t\t    19\n",
      "   180 \t\t [174  82  54  39  25  21  19  13  95] \t\t     1477 \t\t   522 \t\t    1\n",
      "   181 \t\t [177  81  51  47  22  21  19  14  93] \t\t     1473 \t\t   525 \t\t    2\n",
      "   182 \t\t [177  73  53  41  20  23  22  21  88] \t\t     1480 \t\t   518 \t\t    2\n",
      "   183 \t\t [177  69  59  41  21  30  17  16  90] \t\t     1478 \t\t   520 \t\t    2\n",
      "   184 \t\t [166  72  47  41  26  29  24  16  87] \t\t     1490 \t\t   508 \t\t    2\n",
      "   185 \t\t [166  68  47  45  21  30  11  22  93] \t\t     1495 \t\t   503 \t\t    2\n",
      "   186 \t\t [163  77  48  34  28  25  23  12  95] \t\t     1494 \t\t   505 \t\t    1\n",
      "   187 \t\t [173  73  46  40  18  28  20  16  95] \t\t     1489 \t\t   509 \t\t    2\n",
      "   188 \t\t [166  76  45  38  24  19  25  16  95] \t\t     1493 \t\t   504 \t\t    3\n",
      "   189 \t\t [174  75  45  39  24  21  23  13  97] \t\t     1488 \t\t   511 \t\t    1\n",
      "   190 \t\t [183  75  45  36  17  24  23  20  93] \t\t     1483 \t\t   516 \t\t    1\n",
      "   191 \t\t [180  83  44  40  22  20  26  14  93] \t\t     1477 \t\t   522 \t\t    1\n",
      "   192 \t\t [179  86  52  27  25  27  22  15  89] \t\t     1455 \t\t   522 \t\t    23\n",
      "   193 \t\t [191  81  40  34  27  26  24  17  86] \t\t     1452 \t\t   526 \t\t    22\n",
      "   194 \t\t [190  76  30  37  31  26  21  21  88] \t\t     1478 \t\t   520 \t\t    2\n",
      "   195 \t\t [166  79  32  36  25  31  24  17  89] \t\t     1481 \t\t   499 \t\t    20\n",
      "   196 \t\t [173  74  44  30  24  28  22  18  91] \t\t     1474 \t\t   504 \t\t    22\n",
      "   197 \t\t [170  77  40  33  26  25  25  14  94] \t\t     1485 \t\t   504 \t\t    11\n",
      "   198 \t\t [175  75  50  29  21  26  23  14  96] \t\t     1480 \t\t   509 \t\t    11\n",
      "   199 \t\t [166  84  44  29  28  25  26  11  95] \t\t     1489 \t\t   508 \t\t    3\n"
     ]
    }
   ],
   "source": [
    "count = 0\n",
    "total_nodes = 2000\n",
    "print(\"Iteration\\t\\t    ClusterSize Freq\\t\\t\\tNodes in Cluster\\tCluster Heads\\t  No Cluster\")\n",
    "#print(\"\\t         \\t    0   1   2   3   4   5   6   7   8\")\n",
    "for row in data:\n",
    "    \n",
    "    cluster_nodes = 0\n",
    "    cluster_heads = 0\n",
    "    count_array = np.bincount(row) \n",
    "    for i in range(0,len(count_array)):\n",
    "        cluster_heads = cluster_heads + count_array[i]\n",
    "        cluster_nodes = cluster_nodes + count_array[i]*(i+1)\n",
    "    \n",
    "    print(\"  \",count,\"\\t\\t\",np.bincount(row),\"\\t\\t    \",cluster_nodes-cluster_heads,\"\\t\\t  \",cluster_heads,\"\\t\\t   \",total_nodes-cluster_nodes)\n",
    "    count = count+1"
   ]
  },
  {
   "cell_type": "code",
   "execution_count": 99,
   "metadata": {
    "collapsed": false
   },
   "outputs": [],
   "source": [
    "numCH = [None]*200\n",
    "with open(\"Log-cluster_messages.txt\") as csv_file:\n",
    "    msg_data = list(csv.reader(csv_file, delimiter=','))\n",
    "    count = 0\n",
    "    for row in msg_data:\n",
    "        for i in range(0,len(row)):\n",
    "            row[i] = int(row[i])"
   ]
  },
  {
   "cell_type": "code",
   "execution_count": 100,
   "metadata": {
    "collapsed": false,
    "scrolled": false
   },
   "outputs": [
    {
     "data": {
      "text/plain": [
       "<matplotlib.figure.Figure at 0x2186492c7b8>"
      ]
     },
     "metadata": {},
     "output_type": "display_data"
    },
    {
     "data": {
      "image/png": "[encoded data removed]",
      "text/plain": [
       "<matplotlib.figure.Figure at 0x21860e51e10>"
      ]
     },
     "metadata": {},
     "output_type": "display_data"
    }
   ],
   "source": [
    "msg_clean = [x[:] for x in [[0] * 200] * 2]\n",
    "\n",
    "for i in range(0,2):\n",
    "    for j in range(0,200):\n",
    "        msg_clean[i][j] = msg_data[j][i]\n",
    "\n",
    "plt.plot(msg_clean[1],'bo')\n",
    "plt.title(\"Total Messages Sent at each Iteration\")\n",
    "plt.xlabel(\"Iteration\")\n",
    "plt.ylabel(\"# of Messages\")\n",
    "plt.show()"
   ]
  },
  {
   "cell_type": "code",
   "execution_count": 112,
   "metadata": {
    "collapsed": false
   },
   "outputs": [
    {
     "name": "stdout",
     "output_type": "stream",
     "text": [
      "76350\n",
      "4-2-63-Server-2-4-6\n",
      "\n",
      "0\n"
     ]
    }
   ],
   "source": [
    "with open(\"Log-cluster_readings_CL_ON.txt\") as f:\n",
    "    creadings = f.readlines()\n",
    "\n",
    "bt_count = 0\n",
    "svr_count = 0\n",
    "bt_bytes = 0\n",
    "svr_bytes = 0\n",
    "for i in range(0,len(creadings)):\n",
    "    creadings[i] = creadings[i].split('-')\n",
    "    creadings[i][6] = (creadings[i][6].split('\\n'))[0]\n",
    "    if(creadings[i][3]=='BT'):\n",
    "        bt_count = bt_count + 1\n",
    "        bt_bytes = bt_bytes + int(creadings[i][6])\n",
    "    else:\n",
    "        if(creadings[i][3]=='Server'):\n",
    "            svr_count = svr_count + 1\n",
    "            svr_bytes = svr_bytes + int(creadings[i][6])\n",
    "            \n",
    "print(bt_count)\n",
    "bt_cl_data = (bt_count,bt_bytes)\n",
    "svr_cl_data = (svr_count,svr_bytes)\n",
    "svr_cl_bytes = svr_bytes\n",
    "bt_cl_bytes = bt_bytes\n",
    "svr_cl_count = svr_count\n",
    "bt_cl_count = bt_count\n",
    "\n",
    "with open(\"Log-cluster_readings_CL_OFF.txt\") as f:\n",
    "    readings = f.readlines()\n",
    "\n",
    "print(readings[0])\n",
    "bt_count = 0\n",
    "svr_count = 0\n",
    "bt_bytes = 0\n",
    "svr_bytes = 0\n",
    "for i in range(0,len(readings)):\n",
    "    readings[i] = readings[i].split('-')\n",
    "    readings[i][6] = (readings[i][6].split('\\n'))[0]\n",
    "    if(readings[i][3]=='BT'):\n",
    "        bt_count = bt_count + 1\n",
    "        bt_bytes = bt_bytes + int(readings[i][6])\n",
    "    else:\n",
    "        if(readings[i][3]=='Server'):\n",
    "            svr_count = svr_count + 1\n",
    "            svr_bytes = svr_bytes + int(readings[i][6])\n",
    "            \n",
    "print(bt_count)\n",
    "bt_data = (bt_count,bt_bytes)\n",
    "svr_data = (svr_count,svr_bytes)\n",
    "\n",
    "cl_on_bytes = (svr_cl_bytes,bt_cl_bytes,svr_cl_bytes+bt_cl_bytes)\n",
    "cl_off_bytes = (svr_bytes,bt_bytes,svr_bytes+bt_bytes)\n",
    "\n",
    "cl_on = (svr_cl_count,bt_cl_count)\n",
    "cl_off = (svr_count,bt_count)"
   ]
  },
  {
   "cell_type": "code",
   "execution_count": 120,
   "metadata": {
    "collapsed": false
   },
   "outputs": [
    {
     "data": {
      "image/png": "[encoded data removed]",
      "text/plain": [
       "<matplotlib.figure.Figure at 0x218653401d0>"
      ]
     },
     "metadata": {},
     "output_type": "display_data"
    }
   ],
   "source": [
    "groups = 2\n",
    "fig, ax = plt.subplots()\n",
    "index = np.arange(groups)\n",
    "bar_width = 0.35\n",
    "opacity = 0.8\n",
    "bar1 = plt.bar(index, cl_on, bar_width, alpha=opacity, color='r', label=\"Cluster On\")\n",
    "bar2 = plt.bar(index+bar_width, cl_off, bar_width, alpha=opacity, color='b', label=\"Cluster Off\")\n",
    "\n",
    "plt.xlabel('Signal')\n",
    "plt.ylabel('# Transmissions')\n",
    "plt.title('Effect of Clustering on Reading Transmissions')\n",
    "plt.xticks(index + bar_width/2, ('Transmissions over\\n Server (4G)', 'Transmissions over\\n BT'))\n",
    "plt.legend()\n",
    "\n",
    "plt.tight_layout()\n",
    "plt.show()"
   ]
  },
  {
   "cell_type": "code",
   "execution_count": 121,
   "metadata": {
    "collapsed": false
   },
   "outputs": [
    {
     "data": {
      "image/png": "[encoded data removed]",
      "text/plain": [
       "<matplotlib.figure.Figure at 0x2186531f898>"
      ]
     },
     "metadata": {},
     "output_type": "display_data"
    }
   ],
   "source": [
    "groups = 3\n",
    "fig, ax = plt.subplots()\n",
    "index = np.arange(groups)\n",
    "bar_width = 0.35\n",
    "opacity = 0.8\n",
    "bar1 = plt.bar(index, cl_on_bytes, bar_width, alpha=opacity, color='r', label=\"Cluster On\")\n",
    "bar2 = plt.bar(index+bar_width, cl_off_bytes, bar_width, alpha=opacity, color='b', label=\"Cluster Off\")\n",
    "\n",
    "plt.ylabel('# Readings')\n",
    "plt.title('Total Readings Transmitted')\n",
    "plt.xticks(index + bar_width/2, ('Server (4G)', 'BT', 'Total'))\n",
    "plt.legend()\n",
    "\n",
    "plt.tight_layout()\n",
    "plt.show()"
   ]
  },
  {
   "cell_type": "code",
   "execution_count": 103,
   "metadata": {
    "collapsed": false
   },
   "outputs": [],
   "source": [
    "node_av_data_CON = [x[:] for x in [[\"0\"] * 2] * 200]\n",
    "with open(\"Log-nodes_alive_valid_CL_ON.txt\") as f:\n",
    "    raw_av_data_CON = f.readlines()\n",
    "    \n",
    "for i in range(0,200):\n",
    "    node_av_data_CON[i] = raw_av_data_CON[i].split(',')\n",
    "    node_av_data_CON[i][1] = (node_av_data_CON[i][1].split(\"\\n\"))[0]\n",
    "    node_av_data_CON[i][0] = float((node_av_data_CON[i][0].split(\":\"))[1])\n",
    "    node_av_data_CON[i][1] = float((node_av_data_CON[i][1].split(\":\"))[1])\n",
    "    \n",
    "node_av_data_COFF = [x[:] for x in [[\"0\"] * 2] * 200]\n",
    "with open(\"Log-nodes_alive_valid_CL_OFF.txt\") as f:\n",
    "    raw_av_data_COFF = f.readlines()\n",
    "    \n",
    "for i in range(0,200):\n",
    "    node_av_data_COFF[i] = raw_av_data_COFF[i].split(',')\n",
    "    node_av_data_COFF[i][1] = (node_av_data_COFF[i][1].split(\"\\n\"))[0]\n",
    "    node_av_data_COFF[i][0] = float((node_av_data_COFF[i][0].split(\":\"))[1])\n",
    "    node_av_data_COFF[i][1] = float((node_av_data_COFF[i][1].split(\":\"))[1])"
   ]
  },
  {
   "cell_type": "code",
   "execution_count": null,
   "metadata": {
    "collapsed": true
   },
   "outputs": [],
   "source": []
  },
  {
   "cell_type": "code",
   "execution_count": 104,
   "metadata": {
    "collapsed": false
   },
   "outputs": [],
   "source": [
    "percent_alive_CON = [0.0]*200\n",
    "percent_alive_COFF = [0.0]*200\n",
    "for i in range(0,200):\n",
    "    try:\n",
    "        percent_alive_CON[i] = (node_av_data_CON[i][1]/node_av_data_CON[i][0])*100\n",
    "    except ZeroDivisionError:\n",
    "        percent_alive_CON[i] = 1\n",
    "    try:\n",
    "        percent_alive_COFF[i] = (node_av_data_COFF[i][1]/node_av_data_COFF[i][0])*100\n",
    "    except ZeroDivisionError:\n",
    "        percent_alive_COFF[i] = 1"
   ]
  },
  {
   "cell_type": "code",
   "execution_count": 85,
   "metadata": {
    "collapsed": false
   },
   "outputs": [
    {
     "data": {
      "image/png": "[encoded data removed]",
      "text/plain": [
       "<matplotlib.figure.Figure at 0x218615977f0>"
      ]
     },
     "metadata": {},
     "output_type": "display_data"
    }
   ],
   "source": [
    "fig,ax = plt.subplots()\n",
    "ax.plot(percent_alive_COFF,'b.',label=\"Clustering-OFF\")\n",
    "ax.plot(percent_alive_CON,'g.',label=\"Clustering-ON\")\n",
    "plt.title(\"% of Nodes w/ Sufficient Batteries per iteration\")\n",
    "plt.xlabel(\"Iteration\")\n",
    "plt.ylabel(\"%\")\n",
    "legend = ax.legend(loc='lower left', shadow=True)\n",
    "plt.show()"
   ]
  },
  {
   "cell_type": "code",
   "execution_count": null,
   "metadata": {
    "collapsed": true
   },
   "outputs": [],
   "source": []
  },
  {
   "cell_type": "code",
   "execution_count": null,
   "metadata": {
    "collapsed": true
   },
   "outputs": [],
   "source": []
  },
  {
   "cell_type": "code",
   "execution_count": null,
   "metadata": {
    "collapsed": true
   },
   "outputs": [],
   "source": []
  }
 ],
 "metadata": {
  "kernelspec": {
   "display_name": "Python 3",
   "language": "python",
   "name": "python3"
  },
  "language_info": {
   "codemirror_mode": {
    "name": "ipython",
    "version": 3
   },
   "file_extension": ".py",
   "mimetype": "text/x-python",
   "name": "python",
   "nbconvert_exporter": "python",
   "pygments_lexer": "ipython3",
   "version": "3.6.0"
  }
 },
 "nbformat": 4,
 "nbformat_minor": 2
}
