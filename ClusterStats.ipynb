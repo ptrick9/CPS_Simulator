{
 "cells": [
  {
   "cell_type": "code",
   "execution_count": 744,
   "metadata": {
    "collapsed": true
   },
   "outputs": [],
   "source": [
    "import os\n",
    "import pandas as pd\n",
    "import csv\n",
    "import numpy as np\n",
    "from matplotlib import pyplot as plt\n",
    "from matplotlib import animation\n",
    "from IPython.display import HTML"
   ]
  },
  {
   "cell_type": "code",
   "execution_count": 745,
   "metadata": {
    "collapsed": true
   },
   "outputs": [],
   "source": [
    "numCH = [None]*200\n",
    "with open(\"Log-clusters.txt\") as csv_file:\n",
    "    data = list(csv.reader(csv_file, delimiter=','))\n",
    "    count = 0\n",
    "    for row in data:\n",
    "        numCH[count] = len(row)\n",
    "        count = count+1\n",
    "        for i in range(0,len(row)):\n",
    "            row[i] = int(row[i])"
   ]
  },
  {
   "cell_type": "code",
   "execution_count": 746,
   "metadata": {
    "collapsed": false
   },
   "outputs": [
    {
     "data": {
      "text/plain": [
       "<matplotlib.figure.Figure at 0x140fef47048>"
      ]
     },
     "metadata": {},
     "output_type": "display_data"
    },
    {
     "data": {
      "image/png": "[encoded data removed]",
      "text/plain": [
       "<matplotlib.figure.Figure at 0x140fe83a3c8>"
      ]
     },
     "metadata": {},
     "output_type": "display_data"
    }
   ],
   "source": [
    "t = range(200)\n",
    "plt.plot(t, numCH, 'ro')\n",
    "plt.title(\"Total Cluster Heads at each Iteration\")\n",
    "plt.xlabel(\"Iteration\")\n",
    "plt.ylabel(\"# of Cluster Heads\")\n",
    "plt.show()"
   ]
  },
  {
   "cell_type": "code",
   "execution_count": 747,
   "metadata": {
    "collapsed": false
   },
   "outputs": [],
   "source": [
    "plt.figure()\n",
    "\n",
    "def update_hist(num):\n",
    "    plt.cla()\n",
    "    plt.hist(data[num])\n",
    "    plt.xlabel(\"Cluster Size\")\n",
    "    plt.ylabel(\"Frequency\")\n",
    "    plt.title(\"Cluster Sizes at T=\"+str(num))\n",
    "    \n",
    "fig = plt.figure()\n",
    "hist = plt.hist(data[0])"
   ]
  },
  {
   "cell_type": "code",
   "execution_count": 748,
   "metadata": {
    "collapsed": false
   },
   "outputs": [
    {
     "data": {
      "text/html": [
       "<video width=\"432\" height=\"288\" controls autoplay loop>\n",
       "  <source type=\"video/mp4\" src=\"data:video/mp4;base64,AAAAHGZ0eXBNNFYgAAACAGlzb21pc28yYXZjMQAAAAhmcmVlAAAmEm1kYXQAAAKtBgX//6ncRem9\n",
       "5tlIt5Ys2CDZI+7veDI2NCAtIGNvcmUgMTQ2IHIyNTM4IDEyMTM5NmMgLSBILjI2NC9NUEVHLTQg\n",
       "QVZDIGNvZGVjIC0gQ29weWxlZnQgMjAwMy0yMDE1IC0gaHR0cDovL3d3dy52aWRlb2xhbi5vcmcv\n",
       "eDI2NC5odG1sIC0gb3B0aW9uczogY2FiYWM9MSByZWY9MyBkZWJsb2NrPTE6MDowIGFuYWx5c2U9\n",
       "MHgzOjB4MTEzIG1lPWhleCBzdWJtZT03IHBzeT0xIHBzeV9yZD0xLjAwOjAuMDAgbWl4ZWRfcmVm\n",
       "PTEgbWVfcmFuZ2U9MTYgY2hyb21hX21lPTEgdHJlbGxpcz0xIDh4OGRjdD0xIGNxbT0wIGRlYWR6\n",
       "b25lPTIxLDExIGZhc3RfcHNraXA9MSBjaHJvbWFfcXBfb2Zmc2V0PS0yIHRocmVhZHM9NiBsb29r\n",
       "YWhlYWRfdGhyZWFkcz0xIHNsaWNlZF90aHJlYWRzPTAgbnI9MCBkZWNpbWF0ZT0xIGludGVybGFj\n",
       "ZWQ9MCBibHVyYXlfY29tcGF0PTAgY29uc3RyYWluZWRfaW50cmE9MCBiZnJhbWVzPTMgYl9weXJh\n",
       "bWlkPTIgYl9hZGFwdD0xIGJfYmlhcz0wIGRpcmVjdD0xIHdlaWdodGI9MSBvcGVuX2dvcD0wIHdl\n",
       "aWdodHA9MiBrZXlpbnQ9MjUwIGtleWludF9taW49NSBzY2VuZWN1dD00MCBpbnRyYV9yZWZyZXNo\n",
       "PTAgcmNfbG9va2FoZWFkPTQwIHJjPWNyZiBtYnRyZWU9MSBjcmY9MjMuMCBxY29tcD0wLjYwIHFw\n",
       "bWluPTAgcXBtYXg9NjkgcXBzdGVwPTQgaXBfcmF0aW89MS40MCBhcT0xOjEuMDAAgAAAEGpliIQA\n",
       "EP/+94G/MstfIrrJcfnn4/9rd2zGNAxUDtE26UgAAAMAAnlP5XA83VbtjgGJM3K/4Ay32t/f9sYj\n",
       "DobsRZ6xP8Kwz9+CH6qJ3OBQ9iz0PdxcQH2u09FUxYWv8YTRbCP467EnGqU829oOsEJzHKRalCtI\n",
       "qzmYRP+b8EYTzWMbUPSZNO/islEqrNtmLvUpkDtCOY1aIdKkQADoJqKzr7d6Ue3pH42JySd5FxMK\n",
       "1gArOpQ83qbw+nt8v+QvVax2sUCSmrc3VObqa1WV2WBNDPE7ZuafbgYCwEpZ76mMG5qcgbeAUC28\n",
       "REnDbgWu7o/S1BVFT/3wFrjdwQmJTH19eeJmeq5z1ppwGMo08nCTbZsPSePhniv6HYu63XkO6ul7\n",
       "efgOMXU5LCXDrBs8BElJJ4zG88tOGuqUemah963jFornGwU0PCyiVOYBb70mBvRoSYn3GfzQUGk2\n",
       "ECWG+yZRcvp9EJDyFIGEX51Wvw5WN1sbXBIX34jLaMvIUemjdd+KQQ3ffjWy/6FWwvrVjKDlFK/E\n",
       "ujNfdsEMUA/jZKcPgI7oywZJkj5hHD6dt5SeTuxddQokjnjH70fVU4hJIThUpDnHi6124SOWrPRa\n",
       "hzXzNUKJ5YQmEOYfSx1JEWewm0x+oDPBGvvs5Z++dJOXaGUvTLGnIwrRNWoLDxEZH/RYiJ8v2KLp\n",
       "vf5b7JCee5dwaiT+2wjW6RpkUpTYKkPKfpUg/yR6OdhjXP9I4POFx9SGTT4t/KzEyilfPe2BUYsW\n",
       "OZ6bysyMUbqwEfsJKQsLnc5ln2ew2HBT4BLUejDQGycVM2Ko0m1bEpp6p+BBgB3fnPbKuiZtqi5F\n",
       "s8IpI3SCI8d39quZXHu5hqdF+/k9s4Z7WBqQsRXZtXyvxELKXs9BkwmwT3AMIzGx2/zcU/dYUaZP\n",
       "vAkoLErezgdYmdvX2UUs3sKyoRSYKi7jqY0zglc38zkqGELs+tGzsG1FbFvwS72WXSncKSUVsAE8\n",
       "6S+9WbbD8uua1Dz2ff/6Dc8HUMPFQ5uB5ePN39gL+ypa9PzQAnQ05825NNCXSlMxozKoIJ0StpVT\n",
       "MB9JFVQl5CQXDRw+ceu7GGslkrFfC9gjXnBtL0SGzKZmGqNd9/+0nLsXduP/QwuTcSw+PeWKQqUE\n",
       "h3/9LoLjwCzopgnYZUXuqEcGLWJqpjDtgwagcuO583bPXTpCqyvRH2nx8WpH5bUJnuzpeidBtwSt\n",
       "LqWki+P/OJke2RhKMtWwMiDQjfNIW/DpP0iC016GQstcXz37v/jHE/+1xfyNQy86ADOKn9G53/Dn\n",
       "1IP/9ijslJnqSmqa29vbgNvd0vkgCCJ7RAXuYF1l8ENIk2IcQEmfNu9rkPZH/f2V6IOt4vp0N7Th\n",
       "ys3j4GLSWWA3GP2UhdGayqHwR80SSmXrpuLHdRJs25G0x1J+nvpJTw/e6DdC+LETd6+mmOfRrxkC\n",
       "brpZcLbjr9PfccUo1eQKQ2n1M0jfpK6LBDrDFKjfKF5e3oENQdt3EW/yuifPsZ6YZc2j88+BlT19\n",
       "WP2YwNIMk3I4Qf77wL6keJGMhBimK1/72nRlSTX7WpNtWVVxZO2lW5sRJsQ2bU7uid38fBIIIpxl\n",
       "6JrNrp/QWACt2B7wHRv/DQC5lVWcC7axe9xHiJckGIYYuiGPwJUVAr8cdjKsqWerai9Qokfmv8f3\n",
       "6LrIHcZqBqN4U52g/0mfxshHUPWL5mp1rUO/fTDBVpD5AQUzoPHra7TRhFr1lJOMnbQUQai7wRA/\n",
       "XDB0epzI2YHOO4eAtabNycnMgYfoHe1KofzSoKOA2NnNJNjDcBWgCtX1ikPJfx/ub75X1JbZjZwk\n",
       "k2pUW26YbcLYt7cbiXNlON+ahz0n55rGRClIo7uezxXzfUek2ctjNK/j3Xg9iU4duEIWLb0p9IIY\n",
       "K5W5180J4WtOnnWMqAC53yGq9yV51lt2e9ObnjjohbWwVqUFbIrr1EYZ+PmkaPW4Dr3TSyVxAJGl\n",
       "eTZtpe9qKiweSbaNU4P9ETlaA97KnUZ/3+huW5gOUPYj2poUPWFjpvGnRX3mdrIYcMcRwTXE3E+K\n",
       "oN0TQ6HF6oMcd5/Vj1D05w2RYU8u6Uaqr3sIBcxjlQ5PO0zHpVopkmmkphwQHJ4B14s+N2P/zVMH\n",
       "rSXnWlBcr0Aj4IH79fSDXwbwumHhv/sh7RgSA1XxRMZtJihlTS6lTjdMSLOhYufhyCtA8n7cYbPj\n",
       "dPhdUm7+jLVaCMQjNN8GnN6F1Mp8slgh5MHAiH8B5qsEVPJKqizRGHBD3Sl0FhH+0AibCnHN8033\n",
       "WusD2TNIxd02ER2//9QeSNlHf132+ymdj4MJ8kwR4vmmeFCsjfthaFfs3ZsdmFuA+UruFwJc9Dv5\n",
       "R+n42+1W9LY/22wozdWaoPeQr5vLsOLhGlVXStaOwbV5YN35WlD2xr7f7d5mRTbvEIhnm6MzVY7J\n",
       "Ct/xYjOGi/mBOG2C1ZTq4SX4d8tLqzgj8kmRfR+s8O+178Ct/KNFJvy7YNYXOxthUkVxcOYpns/1\n",
       "IcJhQdJ4b26g+Jy2CewRivVRE599ViVOSDhxOR3DZij5ftdYi+WmXqhV3jRIMCag3iOqw5tEgHRK\n",
       "7KHR2ZceJD5pjgoY6Hj/QUwLyMPQYmGwleX4Mb9rJsqISng+a2jaUkohKsYppBd8NnlXeazPF+st\n",
       "ywP9P3CcPY+lYzoquvPYas09BDLuIIJa5fzbUXgjAHEsdHvdC42B7wQRmmuVIqPcJtQKMMIM+632\n",
       "6eUGdQ7xp+grr4+1OfI2Kfw35wBru45QAAdejgpuZz/3BPwYtUbiVFAGgazEMC3scTHs/9sKSZaT\n",
       "OLZmZZVyO/hXpjA9Dn+WTF+cGhyZkOcynejW7uW3n867CE3LtFzE+/DltqRq/tsaEbf+2JAUxrqp\n",
       "A1inW8cizY5z36u4chSy5LzZiMcZ6P0V+hP0AgL22znQ/twsfp3XK75Zc5+vS+88T1TNTHK20dRi\n",
       "0IXdcO0zLzXslpjegrp3cBT3ZEUunzGq01Ubjj1NzeLJedcJ2lRpBb7SL/gkbr2TZomrxl0Z7Yaz\n",
       "TgiHt+HEgwkZHywygLmGZmWfIKhHO6QNudoo5bjPcOx8DzYRRe5l42T4V29tgrQh7WVzW59qpIy/\n",
       "hsKhu3H/+7gGR207qVF/2D0JFXdmwT0uYtipGK5yMPVhXMwNtAodlf+StClZhA4v+APMzOZVnETo\n",
       "Jfz2zKNySGkFD9vzxhAGLyGpmZm8UT1+t4pMCCOSvNVNQUH4ygaGA+j4CUgwm6R3dZyZePjsO0Bb\n",
       "zFqhbIFJIE6lovF2nJ7FBfogU9wlYuhvkWm2jz/kugkT0DjoCejz39hnWL4koOHtwcct2HtgZge2\n",
       "EHirtZ4nm+BuRGqT5LAmeM9/Lt1TqLL+enikV3abFF/1zn4yPf1AnIZJ4fnCHwwbkFnqxDL91Ur/\n",
       "+R3/mhpa19fA0/tQ96EbG0ed3/2eQU3cv7bvQygb+BDo0seM3cx0uN4EPb4a/VKhJbqQZnDJa7Oc\n",
       "G4YlBpehFHw3fniGspxsXnTxsLkd7Hvu/2IJjDe6MUNN2az03rBXXEO2e5SCZkoOtJ5A61iaAgaT\n",
       "TYwyGc/OKX7YfR7vQC4wnJfOFtealhSMrbHu71Ht/4XyrvcP/LDA99BUhihWeHq0jqiELF9GYExm\n",
       "nz36GMXLMdnrO8tAIcClSHiLoN+G3yOWJAJpBnOf4MvVxSyDLkKDXy1LWDWnaLIkvzluWf0bJt12\n",
       "9Cv9oNhwMgUWhyh6KPbfQh/ZICE4Q+iO/HfdlbxC0OB1Qnrl5htNqGPIPk5YB74vg71Y8MJ6Zwev\n",
       "TUMhOCtl8XdZlOCAS/kzJfZDEm5ArG88cgQn1h64GY5XQmpQq6vAu1TBCHdTPMejWgDDn/3S1sw2\n",
       "GKv8W6Ei9+PU/bVtoNDtt+ja8O1W9bEldpFmlc696Z9kipiXaF9LFaKzaCeZulBZkvWY/YXlMSz/\n",
       "qhcXTfb+vBrsrAyr7x1HmNPNEICQ4lBfKjzO0FM3RF1hv/RannL3pISW3u6YH+3oIl3ZpClZp5mE\n",
       "WrIf+q2endhLj7UmO222ou7UYQ0eJ66wyu8qS0gg4p5Zg+9jnbQsmB+KTgen9vkw3OUl+DhlP/01\n",
       "1zH7n3MXneUnzoqUlNUPGWmI2TWjrp5nU74W1CPVf53o/iGsejz3osmhSWgXz5Gp/DR77LrjSqTC\n",
       "tXJlZbpx0/+zeWrDSvXo3qc8HjmDiGMS/DnYuBvVaLN5X/KvZpPOvb7JbbXIDFeYGRl9WGBexrRO\n",
       "uuDq3PSH05EeQxiacIadnup7/9o5ER8SK5FiMTTJvr9XUVDXC4SAS5T3Baiia8E6+ywuxE6xHOAu\n",
       "sSyBOTuHZcrOaK/eroCrsmEathCOQDQ7NHjRO7dl6U9sCRb/vSKKQRT9d+rM9VppJ8BtXKyYwi5P\n",
       "PRBnaRTodMUCDmfqD2Pugzqq3xs3IPRSscYe+h3gxqrJ52fU9szYPyLFbxiT5W/wgWOVLuHzq9uT\n",
       "6Bdo9xiejDeLAmrSzd5mrYqf+UEuL/2hA6ZC4vZX6qrryy+kwt52J1+eCK+yOrpFyHMFLNMndSmf\n",
       "VxpzOkEYntP52SEueMWC90sU4xfnA3bUbgX9zUpmXQzyYrG1XiDa6ADn+epxrjynWz646soqQ+hb\n",
       "6kkgK8/15RSkDXYkIrBirThidFwXbZskl1wKJG8rxwv2t7mdOrrk2VhtkMDja2qZ7cvUGjWh4pSh\n",
       "OKtc8otaKHe/5lL2RpDBdA6KoiEpwm2i07R9nTprWfDIskOPcSLhXts+dQi9rbZgGRyxZTUCoBFF\n",
       "8jxdWIj2aRVDYw3vcNv1R/8I5pKlZYvNVbfDkdlfp4BNZG/RhFjsrJybuzCgVdJysU+H3DLvywf7\n",
       "VI3EIAcAq6SOKuzH0jwmZctf8uR3S1AxYWqUqogosaQDdCk2wrJFNp31PU7Tta57mYBNzcdksjX2\n",
       "vRWu69iJ9TLFAuLs10SO/XvQr3S6qyyqvqels8fPAxudaZzMyQw3jSRc+Hdy50k4jLKI8yqs0xdN\n",
       "fB5f+20OnvNlao5bZmhRAAwZvnMvyV7ihRsY0nqg0nOQZmJyOTy3KQ113y93HiBDR0+ZmWWFKHll\n",
       "FADNZpcmVYxtkmeKMv/a3A0Oj1pkJM3yMsHukwXCNGxapF9+TAC+wOjnraY5D0g/q+eDEyhej9ux\n",
       "EEFKPcDJiqlXzc5MjXhM0ge4jhF4rM1dT9Gpsaay60W8uMIXGuVjgcG6hv7PBjOkijoVKBK/tuNF\n",
       "+L71toJWybPISfn5+yaGLadFFtEQSVL7R98BrAuLb98AWHJDJswaE3Likw/4YHSQSR1JYMXf0h+3\n",
       "i+jIBcruA6a7DKBD94L7owR7H6su7kguXz2UeY713RUfgt4jgoqH8/vTgEQxlixgSacyVU8Fie1z\n",
       "xjuRKr25aZr7ejkXZiVgHqiJWa1lQGItbC9nJvwrR+RKNqtzJqGGrPC3Tn49LDaPHO6mFurapFlS\n",
       "yCnYOwGrRZfa6q25RcZ6F200MXyiFsDCOk1gv+Fy4mFC7h4UjusUTKiniKfbcxAWNtGZYtm0Tk9Z\n",
       "eu/7QHFGpUGR/kiBdMg4+9I/1i/CPclgmqptVR1fWqDm9QF2SwAAArtBmiJsQQ/+qlUBtrp4An77\n",
       "gWiexrgGw22DI+6XDd71LWPOLxLtBmM8ay+BWWA/FcL/POsuSrmr5w8WofEn15RkF78tRNT0yYhQ\n",
       "nCoM8dcwTiIUEVCwqW+Yg3jtd1i9q2SM2hpFkoW6AQtJgo6b7HlP1TXuDQwI0OKXiCyNe4otL4vV\n",
       "FCSLq0mMt8ng+Gn5W7Yb5HZSUEXqHjksGgCQyW/X+5GjWC2WLhWlTuSzaOXk/zbB+sVWhUDMbpQG\n",
       "+vM5SubEr1iQpUcp8Au5If6xrW/lQoDCKV3gWiwJD+maJ8cCPM+VqIGdPX+yBcGW+hKDcohJCw3J\n",
       "rRfsUpXHRowjnpdZN83rIRCnTxKXuEmA+t6PwAm/yykpJhXZegG4cllKV0qe039PQ8c3EFb/P81h\n",
       "co/bYqFk/X0WcwBwilAe7iA+SbYWljI4BoETYPdNT/vw7ekSviJxdflrWMicmcdOqsWU1mxYGrKA\n",
       "wJrBmLPkrzMA/ft2iJIi4UnKHAyrh01W10pr67I2s6nDEiI/o2TUxziJDNAU0vIv4LExBb1gS63A\n",
       "/Ua3l4rd3b01j3J0gs9s103m2BhiumjirJMq5sGBEFKJzM8AqlMTjFssUprhGyblaIEO/5clsEJp\n",
       "orjR2fYLwAIelm3FFLkGWAp76MMes2aPmmSowEuONsdBqtxHDO78qNnD4of5SrHiWOpAaRFM/f9c\n",
       "7RbI8a6QvDodv2QME2EfAa4+ZwOhehn95LNtL0jB7HafQm2Cif6pG9/dGdgsO1XcIcL+qfN09/Lj\n",
       "NRd8VCs7TDQXKBWsbiRk0FdK8/4c5SPZdl4uZ7NOoA/PprTxq6WNOjjeYp1ECNgBz/06Q2GOahds\n",
       "f5T8paf1Wjfec6VGO1h+ty2mu/+UWDeH7pRKZL+AW+yD/H7HzlAkDEeIyo8Faq8HHhCt12ohwDcA\n",
       "AADuAZ5BeQ//AJ5DkngA2q6C0HKfmkyUmsOLXkt53R1GYfMbjz2CAUcS9mCXLUbcIHrczjs8h8cp\n",
       "W1sW9pRN5B50oiZlrzvUWWPiGecIikC18y3EicXSTeM0gQPqtnq13ReboCXFfIJLztijypGaBBjZ\n",
       "8u98YTJYIMeEosLuGvvaYCcb82fEJHZjGqKllBAyeqEyVNfH7tcda6j6JPefajceT7Th5KA2sM3t\n",
       "heA9it5zc7F5uHgmEi7+EYOVg2Iv3Sthml4FQp3JJhjNK/BmO6wwiVDNvv1v2wUXcxinVhb4v3sS\n",
       "eLZNr+t+Cv1jVHcbgQAAAcpBmkQ8IZMphBD//qpVAbaNPAByiyjTS3XCuoCFb4u020IxvdnaZkq9\n",
       "EdpcMR7m61PAu7MKAXmX7CuRniCXHs2cwNjqO6OUS7UrOpYGY/3/HfhAEjDRqzIgxYs0sWWR4A+v\n",
       "VyoQ041IgLUhTvnnqiEEUPb2MJlk3W5ldJZyewVJj3LABxDjO8laBRMAhd2s5eYMEdkphN+zTbA/\n",
       "1f2l+MCNfwIIZXr7YUra26zQKo9AMdExAYLXNUjhK4TPGPFUUblxm54avYq3PoBgU6+a+ZdswpvR\n",
       "VZBQIeze9+uD8KtSVMuH24OzaE7SV8Eb3F8zeuWc8mqHNiMmbMiLPUkKRI32eZdugefgJ2Av7FDb\n",
       "7tD4D0uoC/6tGzjg+UaJGPM3p3XIF4ELopCWuP6bCS7JMe220KGpwI9EUoVk8aXjlrBDmllK79kj\n",
       "S1lNBtZEi1UJwDxvf3+yDrLTHilOSuvvKckzer15dIZTOlLz9xGfXYqME2ZWVhOVIWLwZFvQgPfX\n",
       "umQcZDm3kfHh4dcl3/OVedHKlSG5ei6jGmhmM4kj4p7OBUhunJwKw8Y/VGCJp8pmCJv5OEx5/6cf\n",
       "ryjUE5TFlg/6mIBbP6Ea4FIDkAAAAPEBnmNqQ/8AnsXWsXoAG0PlCoNfBWxNARNBCFWaY/A/3h5Y\n",
       "OIzaV+1fuTv3kV2aFEss7DNlD41JZmx4G4JDbvOVXQq+On21YSN4wyg1Gsbh9b1cRLQyl9K9hTDR\n",
       "ngf63RcTkJTeOFk3njJEiZRcY/qqrgW7JAl9XQMth+K7cs5bA+klKZq6Lu23S/hZKJJXsidEDNmJ\n",
       "aNNaJoRzdbhlLfI47yNYs0o06yiYa8GBlNAz6lBmDdi/tTdgY04TI01n4+9oS8wb9N6DJOIy5jKB\n",
       "n6bjSzp3pkuBhAk0vIa7XQp3vlGI54S9alWB+f1K+tVuej01AAAByEGaZknhDyZTBTwR//61KoDb\n",
       "pzsAWH5hEVz55WyNDQIr+GD2YS84J+/9JE5ZWE6ph7dikt1+1qPm6hTWIMXg80cDMocBEUuNiffF\n",
       "S05z+QY3F59SffVbIHarp2MC2kjwIDATX6UFAYma/vdtf0by5gtn8D2YvSaoy5+D24seUcfFN9TR\n",
       "KLBgOoKBBO3oP8dgMNusaGEam+3FAFRx1YpAhfuVGBD0bWJwMUYW7iEWspP1BdCylqH/WZQfqVkx\n",
       "gJEVGf/kxAHo5tNPTEVp6WpdAgLTqCWIERotfgFcrC24BT9xGB3Zm5uNdHo6sAYphbt2Hou63kTS\n",
       "yQDm7j8XA+k2PcXbYLrHDVMd2CtauIRNgP3uhB4BV5a2IUALfxrp8swkiZf6zndQixJyDU8usumN\n",
       "zrcvQ6f0m0S9ILsAlQVCGFmnhKJ9HS4B+XZ8J1+f9NWMNa3gnwrim64+QRkkVnCCu2BtJNnVIQYF\n",
       "Zla3kAQU/YOXP9ZhqFium/apuGxRCFg/0iw8+MVnhhSYKEnrCVItCtPXHbQtYBKk7YGjffPuYEtg\n",
       "wKY4KYvrWUtvhN+H03Jvv+cl1K/9ByFsMhYHVBJAFtYWWWLv1/ywpwAAAMEBnoVqQ/8AoHL0AEQe\n",
       "wWKVelQXyUijIb2r3bwZVexZBfrqqpu8BVPrxVlvos78xnxbNBY9pjWVTEP4r/1s1gcnvKJMiN4q\n",
       "9/ke6oob/NEszWR4EP+gO+Z/reISS5gapnIMd5ywbNTBcPbrqqspCiOr6a+jLNKfMbXNRt0j5PcH\n",
       "dFFNQGQbyK4QPwjaP0btEv0qzT4mUhsbEhOcLbJMKjiy5A6BW5q/8q7es3PH2NHmi2SL7OjhcckV\n",
       "x0KY3l9XtuNBAAABfkGaiknhDyZTAgh//qpVAgEX6HyyUADoooJIGDCwBKpyS5WOWFXDbxJ4gnze\n",
       "T20q+BwUZi8cxvZzp4kTngwyQlQRCpArJch7q0VWG37zWv7yyOtkDZsNtCKJC/XjlszM2uOa/sCS\n",
       "2buBKDDetkzi4OLvt1OkxVsRdzcoSANu53mIhA18eTg0WNajsWL1EoYLOMIoUD0zM3plvCoPs7Xh\n",
       "WclOULXC13MmtF5RubM/ulG8U34GEPuYcrMIHxobs6dzPZEz49f39+N49CafmJNTdVdT5MksRRPT\n",
       "f2OEYQjmVUekvd0X96JBtvIXhI8Mu3KrMM6uFWEMYoMRMX0eoA4xOeD7o6w7SNU+hEceTX+ALiGG\n",
       "Ohceqtzxo0SVnONuYrTQt4fvTmPsmXZgEBE8N7o7+JkodsDOUJvo8fcRoTsxGcopEq2jJrm9/kPS\n",
       "e0OueKx3XG8jBkVT1dKPYNAT1QKVbnam0oqEnxcW29Q+p5lwnq/WQPmVsMjN5e5x17WZJOEAAAEZ\n",
       "QZ6oRRE8EP8AUVzXe+JgBb1yTaBq4UDdj01ubEMSvCIovU+XQvuaFsHo+/s/5v1iBIAEUpUnBgvJ\n",
       "/hN4+fKT2S09MEy46h3LiR8Z4G+HTMAR8p8YRKHORnqGmZIXviUKDFDef9U58eP2PjNUgY9DnVU+\n",
       "S2iCy/UlsJ6zHvm3RcHnEIDqG7Ewl3GKIsidzcVoZAaYL6bp1K8uBl4QQUb1+en0k6DraIpE8+Mc\n",
       "mUsGnbc8J7MftaORsDO2nG35MgNROANWWY5NhZdyYvq0kB0GirC/oxAZSyaJUCm1x3sgxaGwRZJK\n",
       "TaKWBs9KqCMkvyqB944O6eO2W3pzqOX12B8FKITmYvCNrdDCDV3h83+EodLaNCVybYhKARwAAACe\n",
       "AZ7HdEP/AKj/iVcA8tABtVu8SpJTF0nrXTHe+dZBeNB9bO+VFJiFrZhrFn+jTiz4tdX3HRglCvHV\n",
       "D49q6qpjfC8dv9Xil/g3FiLJ4BIEOvMm4jAB6IyfwFLsXnZaFdTSEpoTvqOlkoLWoIyT7orRfM6i\n",
       "HCMH4FfYa48kGS2RL5htn9AtJ/EdmEZRo2ngrHDgNcpG0i+KOEhOY1MZgvAAAADCAZ7JakP/AKkM\n",
       "rIsyACIPYLFKi4I5lox/t+yuxfJv8/bQVnv0+dvKhOPkORydC+3N57Hr+jH5m+g4f1K4LiR1X5k2\n",
       "upkdncKaFyb+kTXMNKVMSKGrgXE1CNqppBJpsGVLMObhnm9kcNI1Vi4tthu1Ora3qkQphZkNeHZx\n",
       "T3be1/Rgpx03b5VLOMx9dnPfS2ZojPUIA2nbeVOHyRfFccoqCoSwNzmOPMtKnIsoJ5qHzlqndC/D\n",
       "rQjR5NvGHHHGPIMC2UcAAAFJQZrMSahBaJlMFPBL//61KoDbp5sALZBOJmMGNS4m68KdlzGOFBeX\n",
       "m+mrWJNbZpynCTH9ztvjP9SdpGYy24P3sCGxbqavPOd+SXeyQrpGRkhoX9AORlLRz6zY3UZ6Xgzd\n",
       "MKzgG2/MRoqdB6o93XyQF9SYXCSFH+qcqFgKiSuGuZDvoV3FWTX0pfqF3ZVrNsIcov3i2pjcpztB\n",
       "jYAT11aBfvfB36y/cZVBFIstyZ1tAlAVC5M622l+KF6/09bJMYCoYiV6v0xil3UTxtUue7TIIiuX\n",
       "Vbk/xoMFp0h5Q+pRKh7o2N18+SU74Jy5A7dTVCBxyQjiujHUpI9Wjhdm5TPrjT1cLOhPP9hfX/b0\n",
       "D9pOy3s4Ohm1MXxlWtIxzIIuIdiU0SqCW9lCOVuNuciqd/SSniolLctKw+Z+/B3LMrdrQ0Q/DvSu\n",
       "uHAyM/AAAACsAZ7rakP/AJ9M5d4Fhp6tjpPMlADABtVtVXP5Ny22uyTUiby4x/b9nMF8owWYgYUw\n",
       "UhcSify5/LBqf/jrvmRjxTgtJwvKuWRzCV+M0XENgDhMTLxzCKwvZ5zGQnyWBFxl3XoxMdXhiJLH\n",
       "Fe37Qzw4tRmcqYdADoYtm03c9lPVcjhckccGPC2qe8G1X9qBcE0d4iB+teAqJ1bTbNmTQsk/Lm3I\n",
       "83EW8ebCB05kwAAAAOdBmu9J4QpSZTAgh//+qlUAtIMw5nkABLPDoD3wb4HIAGz6BiFlymKPNXM2\n",
       "wZ4ZaWMnynDd2fWesyCDf2mQlnG8F93YqxUqGDP+S/yooQDA14G/qCDlnEaVlEr5/vOCsvbzM6a0\n",
       "U8kDZB6pQ4OO3Gfim3tBW5nZk2OW3rMjJ2e9/KdWjxHOfpxh7KjLB4/+XP4HX50gTLWsL/A6fDpF\n",
       "HT7Ea/Vnqpp6O5FJInicr1EOgDwDb49ws+/hUrqihpdJ9zdykrVWbx8BPcNcZ7Lw5VgB7KeEX7Zd\n",
       "o9RymCSG1sX0NqPF5P8+27MAAACMQZ8OQh//AHSlMAEQecMvR013TEtyaawXH63SDZogc6pjO3Ou\n",
       "tVOrmEBN0nshEqEbQra0eHWKxWocmmcF/mSFmrIDxCJPu0KIcBuY86XzD/tkavKgFVxIlhfCZ5or\n",
       "QHJLwwr7aZ0FKXsJog2nERBN07OjGKF0PmJErklQofxhH8iGSaQBc5z0ehF5CNkAAACAAZ8taRD/\n",
       "AHGGCNzcsAEJ2qZf2kRwF6BR3zAlU+41Bp18Qw9QbyCjiY8/aHVE9+fs3ZGryoE8EiQM+xsVy/Fv\n",
       "ISlqb8TgQvXGzCFppEXRg73fbNHfmMPt0KWgpIjDJrmhUNXm/3/pmkIlicmWygMQm17C4sDfYmEX\n",
       "eGpVbxGC3ScAAACxQZsxSahBaJlMFETwQ//+qlUAtJLiGpM+rAAJqepT5AgdKdzeyiWF6wftWMy8\n",
       "/jw0W/bdC/brFFHoJy/EakrHZcrZFNVt7OGhkjaj7HTjl1BBy5UKxtqMkDkvrOGLOuR2PNaKk6q8\n",
       "Zl69f3+ueeiplCwJZbrzdB0VSMNJqKmc/8VGBDxpNRh4VcONWJxig6DO5HhvpInF5di2fIrkXAyD\n",
       "ZRYNL7bKGzi+qf3OJp02HV5gAAAAgQGfUGpD/wBxaJCjhx1QAbT5CaNFbuEsZc/rdQHtyHr8MCkC\n",
       "in5wVzcjyzNpJYXKo4juZze3Dy//R98IgJDigok8uRC2z3vOLYRTFMBjVIxoUTT73K0G9/jAhoHL\n",
       "eipz/TsaECV/0f+8uXhTRkgDpdQ+nTVYihzpZLa+yKiPHUgLqAAAAKVBm1JJ4QpSZTAh//6plgKP\n",
       "3vavmjwAQo4xq5S5zpnFt/tLZa7uQC8Un0pUYu68Ko5NpncSjopRpyRsyicoSRT4bH8PjPdolnxV\n",
       "9q3V/UxsT8BP9a2m2I8y7ZCZDy1/6hHIO5TdlZY4rXPemDklCX16AL1B4MyH/g7BIoDwg9RpK+g1\n",
       "yMz37Fa3J5wtsLeBF8cSenxSVn7vQ4HTLe9ZjbiKT2n3soEAAAQSbW9vdgAAAGxtdmhkAAAAAAAA\n",
       "AAAAAAAAAAAD6AAADtgAAQAAAQAAAAAAAAAAAAAAAAEAAAAAAAAAAAAAAAAAAAABAAAAAAAAAAAA\n",
       "AAAAAABAAAAAAAAAAAAAAAAAAAAAAAAAAAAAAAAAAAAAAAAAAgAAAzx0cmFrAAAAXHRraGQAAAAD\n",
       "AAAAAAAAAAAAAAABAAAAAAAADtgAAAAAAAAAAAAAAAAAAAAAAAEAAAAAAAAAAAAAAAAAAAABAAAA\n",
       "AAAAAAAAAAAAAABAAAAAAbAAAAEgAAAAAAAkZWR0cwAAABxlbHN0AAAAAAAAAAEAAA7YAAAQAAAB\n",
       "AAAAAAK0bWRpYQAAACBtZGhkAAAAAAAAAAAAAAAAAAAoAAAAmABVxAAAAAAALWhkbHIAAAAAAAAA\n",
       "AHZpZGUAAAAAAAAAAAAAAABWaWRlb0hhbmRsZXIAAAACX21pbmYAAAAUdm1oZAAAAAEAAAAAAAAA\n",
       "AAAAACRkaW5mAAAAHGRyZWYAAAAAAAAAAQAAAAx1cmwgAAAAAQAAAh9zdGJsAAAAs3N0c2QAAAAA\n",
       "AAAAAQAAAKNhdmMxAAAAAAAAAAEAAAAAAAAAAAAAAAAAAAAAAbABIABIAAAASAAAAAAAAAABAAAA\n",
       "AAAAAAAAAAAAAAAAAAAAAAAAAAAAAAAAAAAAAAAAGP//AAAAMWF2Y0MBZAAV/+EAGGdkABWs2UGw\n",
       "loQAAAMABAAAAwAoPFi2WAEABmjr48siwAAAABx1dWlka2hA8l8kT8W6OaUbzwMj8wAAAAAAAAAY\n",
       "c3R0cwAAAAAAAAABAAAAEwAACAAAAAAUc3RzcwAAAAAAAAABAAAAAQAAAKhjdHRzAAAAAAAAABMA\n",
       "AAABAAAQAAAAAAEAABgAAAAAAQAACAAAAAABAAAYAAAAAAEAAAgAAAAAAQAAGAAAAAABAAAIAAAA\n",
       "AAEAACgAAAAAAQAAEAAAAAABAAAAAAAAAAEAAAgAAAAAAQAAGAAAAAABAAAIAAAAAAEAACAAAAAA\n",
       "AQAAEAAAAAABAAAAAAAAAAEAABgAAAAAAQAACAAAAAABAAAQAAAAABxzdHNjAAAAAAAAAAEAAAAB\n",
       "AAAAEwAAAAEAAABgc3RzegAAAAAAAAAAAAAAEwAAEx8AAAK/AAAA8gAAAc4AAAD1AAABzAAAAMUA\n",
       "AAGCAAABHQAAAKIAAADGAAABTQAAALAAAADrAAAAkAAAAIQAAAC1AAAAhQAAAKkAAAAUc3RjbwAA\n",
       "AAAAAAABAAAALAAAAGJ1ZHRhAAAAWm1ldGEAAAAAAAAAIWhkbHIAAAAAAAAAAG1kaXJhcHBsAAAA\n",
       "AAAAAAAAAAAALWlsc3QAAAAlqXRvbwAAAB1kYXRhAAAAAQAAAABMYXZmNTYuMzYuMTAw\n",
       "\">\n",
       "  Your browser does not support the video tag.\n",
       "</video>"
      ],
      "text/plain": [
       "<IPython.core.display.HTML object>"
      ]
     },
     "execution_count": 748,
     "metadata": {},
     "output_type": "execute_result"
    }
   ],
   "source": [
    "num =0\n",
    "animation = animation.FuncAnimation(fig, update_hist, 19, fargs=(num) )\n",
    "HTML(animation.to_html5_video())"
   ]
  },
  {
   "cell_type": "code",
   "execution_count": 749,
   "metadata": {
    "collapsed": false
   },
   "outputs": [
    {
     "name": "stdout",
     "output_type": "stream",
     "text": [
      "Iteration\t\t    ClusterSize Freq\t\t\tNodes in Cluster\tCluster Heads\t  No Cluster\n",
      "   0 \t\t [ 28  17  17   9   8   4   7   2 108] \t\t     1050 \t\t   200 \t\t    0\n",
      "   1 \t\t [ 26  16  19   9   7   7   6   1 108] \t\t     1051 \t\t   199 \t\t    0\n",
      "   2 \t\t [ 26  16  19   9   6   8   6   2 107] \t\t     1051 \t\t   199 \t\t    0\n",
      "   3 \t\t [ 26  15  18   9   6   9   7   1 107] \t\t     1052 \t\t   198 \t\t    0\n",
      "   4 \t\t [ 25  14  15  10   5  10   7   3 106] \t\t     1055 \t\t   195 \t\t    0\n",
      "   5 \t\t [ 23  13  17  10   5   8   6   4 107] \t\t     1057 \t\t   193 \t\t    0\n",
      "   6 \t\t [ 22  15  17   9   5   7   7   4 107] \t\t     1057 \t\t   193 \t\t    0\n",
      "   7 \t\t [ 22  13  17  10   5   7   7   4 107] \t\t     1058 \t\t   192 \t\t    0\n",
      "   8 \t\t [ 21  13  17   9   6   7   7   4 107] \t\t     1059 \t\t   191 \t\t    0\n",
      "   9 \t\t [ 24  14  17  10   5   6   6   4 108] \t\t     1056 \t\t   194 \t\t    0\n",
      "   10 \t\t [ 25  14  17  10   5   7   5   4 108] \t\t     1055 \t\t   195 \t\t    0\n",
      "   11 \t\t [ 25  16  18   9   6   7   5   3 108] \t\t     1053 \t\t   197 \t\t    0\n",
      "   12 \t\t [ 24  15  19   9   7   8   6   3 106] \t\t     1053 \t\t   197 \t\t    0\n",
      "   13 \t\t [ 25  14  18   9   9   8   4   4 106] \t\t     1053 \t\t   197 \t\t    0\n",
      "   14 \t\t [ 23  16  19   9   8   8   4   4 106] \t\t     1053 \t\t   197 \t\t    0\n",
      "   15 \t\t [ 22  16  17   8   7  12   4   3 106] \t\t     1055 \t\t   195 \t\t    0\n",
      "   16 \t\t [ 22  16  16   7   9  10   4   3 107] \t\t     1056 \t\t   194 \t\t    0\n",
      "   17 \t\t [ 22  17  17   8   7   9   5   3 107] \t\t     1055 \t\t   195 \t\t    0\n",
      "   18 \t\t [ 20  16  15  13   5   9   5   3 107] \t\t     1057 \t\t   193 \t\t    0\n",
      "   19 \t\t [ 19  17  15  14   5   7   5   5 106] \t\t     1057 \t\t   193 \t\t    0\n"
     ]
    }
   ],
   "source": [
    "count = 0\n",
    "total_nodes = 1250\n",
    "print(\"Iteration\\t\\t    ClusterSize Freq\\t\\t\\tNodes in Cluster\\tCluster Heads\\t  No Cluster\")\n",
    "#print(\"\\t         \\t    0   1   2   3   4   5   6   7   8\")\n",
    "for row in data:\n",
    "    \n",
    "    cluster_nodes = 0\n",
    "    cluster_heads = 0\n",
    "    count_array = np.bincount(row) \n",
    "    for i in range(0,len(count_array)):\n",
    "        cluster_heads = cluster_heads + count_array[i]\n",
    "        cluster_nodes = cluster_nodes + count_array[i]*(i+1)\n",
    "    \n",
    "    print(\"  \",count,\"\\t\\t\",np.bincount(row),\"\\t\\t    \",cluster_nodes-cluster_heads,\"\\t\\t  \",cluster_heads,\"\\t\\t   \",total_nodes-cluster_nodes)\n",
    "    count = count+1"
   ]
  },
  {
   "cell_type": "code",
   "execution_count": null,
   "metadata": {
    "collapsed": false
   },
   "outputs": [],
   "source": []
  },
  {
   "cell_type": "code",
   "execution_count": null,
   "metadata": {
    "collapsed": true
   },
   "outputs": [],
   "source": []
  }
 ],
 "metadata": {
  "kernelspec": {
   "display_name": "Python 3",
   "language": "python",
   "name": "python3"
  },
  "language_info": {
   "codemirror_mode": {
    "name": "ipython",
    "version": 3
   },
   "file_extension": ".py",
   "mimetype": "text/x-python",
   "name": "python",
   "nbconvert_exporter": "python",
   "pygments_lexer": "ipython3",
   "version": "3.6.0"
  }
 },
 "nbformat": 4,
 "nbformat_minor": 2
}
