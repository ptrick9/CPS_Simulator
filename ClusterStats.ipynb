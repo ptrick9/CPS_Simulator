{
 "cells": [
  {
   "cell_type": "code",
   "execution_count": 738,
   "metadata": {
    "collapsed": true
   },
   "outputs": [],
   "source": [
    "import os\n",
    "import pandas as pd\n",
    "import csv\n",
    "import numpy as np\n",
    "from matplotlib import pyplot as plt\n",
    "from matplotlib import animation\n",
    "from IPython.display import HTML"
   ]
  },
  {
   "cell_type": "code",
   "execution_count": 739,
   "metadata": {
    "collapsed": true
   },
   "outputs": [],
   "source": [
    "numCH = [None]*200\n",
    "with open(\"Log-clusters.txt\") as csv_file:\n",
    "    data = list(csv.reader(csv_file, delimiter=','))\n",
    "    count = 0\n",
    "    for row in data:\n",
    "        numCH[count] = len(row)\n",
    "        count = count+1\n",
    "        for i in range(0,len(row)):\n",
    "            row[i] = int(row[i])"
   ]
  },
  {
   "cell_type": "code",
   "execution_count": 740,
   "metadata": {
    "collapsed": false
   },
   "outputs": [
    {
     "data": {
      "text/plain": [
       "<matplotlib.figure.Figure at 0x140fe844828>"
      ]
     },
     "metadata": {},
     "output_type": "display_data"
    },
    {
     "data": {
      "image/png": "[encoded data removed]",
      "text/plain": [
       "<matplotlib.figure.Figure at 0x140fe989240>"
      ]
     },
     "metadata": {},
     "output_type": "display_data"
    }
   ],
   "source": [
    "t = range(200)\n",
    "plt.plot(t, numCH, 'ro')\n",
    "plt.title(\"Total Cluster Heads at each Iteration\")\n",
    "plt.xlabel(\"Iteration\")\n",
    "plt.ylabel(\"# of Cluster Heads\")\n",
    "plt.show()"
   ]
  },
  {
   "cell_type": "code",
   "execution_count": 741,
   "metadata": {
    "collapsed": false
   },
   "outputs": [],
   "source": [
    "plt.figure()\n",
    "\n",
    "def update_hist(num):\n",
    "    plt.cla()\n",
    "    plt.hist(data[num])\n",
    "    plt.xlabel(\"Cluster Size\")\n",
    "    plt.ylabel(\"Frequency\")\n",
    "    plt.title(\"Cluster Sizes at T=\"+str(num))\n",
    "    \n",
    "fig = plt.figure()\n",
    "hist = plt.hist(data[0])"
   ]
  },
  {
   "cell_type": "code",
   "execution_count": 742,
   "metadata": {
    "collapsed": false
   },
   "outputs": [
    {
     "data": {
      "text/html": [
       "<video width=\"432\" height=\"288\" controls autoplay loop>\n",
       "  <source type=\"video/mp4\" src=\"data:video/mp4;base64,AAAAHGZ0eXBNNFYgAAACAGlzb21pc28yYXZjMQAAAAhmcmVlAAApwW1kYXQAAAKtBgX//6ncRem9\n",
       "5tlIt5Ys2CDZI+7veDI2NCAtIGNvcmUgMTQ2IHIyNTM4IDEyMTM5NmMgLSBILjI2NC9NUEVHLTQg\n",
       "QVZDIGNvZGVjIC0gQ29weWxlZnQgMjAwMy0yMDE1IC0gaHR0cDovL3d3dy52aWRlb2xhbi5vcmcv\n",
       "eDI2NC5odG1sIC0gb3B0aW9uczogY2FiYWM9MSByZWY9MyBkZWJsb2NrPTE6MDowIGFuYWx5c2U9\n",
       "MHgzOjB4MTEzIG1lPWhleCBzdWJtZT03IHBzeT0xIHBzeV9yZD0xLjAwOjAuMDAgbWl4ZWRfcmVm\n",
       "PTEgbWVfcmFuZ2U9MTYgY2hyb21hX21lPTEgdHJlbGxpcz0xIDh4OGRjdD0xIGNxbT0wIGRlYWR6\n",
       "b25lPTIxLDExIGZhc3RfcHNraXA9MSBjaHJvbWFfcXBfb2Zmc2V0PS0yIHRocmVhZHM9NiBsb29r\n",
       "YWhlYWRfdGhyZWFkcz0xIHNsaWNlZF90aHJlYWRzPTAgbnI9MCBkZWNpbWF0ZT0xIGludGVybGFj\n",
       "ZWQ9MCBibHVyYXlfY29tcGF0PTAgY29uc3RyYWluZWRfaW50cmE9MCBiZnJhbWVzPTMgYl9weXJh\n",
       "bWlkPTIgYl9hZGFwdD0xIGJfYmlhcz0wIGRpcmVjdD0xIHdlaWdodGI9MSBvcGVuX2dvcD0wIHdl\n",
       "aWdodHA9MiBrZXlpbnQ9MjUwIGtleWludF9taW49NSBzY2VuZWN1dD00MCBpbnRyYV9yZWZyZXNo\n",
       "PTAgcmNfbG9va2FoZWFkPTQwIHJjPWNyZiBtYnRyZWU9MSBjcmY9MjMuMCBxY29tcD0wLjYwIHFw\n",
       "bWluPTAgcXBtYXg9NjkgcXBzdGVwPTQgaXBfcmF0aW89MS40MCBhcT0xOjEuMDAAgAAAEGhliIQA\n",
       "Ef/+94gfMstp+TrXchHnrS6tH1DuRnFepL3+IAAAAwAWnJlD+2HHV6pNkQsNNzwAHNK+9ocOpc8Q\n",
       "wlvldlf9x1KNvRvvoNc9JLwZ59D3cXEB9rwLyPVIFr/GE0WwkDMUVqpqlPNvaDrBCrHViOnpJvoz\n",
       "YtiB/qNZGE9djG1D0mTTv46z7KqzbZi727ZA7QjmNWiHZB8FKY8Fis6+3etHt6R+NmGASeRcTCtY\n",
       "AKzqUPt6m8Pp7fL/kL1WshhFAkpq3N1Tm6mtVldluzQzxO2bmn24GAsXSWe+pjBuanILH/D2mQ/L\n",
       "O2NwLXrCZ5WtVFT/3wGTnPnpGfxOHqSeKbZhJcDWt/AoywRLiTbZsPSePhnsP6HYu63XkO6zHbmf\n",
       "gOMXU5LFXDrBs8B2dZJ4zG88tOGuqUetvF963jFornGwU0PDnyVOYBb70mBvRoSZb1UzbAkRmW0k\n",
       "CG+yZRcvp9EJDyFI+EX51Wvw5WN1sdfBIX34jLaMvIUhloVvQj9oVhCZW5/6FWwvrVnKDlFK/Euj\n",
       "OvpbUMUB/jZKpgSbr+QIYpl4hhHD6dt5SeTu5ddQokjnjH70fVU4iQIThUpDnHi6124SOirPRahz\n",
       "Xq9UKJ5YQmEOYfSx1pEWewm0x+oDPBGwPs5Z++dJOXa2UvTLGnIwrRNWoLDxEZH/RYiJ8v2HJgq5\n",
       "FLDy7dGU1waiT+2wjW6RpkUpbYKkPKfpUg/ySqOdhjXP9I4POlx9SGTT4t/K0EyilfPe7pkYsWOZ\n",
       "6bysyMUbrYEfsJKQsLnc5ln4ew2HBT4BLUejDQGyrnc2Ko0m1bEprKp+BBgB3fnPbK0iZtqi5Fs8\n",
       "IpI3SCo8d39quZXHq5hqdF+/k9s4p7WBqQsRXZtXyvykLKXs9BkwmwT3BMIzGx2/zcU/dgUaZPvA\n",
       "o3LErezgdYmdvX2Ur0GCRyxOuwl9aAWkPEUsWb+ZyVDCF2fWjZ2Daiti34Jd7TLpTuFJKK2ACe9J\n",
       "ferNth+XXNah6bPv/9BueDqGHgIc3A8vHm7+wJ/ZUten/oAToac+bcmmhLpSmY0ZlUEE6PW0qpmE\n",
       "ZBiqoS8hILho4fOLpiMTlN6xSLVNkI15uX2UCWlDah/PZIdn/tJZ+zkZLeZkrk3FcPj3likKlBId\n",
       "//TSz87Us3dvaKTdF7rlAae3mnhmHKJs9/agK11d728M1Grc5nZT+YKK38fQsuaOOrQlJsjX9kbn\n",
       "AnQfmVpcanqTK/32Nwt4ePwJPxR3lAcEKdcxNeWXZ2d0GfDApMh6c+2qayamLb8hmcEWwqpYtxOQ\n",
       "2WSU3+SAHxKP4Ssbhk1ieGKU91kKbEEV9TrL8Xa3cfFwrzHtUSELfOyP+/sr0QggvQzocE6clvxr\n",
       "DsWuSXrPaWhJoF0dIwPcZ9js7IO0vf2mkvLjxryJgQ2Y/X1g2G0hVNa1pWCNyQWqmteDUoSgh17v\n",
       "p9N75EEQUY6ajPA2u3uisoWCiQdzJ5BcQFjLYeXLLyyJWidZXPWCszjuJwrws5taLp3dYwejJmci\n",
       "nbCs9zJSFI0CtpU5oZM232uzO6rBPvjrkHc+fy3TCWCR70yQoZPNwpG9MGBXszZw4TVPMQKS1CZT\n",
       "znelQgJ2Epv0SHh8Cweu63NH4WjDM6XpKRcB/DGebu5S4agBhIsQ3V1bqF/fIcfWbbTrcn6N7DU5\n",
       "jYNCCHLkmXbjbIgTrszCHmUX0abQAD56jwQTEDQXsAodEgDiWEoIYxkdke6qxL7MW5w9Ewbaudbk\n",
       "v89/5Q19CZkQm+CEP1IgSxAHe8XG/uxb/oGV+iUA0APPguYy7BUCHuI1hrUWxZTv55tNs/9Cs/vz\n",
       "ee+V4BW02vWya1uYEQv5JZ1D8beyaKcm1v9ZmEa8xufhmvD4kzTczIFdRSpmJbLkpFDQbcBtGqgY\n",
       "AeKuXrLntVdA5PW9uZYyz1d6c9gubinWil4HwAZ7dJ3SUSsjIVHd1P2wic5mni4uwz7vsm6Xwlr/\n",
       "JTox9EbJIaBBevn0YZzWzUu3QLts1QC1HCy1OI2G0akCeuS4+3KhzXjpDbI53owoeCT2ztoKC68H\n",
       "IVy+Cx73VFS0QLl+dF4DWVZgKwGiNhCeVerkHFLDArsGR285TJEIq3dKNW72GybffjGdbOK/X7Aa\n",
       "pmsAi7948n61FWkkutgXpr/T7MHrSXnWlBcr0Ak2qzzv2YEtUbwupvipfpoGpHVALjiiYzaTFDKm\n",
       "l1KzH0xIs6Fi5+HILn4Sfhq5imCAprem4F1jgJdUwQotWM05vQuplPlksEVpg4EQ/gPLIWJpVb0C\n",
       "gLXaDzVtE+lu+ivzYS9xkqQMICdmt4zT6A8WwzhE//8MmS4E1nRl1T3EWJ1VaelAZ4vmnuFCsjft\n",
       "haFfs3ZsexD4A+UruFwJc9JMOtzOsejRE14D1+20ozdWaoPeQr5vLsSrhGlVXStaOwbV5YT35WlD\n",
       "2xr7f7d5nMLfvMAASPRu3KQQT2oKZZELVlOrhJfimy0urOCPySZF9H6wDeSYhS3oLdImJb7TRStN\n",
       "ij8Sb+woHTFM9n+sjhMKDpPDe3UHxOWzb3tab8TOYxPzxAjSIOHE5HcNmKPl/F1iL5aZeqFXeNEg\n",
       "wKcg04dYEm+EgHRK7KHR2ZceMK1GgYynguk/Mk2WC1QZQmHHleX4Mb9rJsqITfg+a2jaUkohL3VH\n",
       "7EK8NnlXeazPF+84+bsa16PrnIE+ozyE6KF6L5g9SpC8YgPUOjQDd4+Q0WX2LCwPawnTYq6u+4E8\n",
       "leFtF4CEZUZ560/FwPe38kH1/jiSwMdeZto8psk7QpVL331Qm0soUhKsl60uC2T5em//CBGqX87T\n",
       "p9Ldurq+ydF9yO0aOle/CYLmAapNDC1LKlW9yQ7s86dd+dEsCcSnDG60v5LARHWEvlaEOp0sNkuw\n",
       "i3OKL4JwAxCfMCF7fyiCrwwhzpo7n1Pw00xl+lzITqH0mUn5VytuzzSCpYKPq0prCTAb+qbuu3mp\n",
       "jlbaOoxaEOs6bJkL20m2TOj2d6cGsZdQRyxL5NmhQXG449Tc6YjNwtNq/UWznvjwJO1lQEe0KJpS\n",
       "R9vdylOfJMr0e+DO4SMj5YZQBcHXDhUdxhaeY0CyrwBqwR4GRaPebG93/BbztgHEhueBO5Zh+tbd\n",
       "cp2z/1kdL7ChtokkgiQBEkdzPSk3PDn/+xXfFCTUYNqOtWdnwzTXHXR1BP5Zl8aOjd66A1hNEzF5\n",
       "WjnnZt2/1w+7b3GRMG6mmgBTOwPJ0vG9lIKznI/S2Il9vwSsGIG3v+HgurRTquL8U9axarSoMo9p\n",
       "jgUA7x5dOExWXY6XJCr45GjgnoSSkFs8RwxTrZagdm7uU6a4NbyIjT9Wm9rotu9u7rx3H/cjXIi2\n",
       "cI2+SFq8E2rIdYGh91iT6Y/POZpN/pSiQWpWrPEk4Z6Oa1QW33I6J/Ezg7kB1PLLRKldVWeagFbU\n",
       "VNcJVNf/ZHd5NF7+gEBK8GEpW79G8AVobK+RnSnnxsLcBbIVk85+8oPIfWiPo1I1JUlu8u/N+ff8\n",
       "BHqhOdA9kCria6uYdR34k9YtbM1sOpxgxq6CmP3WnXi8FVyE5V1pjjgKum4C1ssFWvvcAizlcnJU\n",
       "/CnDf+3ea/yAJHW1z+k1FlMkR+LpJhgO/Cxjef/0QaZpFMFFE4kWfNvIXNO3I2FVqAlaoUcZThJ8\n",
       "QQBe5Z9TjoRqeLw34bfI5YkAmkGpp/0sBvP16XkRtzEJzwITr6YzN/nW0jq6vh7YpQALJrlgxETb\n",
       "a7lDlD0Ue2+glVvJ68Wt1XXjVsLSQVJ9pE2wf+Xmw37v/v591ZTnLYos4j/vs7yo9LALX3156jug\n",
       "zgpXlt8VVy11pkYXexhv6bfVggZ2yLGPL/9P44A1R3aMplnos7NLStpENDHJp3apa7a2clBfXuu4\n",
       "31Yl0guo0pSG5QVyiO2J0f+JmgEexnUnuwoWXuqp4Ksf7yc+rY0bleKwiWLEXj96axbHzaxbC3A8\n",
       "3gZu4Rkq/23KFkYCuFOtESwBM4sJOOvd2uz6Wd2bSTVND8gkv/sqMNvQRLuzRWAEPcjaCqTdIOUq\n",
       "oHrVZsOwYou7UYQ0eJ6mkAV7KTpBBxTyUGLQ8nPybFyJtpEkUNJ+TRMzPDjz7/+XlKh+KJA5SK5b\n",
       "AMQPWACgq2Oba/uxSyjGJHwufqwE4zDrAyYxaR04PPt0EN117MAoDeLUZ71UQIHa7pmlf82Qyz3K\n",
       "/rynheSy7AelSfOrEktmWimfJyivTwW+hDILQTt4X9cCpP1i+M3PapPDBLsetnVkA8Nz0h9ORHkd\n",
       "Yr7BOcw2dtuJFVuS4rEbK79R6Lf3UuBI7SGiP2K9vlSm6f1Ov2qPssLsPsLrdT4wplr/TuHZcrOa\n",
       "K/eroCr4RHNWwhHIBodmjxjrd1XcD1WSBSt5TYfo5VLX66xYG20TKLYKy+jGEXJ56IM7SKdCVTPi\n",
       "f87r9vQmiH++MS+xhjv7vU/paDGE2Tzs+p61Kll+qlYBUWw5mMZ85Uu4Q5r25PoF2j3BvU8Fns0R\n",
       "XOxrZkkd0nU94t7ewh2kXgIkI/St/4biFRc1rqtLtooQvtZu4B+ugVPJehrMm/Q8K24BPL3N3hw1\n",
       "JEQLOFlsFIEp2oscf9lKPZQMn8r3hWpU3oaceWVp6F/r7uPDNceU62fXF62NBbQgUUu4mb/rlClI\n",
       "guqJP6Z3DfF4gvwWtBPGXVpDW0VYqrQhpAGNkB0oExnc4kgFdZDvEDpp0AD69jf6Ia5Nfx6EGhAo\n",
       "nim/Lygh+w5CWdnTbORMl04hV6wfmOIvfKLx6A5lLvCwYU5j6K39+IdhMfrVgAZ1ZbDsi4F5g45P\n",
       "fEo/GNLxF8LrUKExP/kps5gpGWaQ1t8OR1gYuugKzL73iiOysnJu6p2bOMG+Mq4fcMu/LB/tUjcQ\n",
       "f2yVEkcVdmPpHhM59jn+DXcHJ2vcHu+qRRM+RvYijuYAzw7Uavbv0K4loPcABgmjE5lYsr9GVJaT\n",
       "qjXjdGY4ncW4kdxXVRWJk9GTlExu00eHVsuqXrYQyboCDeNJFzkavQZP9aoZt+BQnNMXTXweX/tU\n",
       "GN7uwNcFwgxEqVp7Umt2L+/3APpEAaT1QaBr9BmJyOTy3I5geHF7uPECGjR2WoCUTnOCpwivxPdY\n",
       "wUxjbJM9Fr7VvD1gguMJaLkmb5GWD3Q7z7vlgKci+/JgBe/eHJ7RVTHm2RJqhztPwio/bsRBBSjx\n",
       "Wr6VQ0475nm14Uyvp6y4i8Vmhas3xeY62IZEkfrGELU4dV3zpqGVItgSpzwi372Bfv23Gidj8/9F\n",
       "WWybPISfoZHCeGLadFFtEQRpH6DUvTVxIhDr03XjRY15hiDB8tivw89SMv7Hf4SZt3th+3i+jH9F\n",
       "RK6ji7DKBD94L6+wR+UQVvWsgvSU2Me07SYOTW7dtkAsLL/3BTgEQxliwNkRO42u/9NHXN7cnT6H\n",
       "25aZr7Mth59QWOUxSLBkZRh5MjjDgPG/4Vo/IlFUile/DDVnhbpz9lyw2jyBBIBdgRtuecTIrJxs\n",
       "8S0WX2uqtuUXGchdtNDF8ohbAwjpNYLXhcuJhQu4eFI7rET01UMLvjDhH4LsQTxOvrLr38XKv+0B\n",
       "xRqVBkf5IUXTIOPvSP9Yvwj2pYJqqbVUdX1qtk03jSpU4uEAAAMpQZohbEEP/qpVAba6eAJ++4Fo\n",
       "nsa4BsNtgyPulw3e9S1jzi8S7QZjPGsvgVlgPxXC/zzrLkq5q+cPFqHxJ9eUZBe/LUTU9MmIUJwq\n",
       "DPHXME4iFBFQsKlvmIN47XdYvatkjNoaRZKFugELSYKOm+x5T9U17g0MCNDil4gsjXuKLS+L1R9A\n",
       "r3/BvjlPECAnMzMYrEg9HdJ9ESspiF2hIfe+M9ek+c3fKN2e5DNGvfNuWJNxPQB8XEw6UZCjbyF4\n",
       "SPDLtOCxqI6YeTXyYigyDjNs0h+pRa/4BLJ3/f9ALlJUKdAQUGwmSQN1b34A+rFA4PxUcxl94uyK\n",
       "IhAgr9DZjGwAhhGXaZX7PK7tre5N4a1V0NutCtu6O/pfp7+ebf5eoKTMcso74OBKjbDPishjeu51\n",
       "Edk/G9PaoWJzPmoYGVnCdofoJoXR/NRMpH8IHJVZcNzLAJUD4hQYLQKXRED/Ej6vJJ1SHdPPBddT\n",
       "CwY4DU9BuT9VQc7LWc7hXcdwOhI3YxgGOEmNrNdkDk7SNTpVm+20EoIJY6LbzfzC3HlPPqhPCEQY\n",
       "dX2EO4hc04KQ7yAuT0yRuFYfaJ6a6WAOfdJF6XGfOT4s4Lxa+mW2Ln7r/sHEL6nHGi81uX9d7JfD\n",
       "YgHBMVW0/gdrePyonqQ3O9iMdCGKTtloS13X7qCTvycTA0mg9wspLRxo6fiLjzyi46+EK0MwN6kY\n",
       "td2H+duROZbhdb3p6w9K9g18bS32/BLbMXAQIvrXqUxFg2OYwnRO6Hsvct6YuYyt3m5VksSqHY29\n",
       "XIn4c1BRuQSQc1oEWJbFbpmmBSd7TS5dw/DS1t4vd9lgl6oDqxKMU1ScNcJVn82ocF+K97TsLldZ\n",
       "gaCF7topOmvQ+BrGz4pL1R/hy91kmiNHEBtII8POJyS068wEalysZA36qvc355yjMohQsCe6vjOk\n",
       "NlyoA227WRSuvLkUq9VIXARq+WSsI6IHRPyFa18XnQKrILzeKc/LKSw50beEWx7/+PfppQCYOvhL\n",
       "1a7tNFCe6bEw5QrMqE1Fl4WdYP0QA12o3maYb1/HWlhXHNU86dTQ9D3jy6/SHbNIZmAAAAG7QZpD\n",
       "PCGTKYQR//61KoDarLwAOVBKIxuXkKKYM498esrE3e9T+02UAa+IPpGHk/ZlKZfUhys8ZYw46fou\n",
       "QjobBygVf7sukcSY7PxLkJdDsmOExCWQvAAPjEaqBUsv3O6NtXUWCoSB8KS+NuBjOFRNiQ7pvFRF\n",
       "AqN0YCet3u95clGLIa+2xH2hd+ip5TKvka0Sd4cK7RqiIqdRVNCABqizxbK84PCkQtPFs97XEYPL\n",
       "a+FbQJVsoEabJqURV/69ez8yyYuvzj9gHHUnbrajLHSSPYtDlPXB4O3n7t9VT73mhFsjZe4hQLQJ\n",
       "6b64gcHNMi7HUuXwd0Hh2BsQOf/fIfkkGx/yFbMHvRezhrhZ/6Wav7DhAPmDTWBpLRavuhdgaorh\n",
       "ZOSA2A6woBCuZin0Wr4zUVBoG/hSaXYfzrXQueYZDZx0+FPbiAjHKbj5Adi+8fDHsEYcx3ZDkDvN\n",
       "QKJyWUa7UwEfbTWdbLJD84s/QBc8Nj/QoS/fvh0ccNSSnkv3CdO5nJYHrIwSkQxqND0dsta4VSbX\n",
       "V8CAjBkZbVgzWUcK3Sh56gO3hEDg6EeRGWAWuRiFqHfonooR5IhVPUEAAAD8AZ5iakP/AJ5NySeA\n",
       "DaroLQc+jzWpyZnphG8Za22yD8v1ABdJvJ3i5MtEB0PdPfaEpep2tktGzObeF10x1wtnhWqRYX3u\n",
       "dfLhEodVpmOFJvsO0iL1F7jD11XgQERzRX26wbT3XHnxOLmaelxvDZj1YyzDjfbOLJFNQ/2mfpld\n",
       "HFcfobL/ccut9SPySVoENFVz2BsoU0NWEgYm6KIdVU24PazGIm33Hs7sEA42nDR09czgA1R1IiCi\n",
       "6tmsFZCBueFDAnycm4151Lsrsuc3+BXOHIJVgAonYIUOEaRrIrJIDD2QX/+Nkm5JWLZ65u9amgHg\n",
       "W4AzlLrO2vy8pgmYAAABOkGaZUnhDyZTBTw///6plgXlAw4An409FiruRsxXWOxpZ6P+2JHSz53i\n",
       "6qMvxKXKVRDUIrh7rvKxh5C73VlWrjAvm3q7+lsbPMkDjJjzEuUiysZHl0RqNnfaVhfb23sNmNIa\n",
       "51uOwYCEWQCJQ49iX5eMSeDaVLyrqqWbZECL6etXxq+K3jWaW3ErTRxmAQcKFGOYsOhui+LZuQoT\n",
       "3NLfVzWKxW65nBByYtVW+fzZyKP4M2Fy3QhPJfS3/aidv/cfndnbwqvJ+5dNhmjfjpnIhzNHcVFn\n",
       "Lw07jCcBCXzy+sqCzRIw/pwCCp/uB9Xa7jwYYgHwmy3SQel6BqIATfMGwzFSX/Zp/rjvLyN4cVV3\n",
       "IB/cCMkqeCD4tRK4Q/I+NrmTKnH/FHJqO9S+G11GZvtUUFJglwkgVeU8CRaxAAABFwGehGpD/wCf\n",
       "URegAiD2CxyX/LtNV8c2Tncs11qTqoQIvyXR2JjYAtjn7EClNllTiRst7LvnksZYrXFYFDZlSCBd\n",
       "+5k8I+w2eWIdaPAYor66yQkb6ckGgAmm3rasaCHIMMAXY8hi1zZxkwA8WJjeoeOVwdI7U/OTyRTX\n",
       "NTpidCSpY8fpFq8KZxO05eQ7LPwAmVqu91tji6UfkZyO22VAeqavHREMTIKhDF4wED5Pp6iyEB8X\n",
       "nKYV9/kV3Ju4bxl0N2k2k8G7MQT1VOUfofalajcEdYvqsd1Em9D3GqoqVd9baFg8M1KWBKjTmuP0\n",
       "D6PdlgiPC7G7k8E4ZI4QWZPK1Jn3LorOkfmzDHEPr8k6qqGM5nlDLf03LQAAAYtBmoZJ4Q8mUwII\n",
       "//61KoDbpzsAWH5hEVz55WyNDQIsBEsKqwH879tADgz5y4BQPGqx3nMSdwGFMHmhYGb8mi0Knnlz\n",
       "HLTKc/pg5mTjBPOlvPW/3A3lkK5Pp6pClP00T+bYuqLAR/omehY88iHdzLk2DvVXmuPKuTJcpiTF\n",
       "IMPA+x37Qi4G1jPDYmMUSMg4QnmFYH5rXB7Is1Z18LMZenjTXTWWw0qZFMX9chX93Wap0jsGGlei\n",
       "xTQtObTx4rRu+1oJtxf+xWBMao5ROfcZV3FbobAAyMnzJORxfiH/rHuMM6+ON/mEfolldfeXBnAm\n",
       "5OibfWF/dst7CnxG+d8HbPa8+77EUoLCOHt5FR5Y1CiRL1jvA/9jlmO6ecSBwHjNLYFo78GOI7+z\n",
       "r7BjC/4unNSmZhI0FmIP9tkQxHivR68mXxf8iMVcNV91ZhSRIDC/3WBaf/Jcri/cAxNt3hf2AlCK\n",
       "SksHrLwMosupVEq2W+mm9eIB8fyUyYu7gHQIwwbVs+ynOvsK1qMV7x9xgQAAASZBmqhJ4Q8mUwUR\n",
       "PD///qmWBePWmAHMuggAM3i7J99aHgpGaNRyTHeP01gwRlvHHA0waKw37QE2CvNl2rTs44GRHpe1\n",
       "o/gZFeDOrjaIjas5jBc5hwmnbZaJmXlpBbOk+CXU3Ut6Nh9qrJg1sxpWFdCbAeU6i+lAEZKYS+gC\n",
       "79SDqy6fNTnMHwb05sX1kF7X3pS8G44+yyPmyEB8RLYbhB6bLF/DeTalgtf4VmcWIF0qhTa5gxdm\n",
       "OrmoChJKKApGbyqiOjs+pvapGK5s6bB0RU+Xg9OzvmfUpMhYA6JPqWpKJEiQKjeMTA0jmWogzzhr\n",
       "beonWIDVEunJCMKIrooSfHgNqmSowwj9R7pfmUMLGpU0xznhTUYL30J7mUQtCl+9vKZlcKuAIm0A\n",
       "AADyAZ7HakP/AKjxgMAmukAEPoG8Yb65x232vokifG69JgbAaRIn+i+JKNfC52c9IjPPURffS+CJ\n",
       "99BxyOdkpOCfA9NlX2khD8LJTFGBfrK4VrudC6IWIhiGsGfmwW156lODpODIH/F84O6ko76xrzo6\n",
       "xunW0YZu7mI7v8XSM3mde4hny+Mx1BwcmwBLCijldGMIDAMIiQle7FRqXVb4YIS2VlhYMLfTxp3o\n",
       "NCzbPSD/m5C8oxVMZZbiQpklsacZnPnSih14B+GibofO3KtYzoqtvnAGKX/VOU7kVuWWjlU2BKge\n",
       "OmkbZcEIrG3ddPqdN/mgfjgAAAF5QZrJSeEPJlMCCP/+tSqA2tOnYAjK8DNTTeLs78HmtcVeg8IN\n",
       "WwZRdTmFP9PBchAqMHaYj/rt3kedUtQrz2azrPcRBoJYMRzbN0BSbdGr7x2h+bNkX7dQ7co7zNNO\n",
       "us19IkYgZAxyy9BXHFa+tv7dp2yi95uU1osVZubOYNdXBx2Ymrs4qZQxkqnkMpqX8KPg5f/PwEgR\n",
       "IXXlgfj/KwTurGBkvUtGWbYIOLRHpKab1WNSMoZXtkh2Efpdqpw8ml0zn+ET3PILS/o7kP0EPt4Z\n",
       "6rZ2vgBjumakc1riyy4eNhVTMJ5BQSFSX7szdf/76LE06bGj4hsMaUru0ALAp3IKK2QLwnOR6Kpt\n",
       "KfFYCssfp4qB0cSQJeFMc0CBcZQf24JIQZk7odf6h6nxKDBTK1YNvc508NHrO34RCwX8QzTUBqSf\n",
       "raXttkIeEnkzUtX/A6Z/k3XxLfNQHtLrxZYXah36CPLBj0pCYQ8VAfMtwfaEAGNHCLO2IK5edBAA\n",
       "AAEiQZrrSeEPJlMFETwQ//6qVQIBF+h8tNgAI8Qqmr2SZ0GeOTejF5FroytnFw7GraYVhUGZ1KFN\n",
       "Dmz3fUFOJLeOnaI1QMTrv53tPyXLKQOcP7hdOnrDFPtt2TscySmJ0KkxyS/mxZIDuL/QfzCvAE+L\n",
       "WkRyXvd0xpuJOlT5wq8fTMtbbogSvAW4YZhzpdM9aFJ///GjRgl8CRzq6RG5FcpYrGI5jrMJ2In2\n",
       "MbgCaKxOvOVn9OJYtVkHMnas79YGR31DyugTtPie24deFxOOqxNGwVr5TJ9lKgYP54SuswzNcj4K\n",
       "fZ8ZNIKRx+LFYqih8B5uEZgZgQnXdTbyGFeUcAXx/W4axYpwoLNCRb+e1PGOwCTxhDXpRSiYNH4p\n",
       "9sHZc06r1RkAAADSAZ8KakP/AKjM2c+Ws2AEJoG8QCZLNyM33wwtW+fOJDlrZn1431FEkbJiCHOb\n",
       "IdQRnmwVwj4Oq8eqfBiKVqZjEnkHAaJmRx0gTLV0XResOKDxjR/Xw4PH5cmv004ld3laFnns+OeI\n",
       "LIfkJH3Bavjszy+mKeW+oCbMBwt5qBQmzLPDx+TVdlhJL1lNtzq9ZFsuFIE0JR5qfw+LnV77W9aR\n",
       "FxdW8c09oW7hJwZUWyaOzT/QVFPnZNayciVYjbRPWjtEKBKEMQrmbBn2CnUj8O8X+ZmNAAABe0Gb\n",
       "DUnhDyZTBTwR//61KoDbpzsARij4djBEAnR9Bp4njwzapGrlNbnc6RGp9ZAYkF13GtvHPZuFq+or\n",
       "ktik2qDQFUwy2+/4kiuts6/dnB+USlH5O1MPJKR+9XwPB76HAcR+/8GAKb22ODidl+4nVwce35Aj\n",
       "lSEqZuNre0+NHnSFMu9+hxPiUlQKDH2mgljpckhQLR5EbIqVO3CBrK//4oW/noZ1F9pOgT7arV50\n",
       "I400AfjTexsnpcLZYFdvyx1equtpAKZDbTEnMFKKnmv5aCv2xEyaCueDxDM/YEgh8SnOwM/6w11f\n",
       "RW8badBKaNTaP7/wvH9+ZhCWYRc9lYEBVFl6vLsxq6AkRdbtjA0IapiGZHNzXW630JazLWl1FSA0\n",
       "mPFqtUx3oZxXWECPuDHR8pRMzIfluBn9NQ5u2YhSzrFLYHxYsXALQ23Sl7dp1Xx+T2NVL1TUw4rC\n",
       "ZCONgK57fthOfn0YYdJkk9LQuRFd39BKjcKGOFJaJcQMRzgAAADNAZ8sakP/AJ9NOdnfzq0m7ABt\n",
       "VsnrLYVvMZQ6tgwOsfBuyHeJ4A9fckKglLx8+IAze0g4R5vW6sh+Z8Wy5LXqKeI78t8Debj+suIW\n",
       "aoBZzWU1WWSCF+lHDlGl/C50S8UohJNqyXbtqcihiLOjZe5fL51B4csyfvRGQYA3JeRXAG72oVe9\n",
       "gsufdBKAGAneH7K35qKOw20dC1LiBuZ/uqiqmHxOvRqSj6lwqm4hiemwoK0W1IZ9rvv1TascJ36z\n",
       "gjD5MgazE7ea39tWAex6pwAAATtBmy9J4Q8mUwU8EP/+qlUBeCPgAFtIoyAWYCMdRnXxB3ZfbSbf\n",
       "QGkaeV+3avylxKaAh7pZTxUJvclggdL4XXq2nLFZzGqv/R0GNgHTea277/W+RvNb/MtZulUZzJVl\n",
       "G6I8TkNlOHU9t/MfyFuxEPho/7N4eWpILH4vdynsortsUzAL/2Q8i7lwyCO7prHrWrjs3Wk6Wz+z\n",
       "Lx1TEVxjVnezD8kQIwOvAEwPnRBX/TJsQw1iWNs9JQuKQc7Rm3uG2LQ/zWds1IHqsUnitrcdvk3q\n",
       "Clcq0goU3s8nlBS52eTj/oPEmJqM3nzLhVtL/oXtksxLwna7PvNTn3fSaqjYB3vj6UFNmw3HYYkI\n",
       "a2KMxxATSVweia1CPFNH0S6ZlxnxV3tgaIz4MqGm+HGcKIAgkJAQJtjmJWKR4qAyKdEAAADlAZ9O\n",
       "akP/AJbpG+1oABtVAzKFY7gTV4MdQFfBWOYKb7r6wgxc3MnnNha7hTw4nrfygHYAthBkHnZEZyqW\n",
       "kFzyVQUkeLMkpqGah+MHLBzGo37pv6JvKW3Ysp9/9tW3x9VXCiv5k+61/Z22zGZcFHgN2n5G9ZjW\n",
       "8tCGgZjGVpXkRAGLUEtr3+W0Ih+4SlskOM0aht0xcWRMj92B/XFVESlQFy5DYviUluiafMUsXZ5P\n",
       "EhUGgRmwKywwCzYeG9LI9D0L6qUeLmDd+4h9ED/Sc3pJZsfMaL/rP6LoGDK1Zu0nCP6q+iWbGQAA\n",
       "AQRBm1FJ4Q8mUwU8P//+qZYEe5gkloASxlpsqXnEQvdYbVhJHaT2WOC1hv6qRXfHwd/MW81754HG\n",
       "K59ZeOpGMY7YJ1HphOTF0Vb725nTqmBGbFltzRXyH4LJ+gY3otsVJ2PC6DxheqEbpV1CpLO4sKuX\n",
       "IUZukqo6uUY9jT/TVAZJKx9LfURJIyJ2wmbfdyITMCh8jiuP0Nl/uOeEUkOgUk/srMAqCUJUQsQn\n",
       "McAWLzIShxZfbglYaI+SuZ7QNJa9mevk8tXW8dNUpnnmOi8V8wA5n3ooYU5/+zm9S9181A0Z1B9M\n",
       "l2csW4eZLm2rENebrgRcpXZeQWK6sb35AcQ2kONAlmhv4AAAAN0Bn3BqQ/8AiU2Zg5BWvgH3qADa\n",
       "fIcftOk/jPRwGrqA9vHY3CFFmU6o++kSfDfxR9+IwfEEqqjG7ddIHVyD+9vcg7988usbwaUxTijx\n",
       "pYoUYZ+lF3xxYJMw4Fjd1BJ+7rf8knXmrzsoCM+I1UC5mWvqYJ8Cgtyz69JGeCng3B1S3fXr44Wx\n",
       "4OdtVJcdCx8ujudSbEsydxTIvmafw+an/tMQgsByB6DMmQYfLCqzV9pjuUGtx/x0yj4LR+C5dqdY\n",
       "vhhUHBdK0v+iuT7HXEI4iDWF5rj/DXyZcjEAkoj9oQAAAMpBm3JJ4Q8mUwIf//6plgP1cCu1e73s\n",
       "WANazABEAMNehM4avwwwvngMKTKFyByAeAa6ebv1vafbJcuddalZuz6/nn3fz+ZLjQeMRl0f9ojB\n",
       "pYlxpS6tA8HKJ0y+ESuD4y8E1voY0aTwkY7QfUR16RkcJWCAO8ECMVoQqiSP48vIkR2MdUE0rjPJ\n",
       "UMFNL3gyaS/OEeIHVORB9R9TV6n/5QlWCNV7UvrkAUHyvF2eIcTR5ZIG0n5fv+dXNfd2BCye1IR1\n",
       "4f7pvH/Qk6QFAAAECm1vb3YAAABsbXZoZAAAAAAAAAAAAAAAAAAAA+gAAA7YAAEAAAEAAAAAAAAA\n",
       "AAAAAAABAAAAAAAAAAAAAAAAAAAAAQAAAAAAAAAAAAAAAAAAQAAAAAAAAAAAAAAAAAAAAAAAAAAA\n",
       "AAAAAAAAAAAAAAIAAAM0dHJhawAAAFx0a2hkAAAAAwAAAAAAAAAAAAAAAQAAAAAAAA7YAAAAAAAA\n",
       "AAAAAAAAAAAAAAABAAAAAAAAAAAAAAAAAAAAAQAAAAAAAAAAAAAAAAAAQAAAAAGwAAABIAAAAAAA\n",
       "JGVkdHMAAAAcZWxzdAAAAAAAAAABAAAO2AAAEAAAAQAAAAACrG1kaWEAAAAgbWRoZAAAAAAAAAAA\n",
       "AAAAAAAAKAAAAJgAVcQAAAAAAC1oZGxyAAAAAAAAAAB2aWRlAAAAAAAAAAAAAAAAVmlkZW9IYW5k\n",
       "bGVyAAAAAldtaW5mAAAAFHZtaGQAAAABAAAAAAAAAAAAAAAkZGluZgAAABxkcmVmAAAAAAAAAAEA\n",
       "AAAMdXJsIAAAAAEAAAIXc3RibAAAALNzdHNkAAAAAAAAAAEAAACjYXZjMQAAAAAAAAABAAAAAAAA\n",
       "AAAAAAAAAAAAAAGwASAASAAAAEgAAAAAAAAAAQAAAAAAAAAAAAAAAAAAAAAAAAAAAAAAAAAAAAAA\n",
       "AAAAABj//wAAADFhdmNDAWQAFf/hABhnZAAVrNlBsJaEAAADAAQAAAMAKDxYtlgBAAZo6+PLIsAA\n",
       "AAAcdXVpZGtoQPJfJE/FujmlG88DI/MAAAAAAAAAGHN0dHMAAAAAAAAAAQAAABMAAAgAAAAAFHN0\n",
       "c3MAAAAAAAAAAQAAAAEAAACgY3R0cwAAAAAAAAASAAAAAgAAEAAAAAABAAAYAAAAAAEAAAgAAAAA\n",
       "AQAAGAAAAAABAAAIAAAAAAEAABAAAAAAAQAAGAAAAAABAAAIAAAAAAEAABAAAAAAAQAAGAAAAAAB\n",
       "AAAIAAAAAAEAABgAAAAAAQAACAAAAAABAAAYAAAAAAEAAAgAAAAAAQAAGAAAAAABAAAIAAAAAAEA\n",
       "ABAAAAAAHHN0c2MAAAAAAAAAAQAAAAEAAAATAAAAAQAAAGBzdHN6AAAAAAAAAAAAAAATAAATHQAA\n",
       "Ay0AAAG/AAABAAAAAT4AAAEbAAABjwAAASoAAAD2AAABfQAAASYAAADWAAABfwAAANEAAAE/AAAA\n",
       "6QAAAQgAAADhAAAAzgAAABRzdGNvAAAAAAAAAAEAAAAsAAAAYnVkdGEAAABabWV0YQAAAAAAAAAh\n",
       "aGRscgAAAAAAAAAAbWRpcmFwcGwAAAAAAAAAAAAAAAAtaWxzdAAAACWpdG9vAAAAHWRhdGEAAAAB\n",
       "AAAAAExhdmY1Ni4zNi4xMDA=\n",
       "\">\n",
       "  Your browser does not support the video tag.\n",
       "</video>"
      ],
      "text/plain": [
       "<IPython.core.display.HTML object>"
      ]
     },
     "execution_count": 742,
     "metadata": {},
     "output_type": "execute_result"
    }
   ],
   "source": [
    "num =0\n",
    "animation = animation.FuncAnimation(fig, update_hist, 19, fargs=(num) )\n",
    "HTML(animation.to_html5_video())"
   ]
  },
  {
   "cell_type": "code",
   "execution_count": 743,
   "metadata": {
    "collapsed": false
   },
   "outputs": [
    {
     "name": "stdout",
     "output_type": "stream",
     "text": [
      "Iteration\t\t    ClusterSize Freq\t\t\tNodes in Cluster\tCluster Heads\t  No Cluster\n",
      "   0 \t\t [ 24  18  18   8  10   5   7   2 108] \t\t     1063 \t\t   200 \t\t    -13\n",
      "   1 \t\t [ 22  12  14  11   8   8   5   3 108] \t\t     1060 \t\t   191 \t\t    -1\n",
      "   2 \t\t [ 23  17  19   9   7   9   5   2 108] \t\t     1063 \t\t   199 \t\t    -12\n",
      "   3 \t\t [ 21   9  13  12   6  11   6   3 107] \t\t     1063 \t\t   188 \t\t    -1\n",
      "   4 \t\t [ 22  16  13  11   7  10   6   3 107] \t\t     1066 \t\t   195 \t\t    -11\n",
      "   5 \t\t [ 21   6  12  11   6   9   5   7 107] \t\t     1067 \t\t   184 \t\t    -1\n",
      "   6 \t\t [ 18  15  17  10   7   8   5   4 108] \t\t     1069 \t\t   192 \t\t    -11\n",
      "   7 \t\t [ 15  10  14  10   6   7   6   6 108] \t\t     1069 \t\t   182 \t\t    -1\n",
      "   8 \t\t [ 18  14  15  10   7   7   7   5 107] \t\t     1070 \t\t   190 \t\t    -10\n",
      "   9 \t\t [ 19  11  13  10   6   5   6   6 109] \t\t     1066 \t\t   185 \t\t    -1\n",
      "   10 \t\t [ 22  15  16   9   7   7   5   5 108] \t\t     1066 \t\t   194 \t\t    -10\n",
      "   11 \t\t [ 18  14  13  10   6   8   5   4 109] \t\t     1064 \t\t   187 \t\t    -1\n",
      "   12 \t\t [ 21  16  18   8   9   8   5   5 106] \t\t     1065 \t\t   196 \t\t    -11\n",
      "   13 \t\t [ 20  14  11  10  10   7   5   5 107] \t\t     1062 \t\t   189 \t\t    -1\n",
      "   14 \t\t [ 20  17  18   8  10   8   3   6 106] \t\t     1065 \t\t   196 \t\t    -11\n",
      "   15 \t\t [ 20  11  16   9   8   9   4   5 107] \t\t     1062 \t\t   189 \t\t    -1\n",
      "   16 \t\t [ 20  16  15   8   9  10   3   5 107] \t\t     1065 \t\t   193 \t\t    -8\n",
      "   17 \t\t [ 19  15  16   9   7   6   5   4 109] \t\t     1062 \t\t   190 \t\t    -2\n",
      "   18 \t\t [ 19  14  14  14   7   8   6   3 107] \t\t     1065 \t\t   192 \t\t    -7\n",
      "   19 \t\t [ 14  17  15  15   4   4   5   7 107] \t\t     1063 \t\t   188 \t\t    -1\n"
     ]
    }
   ],
   "source": [
    "count = 0\n",
    "total_nodes = 1250\n",
    "print(\"Iteration\\t\\t    ClusterSize Freq\\t\\t\\tNodes in Cluster\\tCluster Heads\\t  No Cluster\")\n",
    "#print(\"\\t         \\t    0   1   2   3   4   5   6   7   8\")\n",
    "for row in data:\n",
    "    \n",
    "    cluster_nodes = 0\n",
    "    cluster_heads = 0\n",
    "    count_array = np.bincount(row) \n",
    "    for i in range(0,len(count_array)):\n",
    "        cluster_heads = cluster_heads + count_array[i]\n",
    "        cluster_nodes = cluster_nodes + count_array[i]*(i+1)\n",
    "    \n",
    "    print(\"  \",count,\"\\t\\t\",np.bincount(row),\"\\t\\t    \",cluster_nodes-cluster_heads,\"\\t\\t  \",cluster_heads,\"\\t\\t   \",total_nodes-cluster_nodes)\n",
    "    count = count+1"
   ]
  },
  {
   "cell_type": "code",
   "execution_count": null,
   "metadata": {
    "collapsed": false
   },
   "outputs": [],
   "source": []
  },
  {
   "cell_type": "code",
   "execution_count": null,
   "metadata": {
    "collapsed": true
   },
   "outputs": [],
   "source": []
  }
 ],
 "metadata": {
  "kernelspec": {
   "display_name": "Python 3",
   "language": "python",
   "name": "python3"
  },
  "language_info": {
   "codemirror_mode": {
    "name": "ipython",
    "version": 3
   },
   "file_extension": ".py",
   "mimetype": "text/x-python",
   "name": "python",
   "nbconvert_exporter": "python",
   "pygments_lexer": "ipython3",
   "version": "3.6.0"
  }
 },
 "nbformat": 4,
 "nbformat_minor": 2
}
