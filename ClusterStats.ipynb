{
 "cells": [
  {
   "cell_type": "code",
   "execution_count": 13,
   "metadata": {
    "collapsed": true
   },
   "outputs": [],
   "source": [
    "import os\n",
    "import pandas as pd\n",
    "import csv\n",
    "import numpy as np\n",
    "from matplotlib import pyplot as plt\n",
    "from matplotlib import animation\n",
    "from IPython.display import HTML"
   ]
  },
  {
   "cell_type": "code",
   "execution_count": 14,
   "metadata": {
    "collapsed": true
   },
   "outputs": [],
   "source": [
    "numCH = [None]*200\n",
    "with open(\"Log-clusters.txt\") as csv_file:\n",
    "    data = list(csv.reader(csv_file, delimiter=','))\n",
    "    count = 0\n",
    "    for row in data:\n",
    "        numCH[count] = len(row)\n",
    "        count = count+1\n",
    "        for i in range(0,len(row)):\n",
    "            row[i] = int(row[i])"
   ]
  },
  {
   "cell_type": "code",
   "execution_count": 15,
   "metadata": {
    "collapsed": false
   },
   "outputs": [
    {
     "data": {
      "text/plain": [
       "<matplotlib.figure.Figure at 0x140fe3fa208>"
      ]
     },
     "metadata": {},
     "output_type": "display_data"
    },
    {
     "data": {
      "image/png": "[encoded data removed]",
      "text/plain": [
       "<matplotlib.figure.Figure at 0x140fe773048>"
      ]
     },
     "metadata": {},
     "output_type": "display_data"
    }
   ],
   "source": [
    "t = range(200)\n",
    "plt.plot(t, numCH, 'ro')\n",
    "plt.title(\"Total Cluster Heads at each Iteration\")\n",
    "plt.xlabel(\"Iteration\")\n",
    "plt.ylabel(\"# of Cluster Heads\")\n",
    "plt.show()"
   ]
  },
  {
   "cell_type": "code",
   "execution_count": 16,
   "metadata": {
    "collapsed": false
   },
   "outputs": [],
   "source": [
    "plt.figure()\n",
    "\n",
    "def update_hist(num):\n",
    "    plt.cla()\n",
    "    plt.hist(data[num])\n",
    "    plt.xlabel(\"Cluster Size\")\n",
    "    plt.ylabel(\"Frequency\")\n",
    "    plt.title(\"Cluster Sizes at T=\"+str(num))\n",
    "    \n",
    "fig = plt.figure()\n",
    "hist = plt.hist(data[0])"
   ]
  },
  {
   "cell_type": "code",
   "execution_count": 17,
   "metadata": {
    "collapsed": false
   },
   "outputs": [
    {
     "data": {
      "text/html": [
       "<video width=\"432\" height=\"288\" controls autoplay loop>\n",
       "  <source type=\"video/mp4\" src=\"data:video/mp4;base64,AAAAHGZ0eXBNNFYgAAACAGlzb21pc28yYXZjMQAAAAhmcmVlAAAV7G1kYXQAAAKtBgX//6ncRem9\n",
       "5tlIt5Ys2CDZI+7veDI2NCAtIGNvcmUgMTQ2IHIyNTM4IDEyMTM5NmMgLSBILjI2NC9NUEVHLTQg\n",
       "QVZDIGNvZGVjIC0gQ29weWxlZnQgMjAwMy0yMDE1IC0gaHR0cDovL3d3dy52aWRlb2xhbi5vcmcv\n",
       "eDI2NC5odG1sIC0gb3B0aW9uczogY2FiYWM9MSByZWY9MyBkZWJsb2NrPTE6MDowIGFuYWx5c2U9\n",
       "MHgzOjB4MTEzIG1lPWhleCBzdWJtZT03IHBzeT0xIHBzeV9yZD0xLjAwOjAuMDAgbWl4ZWRfcmVm\n",
       "PTEgbWVfcmFuZ2U9MTYgY2hyb21hX21lPTEgdHJlbGxpcz0xIDh4OGRjdD0xIGNxbT0wIGRlYWR6\n",
       "b25lPTIxLDExIGZhc3RfcHNraXA9MSBjaHJvbWFfcXBfb2Zmc2V0PS0yIHRocmVhZHM9NiBsb29r\n",
       "YWhlYWRfdGhyZWFkcz0xIHNsaWNlZF90aHJlYWRzPTAgbnI9MCBkZWNpbWF0ZT0xIGludGVybGFj\n",
       "ZWQ9MCBibHVyYXlfY29tcGF0PTAgY29uc3RyYWluZWRfaW50cmE9MCBiZnJhbWVzPTMgYl9weXJh\n",
       "bWlkPTIgYl9hZGFwdD0xIGJfYmlhcz0wIGRpcmVjdD0xIHdlaWdodGI9MSBvcGVuX2dvcD0wIHdl\n",
       "aWdodHA9MiBrZXlpbnQ9MjUwIGtleWludF9taW49NSBzY2VuZWN1dD00MCBpbnRyYV9yZWZyZXNo\n",
       "PTAgcmNfbG9va2FoZWFkPTQwIHJjPWNyZiBtYnRyZWU9MSBjcmY9MjMuMCBxY29tcD0wLjYwIHFw\n",
       "bWluPTAgcXBtYXg9NjkgcXBzdGVwPTQgaXBfcmF0aW89MS40MCBhcT0xOjEuMDAAgAAADtZliIQA\n",
       "Ef/+94gfMstp+TrXchHnrS6tH1DuRnFepL3+IAAAAwAWnJlD+2HHV6pMRquQar6gBagr0E7xzNbk\n",
       "AHQXoTU5/72N53qAwlaIbSh7ynS1pJ5FbjV/oZPFkOVBGFymxQPkPWteJ2VQ66hTHkPFGv7mVUN+\n",
       "fsvOq0HNgvCvyrY7e3+AGo+L61ebTIByYrja8C5QRQsj2+2NWAD6w386fZHg+T8EcKOicwQ4+bzJ\n",
       "9wNA6bAysaTk9LWwjgCXP6IWFDncpXm2qjl52kx+s/5NL7uIi/aNfbm09ASVwNf/ff485PNHT9pK\n",
       "S8kmu/zSga8Hgo7HpGtSlBWDL8ZemJH+GfOlt2umwyAFwHIw93PdTKfZCppfUsoulPj7t3NytCbR\n",
       "nFMYPXtX2wvP8XUxnSWN/nKu47aPjAwWzp8EJTNvaZO9FY9l1S/hJjggrT94BgE8pYCkLKIB5OiC\n",
       "l9atx7+Wc39h67ZeX36EgAebKltf08Rep59oA4cJQX0iRGqKJFALH6VG/rRpVkJweupIkjczvGd8\n",
       "oO4fDUM7LuAJqDkZI7yStDhcAfv3gyT68EF1Xv+Xkft+VUuVe1U/MH7x0qwfArcrvxFmMWtSOuEE\n",
       "LaEq4OnDy3O5o/e2Jy2CfMae2XMBdyyD5TKOEYkUObLQxNLm6qPDDBcRy88yYXH+AN6jAG8hfPYL\n",
       "nGlSlQz+rc4/aHvaktFzu5JIz/dq/qQ7R7qYt7PvKPeujtMrx58aCP1zU6w4ahZ0WeOM5qBcVpPf\n",
       "Rk3CZCmBkQmo3JObBVaaE2r7HzF5jgjSEFxAm4fiDsIQIPFWNDJZ1tuCzrqcf/M+xJcTm2bWO+v/\n",
       "fuPjp24/cuuUHe3/L1E/zzjAuGfmblx0XkKqii33KpdYmojuD7iMW55H+yMsq/EUCPBW7RAwHkLt\n",
       "91189h5P7Efx1li3aE9l5tQuTwtw54gTlCvyeXpG7JkSWYWNkM9dZ9wK3y2LEqFTJFssnbuNx9tc\n",
       "Y4R7z0f3smPsguWvliFnrWgquQn2rv2f+9Z+n5MaVvD2x6V2aKatvqg5FLen7t2MI8825/j37qMZ\n",
       "SJFf7vDQeq6mgjZoxTJtqv5D/J8S4p7jSZHsZMt9jcLeHsjiH9sYXWrkRMcQJhPD5PvfYf8IYvNY\n",
       "FPBgofJJP/N5c3N3xbEP+jMSIEq/+W60Ej1d/Ys57kDkDJrt3gosLzG5QW0gAkl7356nlarz/C/T\n",
       "2VwNFQTpz0HSpkakk7/Ij85AakF0UItxL5yk3zLtGetyuQlnHPkku8VfudCDY6uWYuNW4gOB7n7b\n",
       "Wes+s+13w41OdKV8tf3lWF+FxJB+rCITafaRdgHkYW3HzHHdDF508XkS64oxrzAvPVmWUo2W7EON\n",
       "w62gNjy0UpDPiExV7XLofu2RA9ZzTX+hM/bIdMtlo5vBpLJWeOb5F7y/yoGhoAD0VklT9TBfjUH1\n",
       "F+yT1n2vHODBZu6x3hM4QYHNhgU5LoO671vCOKrLBj65ua4BNjDndPWHJqgzGQOPpNAmSAFJvyxM\n",
       "oRNqLfHTriCxaZD/AdjAA+pYrSsKdDPRT0bgDyeF3dlloAGozvn5MwTWXfExTDZ1DfXnQ/URRs9m\n",
       "J+hR+MV0an1O3q9z/rzVXgyETWXUznSRUI5pWpWmMJz5WRRfmLPvoDOs7sIXi6GckEzCLQywD1gM\n",
       "BkcAhId97Ana2m5vOq/8A8JgalhscfLenyIusDEPhuqgZowSKdj5U4yrJR9GjnI3ZmG9XzgAK51R\n",
       "xi9cR3n8/4XA3AR2ZDHx8SlQGtFoYk6RajDN0rXzkUB0HSCIwBI0c2wE5Tj2tLfyCHUuefbbqyWN\n",
       "5FVRSnveUVjGTYS3AQofCwSIF0LajoOcjpUzbn/rqJE3GGM5KW5/bEA4sCiCZJkqi3ZxTFdoRBD4\n",
       "spFMc4+A6fB6RozhkyVV0i1QHVEr/xSd047vQRahr/SAUHQPaMtB2YfvBs09W9t1u90gictgbCeP\n",
       "0yXB/F5Ne0iS2S5VcCBGuo2JawSQ1FIIf2nS6bBJ7E5Vl3E8dbtKFdTPEvCEYb7PaoK6kKSotnUs\n",
       "mCi/+PRbDugUAZl78M3erRI3gPhwMz1htbUSSaBSbPOX7NKjaiSnWxGGe5kPMPyid+N2d0tDkH28\n",
       "Qx+L4S5BOeIoHXy/S9T4f2F0hDFWzo+1FlXeHeP81/9ysq82ZBfFgR0sGy9oR/aYD2ITAtotStyc\n",
       "m+3hWWV83C8lAR1bja+fDd7E/8QYhEk2R76K9QcyieW2NRiL0owhbE7J5cDXRINpSIx9/iYOhvTx\n",
       "y4gF0SRd9HMREB6KagLbQ0MerpXct8/bvIQJDBBrpi4gnUC/Q5DORAXN6DBkxiBKtysbJKSyin/R\n",
       "+rrouPyIIYal1TfIGt12gqTmpDeB9wEr/uY+T335ksw7EAkIlZL1l3zJHQPi94BAsFb2fVR8xN/F\n",
       "vTr7bgfvGZi9tYmgBRJfHzm7NIUTASUeDrf0oMEq/5NPm/cDS4mT/jYAaIK1BPa6NkvTPHNMyVzv\n",
       "lCt4fvzMYRylwCIe50JGJN6DzqSgKaBINB2aoTcZxk10hsErF6EsEspohb3sghnmvmYV5J1sM4aG\n",
       "ujYb1oGP6vz0L97OEoBL7tSWIXPUkHSBS5btIA/FJW4eotRHm5pvM1QaQBiE711JTEWiXviTCM57\n",
       "16MUU+IEpkHpb6i5F/2O6RIZLNiNWKB4XUyYv2syhS0WQ1Cj19NkgUtNWMCOfeFaVYq2TDQkdJyW\n",
       "tp+Or2OIdFWDJmNevhgXrb2HfDr6xMvHXiZcsMnSLAU1kY0TwYVi0QDUgme6EkAFKaDJ8oAJxL2h\n",
       "GDqVG+UL/xpkO68Tvj4c/6bu5BLV/iwopZcd90bZmD9lhvBpy6ELh5GwO1VedXokgEPOhYksQtRB\n",
       "aW8EOERPNXuzfd5qevr/5Hp9+ptFsRiHQzLPbgZAtNygZDv7zNtq9IvYP68YWakofOCTFWxlZAOD\n",
       "OwDcjULDbY79Y/4AOJjbNgZxiN3Fl/JvH+XQ3x0T7hikTfsc4QBxJTZSIWbao6GSzi1+CoolqHR+\n",
       "yGjdf4L6mTJGM0lCU8sTBt+bmf2CiM7qNybribiZ5gs8oveOq0hCApdfrnQXbmi8vs5FE5IsIcw7\n",
       "//nIqpZzFeGv3O1sCL2JvAk/3Gw4adlk36UlGHAx6CXGyo4zo7yWSySKUHtee/R//kdTQvpp7xe/\n",
       "iWhIGYMLjRam5m4hLDZv8Tu0LU9++wHGNw4O3DvCCTp9csoqWWZDAGlVlq+7WN14cU2sgqwR1ZWA\n",
       "iNWtTUUQlRNqCxhHNGUkctLU7QH3fbm/njyAgBqrcp9T3S1b8/b4DhRzbozsWelKfo2O+f2NafK3\n",
       "+xaszd0TpO3t5UOSlg5s5NC39S8OFvNE9+D/beB3X2BEg4HIdzSmrtes2dRb2s5Fn6bmWesP/bkl\n",
       "yHSyyvbi1FDq2Q6XDdRWSLbynYosP2pLE2A/O4TfXKVUMXp966VKZlZwqH6a2yUORiUR88FD8I3S\n",
       "w1i2GeDNA7mj4p0QA1iBm1Y49YM0eIg2AaDdy+cXrXgkkkTL3ZmfXOAZUNkV3b57eTym2ZhmMTzy\n",
       "6oP7I+ZDlgjrqjfNWrtPLGyK01nZiPEr8bW/UnlgTBOo9LyAFgOC/zEl6HbnRNMhpEILIlwEieaY\n",
       "Qaie3ZAg14atAVLPIBoMMr1Pf2vUSZ0Ot6FaFlBQUyvcKXYO1WWizRQsne40M/aXSKsLhBkK3fQR\n",
       "H3Pf+hzBH4J8UJknX1UItBHC9kSSSr+u/ep61eLU2CjEhEO0OTvv2rFfXu0X1oMPhN+XIBp4v8SW\n",
       "bOOfNZNqw0lUEyYLT+tcjlnpPWCONThxgNO+VeE89yDE/j5qt19tvDixnq1WBVg2dHF5lOcjBAPJ\n",
       "FNAFggWpJrFw/J/ePvy9VSu1k78/+UHTnWvDg4i4cgXqR1197anvijdnseF4PjmV2UgRvxrSfiFG\n",
       "R3PCQeDcajXMYgHkECzRhVy+MjNVlil7rJA1AGR8RLM2qhT1zH0T4nJyWKXuHxjrRpaPBD90Nj5P\n",
       "6+2ZqWuOreu6/kN1OlEMZIn6i+G/dRYFUG7Vt9UufMNL3C5ul6aRPLopRJiSm1f9rwnxUhqsQsMw\n",
       "sAh+FyPhHk2ubWWrXI5YHPXr+cprB0V4pSzenNl6Xh48OG7GjCZVd/I26DKVRVXB/DklJ+gUtJZg\n",
       "tyb9ok5uidEOi4C//JYfEbqr2THuGvFRf+UiwAhgNN6Q121rgYD3EcCZ3s4PqAL5/MlOyYVosbGI\n",
       "BnSca7qPSWqWz1k4d9UOj2pF+YO3RwYwsQZbOA7GL2Ww2CbSfwZyFiK3DWIm6eifDhh7IEMg6wVD\n",
       "byeHapfv0z1sCKyAZaVVbwK9kSUYpQw3XyMQAK2mkBXK2Xm3GYGHLwUUp9y7v4Eqxv0AHaNf0zDy\n",
       "nsAOwVzebEGDvWIrsEsAPAcGrF01lu30Wp+dirq7qisokDma6EiMB7LpmKNmf6ft9DDd5VeRsEPP\n",
       "allmWpnkSqoXXmy666YjihhvtCui7q/d3z6jlJnMESMNcobUcnqzLd1CaQhOJSt5W8It8BZl4Pjo\n",
       "7sjKhE147z8gjMTz5VtLp7zlPtetP0kO0pNuf963bbiqD7ihCNsnM2g72/JTp0/UGRjjLXMYcb6U\n",
       "AZsumsAJSnFEVqK4MntMbWN40jc/0Q5PQbD2k/Wk3Sf7yCBxx/iDwI+8iAyH+ipxuX7ah/kGp3AG\n",
       "0BFNvtD9rumqLdCxZhoOOPrxHTjlEDEaBg/bExoUQ4KPrT99yIEuc0abJpVt2kFrhPHyxLCsK5A6\n",
       "DMsRSQ0jzx1A4YXmskd4kyeON3t+/oUnKNvhy15Xwr2yKNWpVhLInX7Y8Ahyq0vZeW8tEp7dmTNZ\n",
       "2gW89KmgnsZxgQyg3P/wfHmPYSPtTL4Z3X7c2GG1GkVURwyGrD03LLqPX1ibrLFv+IiHG6aGwN2s\n",
       "lshIRschrEtHh6MdxXrYK2OtXxOneNnT/cJOAoH5BF+c6ytl5qPGN/nC/Y8aagLBIMC4xUrl/IuL\n",
       "/myae3C6ZhSpJHuQUW2ZgicSwd9/SdHP5YBXWAAAJqEAAAJnQZohbEEP/qpVAba6eADi22RjhTll\n",
       "QIBZjmBWAEna9S2usV7gpIow7rDcUJdIEjQvmsRSzmV1kh2J7DY88nsLSXRIqmXpD29o83/TYC6z\n",
       "YnfXFknj6salDEn+h2gXk4G7snVc8Wx311qcJp2J7hPpUbAvzad2NN/hH6i9nP8IfhwIn+OwuaZl\n",
       "FbLkfsux3+38H4PnH5tGNGcJaenNlKDX02UYBzb/RqQV4BebaGOX/F4DnwJkbODJm1P9FAZox/+W\n",
       "yRQUk9uplhOXdtIlgGo58/KeK3eIow7MV2kxbspr6KGCx90sWD1xk54Slb4ho36rL/vHhmgEHbEn\n",
       "UfSImDbHYaya0w3UX3JjosGchPOePYP5xKTqKePt5QKnyEu5X7AwkibyCapP2ce70/ZOSsnsJ3M+\n",
       "HRBHKwcgAiyZTwoeKxZtL7jOwGwWcxK7SQgZI0M/55/QQXtdD91ELokdlpzZ+6h+aCltxrQcDT53\n",
       "8QAy+oCGITX+v2dWkQpGvX5TSjlhN88tXmLi0Mwc9RvYxkNFvakoGiPAvxteOADrzmf8cyuzbWlc\n",
       "a/9dowvqAXCrSc5Tr2ZvdAR/ErwF9sHDlusOJkqdh7xC5w8FrC6XE0V7x1szUjoPFzqZmE3CZx8G\n",
       "d/aRvPPqA6hmgs7pWgX/GVXo9v5A/6hxxSDhDZozFZ3Skf/nMT90vQilNxR9xANZ2uAVtbvpjiuu\n",
       "9iy1RCKsVgCKqPTdipduzzdP0zN3Prb34oz//3ZOo0jIketmaEgJxDN6lIsl4kxoqqwLkPmu39m5\n",
       "W99v/Yre/iw/oNQgEaISfVOAAhjcylSAAAAAykGaQzwhkymEEP/+qlUAtImcTnm9T24ABNXzDPEk\n",
       "I/M5OMZjxKYiBvNlrGvbqQx9e6kg7vrGkhUROLPSwv0Zd9JVlrzfsj46O6eeyseYvDpGtFuWglrl\n",
       "+zXVKLc1AoPSkcfRLP1fElwGjBz732U6e3lYoYukD/KQedJ/wGxSZLejamlxeDe6yWnd/KvtDaq4\n",
       "bqJ1r6Z09KfP2u0dSOPTDNITjD/4FziTgzqmk4w6Jm0KaSRZEbdOj+yKK++L+7jRNuFhS+OL/XyA\n",
       "kYEAAAB1AZ5iakP/AHGERzzTvgAmr4/oOR4iKt5v1vnxGObId734JPuGn8nAsHy1yV3T1t/tPkR8\n",
       "L4/LX9v/BQaLp+0KdReWxktTyd0nblCzERek4T9Mh7j+0e9aknxKu+FgXvRVHM6voCa2TMJigPS4\n",
       "yXZcX3wZaDhgAAAAo0GaZEnhDyZTAh///qmWApGPGACdvkSu3LwT+mhBEmjnl3lvYt3ZBAdgWBV5\n",
       "nUa2uxOW2v5Th8snYZZGGIvhfwAiGM6LnTTzEdE7WvL+fHxoo29Shfv08lcecmjemj66QRk0/0u3\n",
       "7TuMJwEJfPLyqy/ia6ktKO3duarlNci48zhCZrRKOROYlzOTj4pS3sr8xB1yni+jE7+kWzwQ6vym\n",
       "AQN5EmcAAANibW9vdgAAAGxtdmhkAAAAAAAAAAAAAAAAAAAD6AAAA+gAAQAAAQAAAAAAAAAAAAAA\n",
       "AAEAAAAAAAAAAAAAAAAAAAABAAAAAAAAAAAAAAAAAABAAAAAAAAAAAAAAAAAAAAAAAAAAAAAAAAA\n",
       "AAAAAAAAAgAAAox0cmFrAAAAXHRraGQAAAADAAAAAAAAAAAAAAABAAAAAAAAA+gAAAAAAAAAAAAA\n",
       "AAAAAAAAAAEAAAAAAAAAAAAAAAAAAAABAAAAAAAAAAAAAAAAAABAAAAAAbAAAAEgAAAAAAAkZWR0\n",
       "cwAAABxlbHN0AAAAAAAAAAEAAAPoAAAQAAABAAAAAAIEbWRpYQAAACBtZGhkAAAAAAAAAAAAAAAA\n",
       "AAAoAAAAKABVxAAAAAAALWhkbHIAAAAAAAAAAHZpZGUAAAAAAAAAAAAAAABWaWRlb0hhbmRsZXIA\n",
       "AAABr21pbmYAAAAUdm1oZAAAAAEAAAAAAAAAAAAAACRkaW5mAAAAHGRyZWYAAAAAAAAAAQAAAAx1\n",
       "cmwgAAAAAQAAAW9zdGJsAAAAs3N0c2QAAAAAAAAAAQAAAKNhdmMxAAAAAAAAAAEAAAAAAAAAAAAA\n",
       "AAAAAAAAAbABIABIAAAASAAAAAAAAAABAAAAAAAAAAAAAAAAAAAAAAAAAAAAAAAAAAAAAAAAAAAA\n",
       "GP//AAAAMWF2Y0MBZAAV/+EAGGdkABWs2UGwloQAAAMABAAAAwAoPFi2WAEABmjr48siwAAAABx1\n",
       "dWlka2hA8l8kT8W6OaUbzwMj8wAAAAAAAAAYc3R0cwAAAAAAAAABAAAABQAACAAAAAAUc3RzcwAA\n",
       "AAAAAAABAAAAAQAAADBjdHRzAAAAAAAAAAQAAAACAAAQAAAAAAEAABgAAAAAAQAACAAAAAABAAAQ\n",
       "AAAAABxzdHNjAAAAAAAAAAEAAAABAAAABQAAAAEAAAAoc3RzegAAAAAAAAAAAAAABQAAEYsAAAJr\n",
       "AAAAzgAAAHkAAACnAAAAFHN0Y28AAAAAAAAAAQAAACwAAABidWR0YQAAAFptZXRhAAAAAAAAACFo\n",
       "ZGxyAAAAAAAAAABtZGlyYXBwbAAAAAAAAAAAAAAAAC1pbHN0AAAAJal0b28AAAAdZGF0YQAAAAEA\n",
       "AAAATGF2ZjU2LjM2LjEwMA==\n",
       "\">\n",
       "  Your browser does not support the video tag.\n",
       "</video>"
      ],
      "text/plain": [
       "<IPython.core.display.HTML object>"
      ]
     },
     "execution_count": 17,
     "metadata": {},
     "output_type": "execute_result"
    }
   ],
   "source": [
    "num =0\n",
    "animation = animation.FuncAnimation(fig, update_hist, 5, fargs=(num) )\n",
    "HTML(animation.to_html5_video())"
   ]
  },
  {
   "cell_type": "code",
   "execution_count": 34,
   "metadata": {
    "collapsed": false
   },
   "outputs": [
    {
     "name": "stdout",
     "output_type": "stream",
     "text": [
      "0 [  4   5   8   4   5   2   4   6 105] 945\n",
      "1 [  3   7   5   4   6   2   5   6 105] 945\n",
      "2 [  3   8   5   2   6   3   5   7 104] 936\n",
      "3 [  3   7   6   3   4   3   5   8 104] 936\n",
      "4 [  3   7   6   3   3   4   6   7 104] 936\n",
      "5 [  3   7   5   3   5   4   6   5 105] 945\n",
      "6 [  3   6   4   6   5   3   7   4 105] 945\n",
      "7 [  3   4   5   7   5   4   8   2 105] 945\n",
      "8 [  3   4   5   7   5   4   8   2 105] 945\n",
      "9 [  4   5   3   6   6   4   7   3 105] 945\n",
      "10 [  4   5   4   3   7   5   8   3 104] 936\n",
      "11 [  4   5   5   5   5   4   8   2 105] 945\n",
      "12 [  4   5   5   6   4   4   8   3 104] 936\n",
      "13 [  4   5   5   6   4   5   5   5 104] 936\n",
      "14 [  4   4   4   6   7   4   8   4 102] 918\n",
      "15 [  5   2   6   6   5   6   5   6 102] 918\n",
      "16 [  4   2   5   7   7   7   6   4 101] 909\n",
      "17 [  4   3   5   6   7   5   6   6 101] 909\n",
      "18 [  4   3   5   6   7   5   6   5 102] 918\n",
      "19 [  3   4   4   6   9   5   5   5 102] 918\n"
     ]
    }
   ],
   "source": [
    "count = 0\n",
    "for row in data:\n",
    "    \n",
    "    total_nodes = 0\n",
    "    count_array = np.bincount(row) \n",
    "    for i in range(0,9):\n",
    "        total_nodes = count_array[i]*(i+1)\n",
    "    \n",
    "    print(count,np.bincount(row),total_nodes)\n",
    "    count = count+1"
   ]
  },
  {
   "cell_type": "code",
   "execution_count": 25,
   "metadata": {
    "collapsed": false
   },
   "outputs": [
    {
     "data": {
      "text/plain": [
       "8"
      ]
     },
     "execution_count": 25,
     "metadata": {},
     "output_type": "execute_result"
    }
   ],
   "source": [
    "row[0]"
   ]
  },
  {
   "cell_type": "code",
   "execution_count": null,
   "metadata": {
    "collapsed": true
   },
   "outputs": [],
   "source": []
  }
 ],
 "metadata": {
  "kernelspec": {
   "display_name": "Python 3",
   "language": "python",
   "name": "python3"
  },
  "language_info": {
   "codemirror_mode": {
    "name": "ipython",
    "version": 3
   },
   "file_extension": ".py",
   "mimetype": "text/x-python",
   "name": "python",
   "nbconvert_exporter": "python",
   "pygments_lexer": "ipython3",
   "version": "3.6.0"
  }
 },
 "nbformat": 4,
 "nbformat_minor": 2
}
