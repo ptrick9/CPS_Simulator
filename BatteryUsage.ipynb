{
 "cells": [
  {
   "cell_type": "code",
   "execution_count": 62,
   "metadata": {
    "collapsed": false
   },
   "outputs": [],
   "source": [
    "#Import all of our necessary libraries\n",
    "\n",
    "import os\n",
    "import pandas as pd\n",
    "import csv\n",
    "import numpy as np\n",
    "from matplotlib import pyplot as plt\n",
    "from matplotlib import animation\n",
    "from IPython.display import HTML"
   ]
  },
  {
   "cell_type": "code",
   "execution_count": 63,
   "metadata": {
    "collapsed": false
   },
   "outputs": [
    {
     "name": "stdout",
     "output_type": "stream",
     "text": [
      "2001\n"
     ]
    }
   ],
   "source": [
    "def isFloat(s):\n",
    "    try:\n",
    "        float(s)\n",
    "        return True\n",
    "    except ValueError:\n",
    "        #print(\"Value error: \",s)\n",
    "        return False\n",
    "\n",
    "with open(\"Log-batteryusage.csv\") as csv_file:\n",
    "    data = list(csv.reader(csv_file, delimiter=','))\n",
    "    num_iters = len(data)-1\n",
    "    num_nodes = len(data[0])-1\n",
    "    batteryLevels = [x[:] for x in [[0.0] * num_nodes] * num_iters]\n",
    "    print(num_nodes)\n",
    "\n",
    "    for i in range(0,num_iters-1):\n",
    "        for j in range(1,num_nodes):\n",
    "            \n",
    "            if(isFloat(data[i][j])):\n",
    "                try:\n",
    "                    batteryLevels[i][j-1] = float(data[i][j])\n",
    "                except IndexError:\n",
    "                    print(i,j)"
   ]
  },
  {
   "cell_type": "markdown",
   "metadata": {},
   "source": [
    "batteryFreq = [[0]*10]*199\n",
    "for row_num in range(0,199):\n",
    "    for col in range(0,10):\n",
    "        ind = int(batteryLevels[row_num ][col]/10)\n",
    "        batteryFreq[row_num ][ind] += 1"
   ]
  },
  {
   "cell_type": "code",
   "execution_count": 64,
   "metadata": {
    "collapsed": false
   },
   "outputs": [],
   "source": [
    "batteryFreq = [[0]*10 for _ in range(200)]\n",
    "for row_num in range(0,num_iters):\n",
    "    for col in range(0,num_nodes-1):\n",
    "        ind = int(batteryLevels[row_num][col+1]/10)\n",
    "        temp = batteryFreq[row_num][ind] + 1\n",
    "        batteryFreq[row_num][ind] = temp"
   ]
  },
  {
   "cell_type": "code",
   "execution_count": 68,
   "metadata": {
    "collapsed": false
   },
   "outputs": [
    {
     "data": {
      "image/png": "[encoded data removed]",
      "text/plain": [
       "<matplotlib.figure.Figure at 0x224c0331dd8>"
      ]
     },
     "metadata": {},
     "output_type": "display_data"
    },
    {
     "data": {
      "image/png": "[encoded data removed]",
      "text/plain": [
       "<matplotlib.figure.Figure at 0x224be5df2b0>"
      ]
     },
     "metadata": {},
     "output_type": "display_data"
    },
    {
     "data": {
      "image/png": "[encoded data removed]",
      "text/plain": [
       "<matplotlib.figure.Figure at 0x224bf952ac8>"
      ]
     },
     "metadata": {},
     "output_type": "display_data"
    }
   ],
   "source": [
    "plt.hist(batteryLevels[1][1:], bins=100)\n",
    "plt.title(\"Battery Levels at T=1\")\n",
    "plt.xlabel(\"Battery %\")\n",
    "plt.ylabel(\"Frequency\")\n",
    "plt.show()\n",
    "\n",
    "plt.hist(batteryLevels[int(num_iters/2)][1:], bins=100)\n",
    "middle = str(num_iters/2)\n",
    "plt.title(\"Battery Levels at T=\"+middle)\n",
    "plt.xlabel(\"Battery %\")\n",
    "plt.ylabel(\"Frequency\")\n",
    "plt.show()\n",
    "\n",
    "plt.hist(batteryLevels[num_iters-1][1:], bins=100)\n",
    "end = str(num_iters-4)\n",
    "plt.title(\"Battery Levels at T=\"+end)\n",
    "plt.xlabel(\"Battery %\")\n",
    "plt.ylabel(\"Frequency\")\n",
    "plt.show()"
   ]
  },
  {
   "cell_type": "code",
   "execution_count": 69,
   "metadata": {
    "collapsed": false
   },
   "outputs": [
    {
     "ename": "KeyboardInterrupt",
     "evalue": "",
     "output_type": "error",
     "traceback": [
      "\u001b[0;31m---------------------------------------------------------------------------\u001b[0m",
      "\u001b[0;31mKeyboardInterrupt\u001b[0m                         Traceback (most recent call last)",
      "\u001b[0;32m<ipython-input-69-2b6e174d72f7>\u001b[0m in \u001b[0;36m<module>\u001b[0;34m()\u001b[0m\n\u001b[1;32m     29\u001b[0m \u001b[1;31m#anim.save('basic_animation.mp4', fps=30, extra_args=['-vcodec', 'libx264'])\u001b[0m\u001b[1;33m\u001b[0m\u001b[1;33m\u001b[0m\u001b[0m\n\u001b[1;32m     30\u001b[0m \u001b[1;33m\u001b[0m\u001b[0m\n\u001b[0;32m---> 31\u001b[0;31m \u001b[0mHTML\u001b[0m\u001b[1;33m(\u001b[0m\u001b[0manim\u001b[0m\u001b[1;33m.\u001b[0m\u001b[0mto_html5_video\u001b[0m\u001b[1;33m(\u001b[0m\u001b[1;33m)\u001b[0m\u001b[1;33m)\u001b[0m\u001b[1;33m\u001b[0m\u001b[0m\n\u001b[0m",
      "\u001b[0;32mC:\\Users\\adamc\\Anaconda3\\lib\\site-packages\\matplotlib\\animation.py\u001b[0m in \u001b[0;36mto_html5_video\u001b[0;34m(self)\u001b[0m\n\u001b[1;32m   1157\u001b[0m                                 \u001b[0mbitrate\u001b[0m\u001b[1;33m=\u001b[0m\u001b[0mrcParams\u001b[0m\u001b[1;33m[\u001b[0m\u001b[1;34m'animation.bitrate'\u001b[0m\u001b[1;33m]\u001b[0m\u001b[1;33m,\u001b[0m\u001b[1;33m\u001b[0m\u001b[0m\n\u001b[1;32m   1158\u001b[0m                                 fps=1000. / self._interval)\n\u001b[0;32m-> 1159\u001b[0;31m                 \u001b[0mself\u001b[0m\u001b[1;33m.\u001b[0m\u001b[0msave\u001b[0m\u001b[1;33m(\u001b[0m\u001b[0mf\u001b[0m\u001b[1;33m.\u001b[0m\u001b[0mname\u001b[0m\u001b[1;33m,\u001b[0m \u001b[0mwriter\u001b[0m\u001b[1;33m=\u001b[0m\u001b[0mwriter\u001b[0m\u001b[1;33m)\u001b[0m\u001b[1;33m\u001b[0m\u001b[0m\n\u001b[0m\u001b[1;32m   1160\u001b[0m \u001b[1;33m\u001b[0m\u001b[0m\n\u001b[1;32m   1161\u001b[0m             \u001b[1;31m# Now open and base64 encode\u001b[0m\u001b[1;33m\u001b[0m\u001b[1;33m\u001b[0m\u001b[0m\n",
      "\u001b[0;32mC:\\Users\\adamc\\Anaconda3\\lib\\site-packages\\matplotlib\\animation.py\u001b[0m in \u001b[0;36msave\u001b[0;34m(self, filename, writer, fps, dpi, codec, bitrate, extra_args, metadata, extra_anim, savefig_kwargs)\u001b[0m\n\u001b[1;32m   1010\u001b[0m                     \u001b[1;32mfor\u001b[0m \u001b[0manim\u001b[0m\u001b[1;33m,\u001b[0m \u001b[0md\u001b[0m \u001b[1;32min\u001b[0m \u001b[0mzip\u001b[0m\u001b[1;33m(\u001b[0m\u001b[0mall_anim\u001b[0m\u001b[1;33m,\u001b[0m \u001b[0mdata\u001b[0m\u001b[1;33m)\u001b[0m\u001b[1;33m:\u001b[0m\u001b[1;33m\u001b[0m\u001b[0m\n\u001b[1;32m   1011\u001b[0m                         \u001b[1;31m# TODO: See if turning off blit is really necessary\u001b[0m\u001b[1;33m\u001b[0m\u001b[1;33m\u001b[0m\u001b[0m\n\u001b[0;32m-> 1012\u001b[0;31m                         \u001b[0manim\u001b[0m\u001b[1;33m.\u001b[0m\u001b[0m_draw_next_frame\u001b[0m\u001b[1;33m(\u001b[0m\u001b[0md\u001b[0m\u001b[1;33m,\u001b[0m \u001b[0mblit\u001b[0m\u001b[1;33m=\u001b[0m\u001b[1;32mFalse\u001b[0m\u001b[1;33m)\u001b[0m\u001b[1;33m\u001b[0m\u001b[0m\n\u001b[0m\u001b[1;32m   1013\u001b[0m                     \u001b[0mwriter\u001b[0m\u001b[1;33m.\u001b[0m\u001b[0mgrab_frame\u001b[0m\u001b[1;33m(\u001b[0m\u001b[1;33m**\u001b[0m\u001b[0msavefig_kwargs\u001b[0m\u001b[1;33m)\u001b[0m\u001b[1;33m\u001b[0m\u001b[0m\n\u001b[1;32m   1014\u001b[0m \u001b[1;33m\u001b[0m\u001b[0m\n",
      "\u001b[0;32mC:\\Users\\adamc\\Anaconda3\\lib\\site-packages\\matplotlib\\animation.py\u001b[0m in \u001b[0;36m_draw_next_frame\u001b[0;34m(self, framedata, blit)\u001b[0m\n\u001b[1;32m   1048\u001b[0m         \u001b[0mself\u001b[0m\u001b[1;33m.\u001b[0m\u001b[0m_pre_draw\u001b[0m\u001b[1;33m(\u001b[0m\u001b[0mframedata\u001b[0m\u001b[1;33m,\u001b[0m \u001b[0mblit\u001b[0m\u001b[1;33m)\u001b[0m\u001b[1;33m\u001b[0m\u001b[0m\n\u001b[1;32m   1049\u001b[0m         \u001b[0mself\u001b[0m\u001b[1;33m.\u001b[0m\u001b[0m_draw_frame\u001b[0m\u001b[1;33m(\u001b[0m\u001b[0mframedata\u001b[0m\u001b[1;33m)\u001b[0m\u001b[1;33m\u001b[0m\u001b[0m\n\u001b[0;32m-> 1050\u001b[0;31m         \u001b[0mself\u001b[0m\u001b[1;33m.\u001b[0m\u001b[0m_post_draw\u001b[0m\u001b[1;33m(\u001b[0m\u001b[0mframedata\u001b[0m\u001b[1;33m,\u001b[0m \u001b[0mblit\u001b[0m\u001b[1;33m)\u001b[0m\u001b[1;33m\u001b[0m\u001b[0m\n\u001b[0m\u001b[1;32m   1051\u001b[0m \u001b[1;33m\u001b[0m\u001b[0m\n\u001b[1;32m   1052\u001b[0m     \u001b[1;32mdef\u001b[0m \u001b[0m_init_draw\u001b[0m\u001b[1;33m(\u001b[0m\u001b[0mself\u001b[0m\u001b[1;33m)\u001b[0m\u001b[1;33m:\u001b[0m\u001b[1;33m\u001b[0m\u001b[0m\n",
      "\u001b[0;32mC:\\Users\\adamc\\Anaconda3\\lib\\site-packages\\matplotlib\\animation.py\u001b[0m in \u001b[0;36m_post_draw\u001b[0;34m(self, framedata, blit)\u001b[0m\n\u001b[1;32m   1073\u001b[0m             \u001b[0mself\u001b[0m\u001b[1;33m.\u001b[0m\u001b[0m_blit_draw\u001b[0m\u001b[1;33m(\u001b[0m\u001b[0mself\u001b[0m\u001b[1;33m.\u001b[0m\u001b[0m_drawn_artists\u001b[0m\u001b[1;33m,\u001b[0m \u001b[0mself\u001b[0m\u001b[1;33m.\u001b[0m\u001b[0m_blit_cache\u001b[0m\u001b[1;33m)\u001b[0m\u001b[1;33m\u001b[0m\u001b[0m\n\u001b[1;32m   1074\u001b[0m         \u001b[1;32melse\u001b[0m\u001b[1;33m:\u001b[0m\u001b[1;33m\u001b[0m\u001b[0m\n\u001b[0;32m-> 1075\u001b[0;31m             \u001b[0mself\u001b[0m\u001b[1;33m.\u001b[0m\u001b[0m_fig\u001b[0m\u001b[1;33m.\u001b[0m\u001b[0mcanvas\u001b[0m\u001b[1;33m.\u001b[0m\u001b[0mdraw_idle\u001b[0m\u001b[1;33m(\u001b[0m\u001b[1;33m)\u001b[0m\u001b[1;33m\u001b[0m\u001b[0m\n\u001b[0m\u001b[1;32m   1076\u001b[0m \u001b[1;33m\u001b[0m\u001b[0m\n\u001b[1;32m   1077\u001b[0m     \u001b[1;31m# The rest of the code in this class is to facilitate easy blitting\u001b[0m\u001b[1;33m\u001b[0m\u001b[1;33m\u001b[0m\u001b[0m\n",
      "\u001b[0;32mC:\\Users\\adamc\\Anaconda3\\lib\\site-packages\\matplotlib\\backend_bases.py\u001b[0m in \u001b[0;36mdraw_idle\u001b[0;34m(self, *args, **kwargs)\u001b[0m\n\u001b[1;32m   2030\u001b[0m         \u001b[1;32mif\u001b[0m \u001b[1;32mnot\u001b[0m \u001b[0mself\u001b[0m\u001b[1;33m.\u001b[0m\u001b[0m_is_idle_drawing\u001b[0m\u001b[1;33m:\u001b[0m\u001b[1;33m\u001b[0m\u001b[0m\n\u001b[1;32m   2031\u001b[0m             \u001b[1;32mwith\u001b[0m \u001b[0mself\u001b[0m\u001b[1;33m.\u001b[0m\u001b[0m_idle_draw_cntx\u001b[0m\u001b[1;33m(\u001b[0m\u001b[1;33m)\u001b[0m\u001b[1;33m:\u001b[0m\u001b[1;33m\u001b[0m\u001b[0m\n\u001b[0;32m-> 2032\u001b[0;31m                 \u001b[0mself\u001b[0m\u001b[1;33m.\u001b[0m\u001b[0mdraw\u001b[0m\u001b[1;33m(\u001b[0m\u001b[1;33m*\u001b[0m\u001b[0margs\u001b[0m\u001b[1;33m,\u001b[0m \u001b[1;33m**\u001b[0m\u001b[0mkwargs\u001b[0m\u001b[1;33m)\u001b[0m\u001b[1;33m\u001b[0m\u001b[0m\n\u001b[0m\u001b[1;32m   2033\u001b[0m \u001b[1;33m\u001b[0m\u001b[0m\n\u001b[1;32m   2034\u001b[0m     \u001b[1;32mdef\u001b[0m \u001b[0mdraw_cursor\u001b[0m\u001b[1;33m(\u001b[0m\u001b[0mself\u001b[0m\u001b[1;33m,\u001b[0m \u001b[0mevent\u001b[0m\u001b[1;33m)\u001b[0m\u001b[1;33m:\u001b[0m\u001b[1;33m\u001b[0m\u001b[0m\n",
      "\u001b[0;32mC:\\Users\\adamc\\Anaconda3\\lib\\site-packages\\matplotlib\\backends\\backend_agg.py\u001b[0m in \u001b[0;36mdraw\u001b[0;34m(self)\u001b[0m\n\u001b[1;32m    462\u001b[0m \u001b[1;33m\u001b[0m\u001b[0m\n\u001b[1;32m    463\u001b[0m         \u001b[1;32mtry\u001b[0m\u001b[1;33m:\u001b[0m\u001b[1;33m\u001b[0m\u001b[0m\n\u001b[0;32m--> 464\u001b[0;31m             \u001b[0mself\u001b[0m\u001b[1;33m.\u001b[0m\u001b[0mfigure\u001b[0m\u001b[1;33m.\u001b[0m\u001b[0mdraw\u001b[0m\u001b[1;33m(\u001b[0m\u001b[0mself\u001b[0m\u001b[1;33m.\u001b[0m\u001b[0mrenderer\u001b[0m\u001b[1;33m)\u001b[0m\u001b[1;33m\u001b[0m\u001b[0m\n\u001b[0m\u001b[1;32m    465\u001b[0m         \u001b[1;32mfinally\u001b[0m\u001b[1;33m:\u001b[0m\u001b[1;33m\u001b[0m\u001b[0m\n\u001b[1;32m    466\u001b[0m             \u001b[0mRendererAgg\u001b[0m\u001b[1;33m.\u001b[0m\u001b[0mlock\u001b[0m\u001b[1;33m.\u001b[0m\u001b[0mrelease\u001b[0m\u001b[1;33m(\u001b[0m\u001b[1;33m)\u001b[0m\u001b[1;33m\u001b[0m\u001b[0m\n",
      "\u001b[0;32mC:\\Users\\adamc\\Anaconda3\\lib\\site-packages\\matplotlib\\artist.py\u001b[0m in \u001b[0;36mdraw_wrapper\u001b[0;34m(artist, renderer, *args, **kwargs)\u001b[0m\n\u001b[1;32m     61\u001b[0m     \u001b[1;32mdef\u001b[0m \u001b[0mdraw_wrapper\u001b[0m\u001b[1;33m(\u001b[0m\u001b[0martist\u001b[0m\u001b[1;33m,\u001b[0m \u001b[0mrenderer\u001b[0m\u001b[1;33m,\u001b[0m \u001b[1;33m*\u001b[0m\u001b[0margs\u001b[0m\u001b[1;33m,\u001b[0m \u001b[1;33m**\u001b[0m\u001b[0mkwargs\u001b[0m\u001b[1;33m)\u001b[0m\u001b[1;33m:\u001b[0m\u001b[1;33m\u001b[0m\u001b[0m\n\u001b[1;32m     62\u001b[0m         \u001b[0mbefore\u001b[0m\u001b[1;33m(\u001b[0m\u001b[0martist\u001b[0m\u001b[1;33m,\u001b[0m \u001b[0mrenderer\u001b[0m\u001b[1;33m)\u001b[0m\u001b[1;33m\u001b[0m\u001b[0m\n\u001b[0;32m---> 63\u001b[0;31m         \u001b[0mdraw\u001b[0m\u001b[1;33m(\u001b[0m\u001b[0martist\u001b[0m\u001b[1;33m,\u001b[0m \u001b[0mrenderer\u001b[0m\u001b[1;33m,\u001b[0m \u001b[1;33m*\u001b[0m\u001b[0margs\u001b[0m\u001b[1;33m,\u001b[0m \u001b[1;33m**\u001b[0m\u001b[0mkwargs\u001b[0m\u001b[1;33m)\u001b[0m\u001b[1;33m\u001b[0m\u001b[0m\n\u001b[0m\u001b[1;32m     64\u001b[0m         \u001b[0mafter\u001b[0m\u001b[1;33m(\u001b[0m\u001b[0martist\u001b[0m\u001b[1;33m,\u001b[0m \u001b[0mrenderer\u001b[0m\u001b[1;33m)\u001b[0m\u001b[1;33m\u001b[0m\u001b[0m\n\u001b[1;32m     65\u001b[0m \u001b[1;33m\u001b[0m\u001b[0m\n",
      "\u001b[0;32mC:\\Users\\adamc\\Anaconda3\\lib\\site-packages\\matplotlib\\figure.py\u001b[0m in \u001b[0;36mdraw\u001b[0;34m(self, renderer)\u001b[0m\n\u001b[1;32m   1141\u001b[0m \u001b[1;33m\u001b[0m\u001b[0m\n\u001b[1;32m   1142\u001b[0m             mimage._draw_list_compositing_images(\n\u001b[0;32m-> 1143\u001b[0;31m                 renderer, self, dsu, self.suppressComposite)\n\u001b[0m\u001b[1;32m   1144\u001b[0m \u001b[1;33m\u001b[0m\u001b[0m\n\u001b[1;32m   1145\u001b[0m             \u001b[0mrenderer\u001b[0m\u001b[1;33m.\u001b[0m\u001b[0mclose_group\u001b[0m\u001b[1;33m(\u001b[0m\u001b[1;34m'figure'\u001b[0m\u001b[1;33m)\u001b[0m\u001b[1;33m\u001b[0m\u001b[0m\n",
      "\u001b[0;32mC:\\Users\\adamc\\Anaconda3\\lib\\site-packages\\matplotlib\\image.py\u001b[0m in \u001b[0;36m_draw_list_compositing_images\u001b[0;34m(renderer, parent, dsu, suppress_composite)\u001b[0m\n\u001b[1;32m    137\u001b[0m     \u001b[1;32mif\u001b[0m \u001b[0mnot_composite\u001b[0m \u001b[1;32mor\u001b[0m \u001b[1;32mnot\u001b[0m \u001b[0mhas_images\u001b[0m\u001b[1;33m:\u001b[0m\u001b[1;33m\u001b[0m\u001b[0m\n\u001b[1;32m    138\u001b[0m         \u001b[1;32mfor\u001b[0m \u001b[0mzorder\u001b[0m\u001b[1;33m,\u001b[0m \u001b[0ma\u001b[0m \u001b[1;32min\u001b[0m \u001b[0mdsu\u001b[0m\u001b[1;33m:\u001b[0m\u001b[1;33m\u001b[0m\u001b[0m\n\u001b[0;32m--> 139\u001b[0;31m             \u001b[0ma\u001b[0m\u001b[1;33m.\u001b[0m\u001b[0mdraw\u001b[0m\u001b[1;33m(\u001b[0m\u001b[0mrenderer\u001b[0m\u001b[1;33m)\u001b[0m\u001b[1;33m\u001b[0m\u001b[0m\n\u001b[0m\u001b[1;32m    140\u001b[0m     \u001b[1;32melse\u001b[0m\u001b[1;33m:\u001b[0m\u001b[1;33m\u001b[0m\u001b[0m\n\u001b[1;32m    141\u001b[0m         \u001b[1;31m# Composite any adjacent images together\u001b[0m\u001b[1;33m\u001b[0m\u001b[1;33m\u001b[0m\u001b[0m\n",
      "\u001b[0;32mC:\\Users\\adamc\\Anaconda3\\lib\\site-packages\\matplotlib\\artist.py\u001b[0m in \u001b[0;36mdraw_wrapper\u001b[0;34m(artist, renderer, *args, **kwargs)\u001b[0m\n\u001b[1;32m     61\u001b[0m     \u001b[1;32mdef\u001b[0m \u001b[0mdraw_wrapper\u001b[0m\u001b[1;33m(\u001b[0m\u001b[0martist\u001b[0m\u001b[1;33m,\u001b[0m \u001b[0mrenderer\u001b[0m\u001b[1;33m,\u001b[0m \u001b[1;33m*\u001b[0m\u001b[0margs\u001b[0m\u001b[1;33m,\u001b[0m \u001b[1;33m**\u001b[0m\u001b[0mkwargs\u001b[0m\u001b[1;33m)\u001b[0m\u001b[1;33m:\u001b[0m\u001b[1;33m\u001b[0m\u001b[0m\n\u001b[1;32m     62\u001b[0m         \u001b[0mbefore\u001b[0m\u001b[1;33m(\u001b[0m\u001b[0martist\u001b[0m\u001b[1;33m,\u001b[0m \u001b[0mrenderer\u001b[0m\u001b[1;33m)\u001b[0m\u001b[1;33m\u001b[0m\u001b[0m\n\u001b[0;32m---> 63\u001b[0;31m         \u001b[0mdraw\u001b[0m\u001b[1;33m(\u001b[0m\u001b[0martist\u001b[0m\u001b[1;33m,\u001b[0m \u001b[0mrenderer\u001b[0m\u001b[1;33m,\u001b[0m \u001b[1;33m*\u001b[0m\u001b[0margs\u001b[0m\u001b[1;33m,\u001b[0m \u001b[1;33m**\u001b[0m\u001b[0mkwargs\u001b[0m\u001b[1;33m)\u001b[0m\u001b[1;33m\u001b[0m\u001b[0m\n\u001b[0m\u001b[1;32m     64\u001b[0m         \u001b[0mafter\u001b[0m\u001b[1;33m(\u001b[0m\u001b[0martist\u001b[0m\u001b[1;33m,\u001b[0m \u001b[0mrenderer\u001b[0m\u001b[1;33m)\u001b[0m\u001b[1;33m\u001b[0m\u001b[0m\n\u001b[1;32m     65\u001b[0m \u001b[1;33m\u001b[0m\u001b[0m\n",
      "\u001b[0;32mC:\\Users\\adamc\\Anaconda3\\lib\\site-packages\\matplotlib\\axes\\_base.py\u001b[0m in \u001b[0;36mdraw\u001b[0;34m(self, renderer, inframe)\u001b[0m\n\u001b[1;32m   2400\u001b[0m         \u001b[1;31m# will draw the edges\u001b[0m\u001b[1;33m\u001b[0m\u001b[1;33m\u001b[0m\u001b[0m\n\u001b[1;32m   2401\u001b[0m         \u001b[1;32mif\u001b[0m \u001b[0mself\u001b[0m\u001b[1;33m.\u001b[0m\u001b[0maxison\u001b[0m \u001b[1;32mand\u001b[0m \u001b[0mself\u001b[0m\u001b[1;33m.\u001b[0m\u001b[0m_frameon\u001b[0m\u001b[1;33m:\u001b[0m\u001b[1;33m\u001b[0m\u001b[0m\n\u001b[0;32m-> 2402\u001b[0;31m             \u001b[0mself\u001b[0m\u001b[1;33m.\u001b[0m\u001b[0mpatch\u001b[0m\u001b[1;33m.\u001b[0m\u001b[0mdraw\u001b[0m\u001b[1;33m(\u001b[0m\u001b[0mrenderer\u001b[0m\u001b[1;33m)\u001b[0m\u001b[1;33m\u001b[0m\u001b[0m\n\u001b[0m\u001b[1;32m   2403\u001b[0m \u001b[1;33m\u001b[0m\u001b[0m\n\u001b[1;32m   2404\u001b[0m         \u001b[1;32mif\u001b[0m \u001b[0mdsu_rasterized\u001b[0m\u001b[1;33m:\u001b[0m\u001b[1;33m\u001b[0m\u001b[0m\n",
      "\u001b[0;32mC:\\Users\\adamc\\Anaconda3\\lib\\site-packages\\matplotlib\\artist.py\u001b[0m in \u001b[0;36mdraw_wrapper\u001b[0;34m(artist, renderer, *args, **kwargs)\u001b[0m\n\u001b[1;32m     61\u001b[0m     \u001b[1;32mdef\u001b[0m \u001b[0mdraw_wrapper\u001b[0m\u001b[1;33m(\u001b[0m\u001b[0martist\u001b[0m\u001b[1;33m,\u001b[0m \u001b[0mrenderer\u001b[0m\u001b[1;33m,\u001b[0m \u001b[1;33m*\u001b[0m\u001b[0margs\u001b[0m\u001b[1;33m,\u001b[0m \u001b[1;33m**\u001b[0m\u001b[0mkwargs\u001b[0m\u001b[1;33m)\u001b[0m\u001b[1;33m:\u001b[0m\u001b[1;33m\u001b[0m\u001b[0m\n\u001b[1;32m     62\u001b[0m         \u001b[0mbefore\u001b[0m\u001b[1;33m(\u001b[0m\u001b[0martist\u001b[0m\u001b[1;33m,\u001b[0m \u001b[0mrenderer\u001b[0m\u001b[1;33m)\u001b[0m\u001b[1;33m\u001b[0m\u001b[0m\n\u001b[0;32m---> 63\u001b[0;31m         \u001b[0mdraw\u001b[0m\u001b[1;33m(\u001b[0m\u001b[0martist\u001b[0m\u001b[1;33m,\u001b[0m \u001b[0mrenderer\u001b[0m\u001b[1;33m,\u001b[0m \u001b[1;33m*\u001b[0m\u001b[0margs\u001b[0m\u001b[1;33m,\u001b[0m \u001b[1;33m**\u001b[0m\u001b[0mkwargs\u001b[0m\u001b[1;33m)\u001b[0m\u001b[1;33m\u001b[0m\u001b[0m\n\u001b[0m\u001b[1;32m     64\u001b[0m         \u001b[0mafter\u001b[0m\u001b[1;33m(\u001b[0m\u001b[0martist\u001b[0m\u001b[1;33m,\u001b[0m \u001b[0mrenderer\u001b[0m\u001b[1;33m)\u001b[0m\u001b[1;33m\u001b[0m\u001b[0m\n\u001b[1;32m     65\u001b[0m \u001b[1;33m\u001b[0m\u001b[0m\n",
      "\u001b[0;32mC:\\Users\\adamc\\Anaconda3\\lib\\site-packages\\matplotlib\\patches.py\u001b[0m in \u001b[0;36mdraw\u001b[0;34m(self, renderer)\u001b[0m\n\u001b[1;32m    551\u001b[0m \u001b[1;33m\u001b[0m\u001b[0m\n\u001b[1;32m    552\u001b[0m         \u001b[0mpath\u001b[0m \u001b[1;33m=\u001b[0m \u001b[0mself\u001b[0m\u001b[1;33m.\u001b[0m\u001b[0mget_path\u001b[0m\u001b[1;33m(\u001b[0m\u001b[1;33m)\u001b[0m\u001b[1;33m\u001b[0m\u001b[0m\n\u001b[0;32m--> 553\u001b[0;31m         \u001b[0mtransform\u001b[0m \u001b[1;33m=\u001b[0m \u001b[0mself\u001b[0m\u001b[1;33m.\u001b[0m\u001b[0mget_transform\u001b[0m\u001b[1;33m(\u001b[0m\u001b[1;33m)\u001b[0m\u001b[1;33m\u001b[0m\u001b[0m\n\u001b[0m\u001b[1;32m    554\u001b[0m         \u001b[0mtpath\u001b[0m \u001b[1;33m=\u001b[0m \u001b[0mtransform\u001b[0m\u001b[1;33m.\u001b[0m\u001b[0mtransform_path_non_affine\u001b[0m\u001b[1;33m(\u001b[0m\u001b[0mpath\u001b[0m\u001b[1;33m)\u001b[0m\u001b[1;33m\u001b[0m\u001b[0m\n\u001b[1;32m    555\u001b[0m         \u001b[0maffine\u001b[0m \u001b[1;33m=\u001b[0m \u001b[0mtransform\u001b[0m\u001b[1;33m.\u001b[0m\u001b[0mget_affine\u001b[0m\u001b[1;33m(\u001b[0m\u001b[1;33m)\u001b[0m\u001b[1;33m\u001b[0m\u001b[0m\n",
      "\u001b[0;32mC:\\Users\\adamc\\Anaconda3\\lib\\site-packages\\matplotlib\\patches.py\u001b[0m in \u001b[0;36mget_transform\u001b[0;34m(self)\u001b[0m\n\u001b[1;32m    217\u001b[0m         \u001b[0mto\u001b[0m \u001b[0mthe\u001b[0m \u001b[1;33m:\u001b[0m\u001b[1;32mclass\u001b[0m\u001b[1;33m:\u001b[0m\u001b[0;31m`\u001b[0m\u001b[0mPatch\u001b[0m\u001b[0;31m`\u001b[0m\u001b[1;33m.\u001b[0m\u001b[1;33m\u001b[0m\u001b[0m\n\u001b[1;32m    218\u001b[0m         \"\"\"\n\u001b[0;32m--> 219\u001b[0;31m         \u001b[1;32mreturn\u001b[0m \u001b[0mself\u001b[0m\u001b[1;33m.\u001b[0m\u001b[0mget_patch_transform\u001b[0m\u001b[1;33m(\u001b[0m\u001b[1;33m)\u001b[0m \u001b[1;33m+\u001b[0m \u001b[0martist\u001b[0m\u001b[1;33m.\u001b[0m\u001b[0mArtist\u001b[0m\u001b[1;33m.\u001b[0m\u001b[0mget_transform\u001b[0m\u001b[1;33m(\u001b[0m\u001b[0mself\u001b[0m\u001b[1;33m)\u001b[0m\u001b[1;33m\u001b[0m\u001b[0m\n\u001b[0m\u001b[1;32m    220\u001b[0m \u001b[1;33m\u001b[0m\u001b[0m\n\u001b[1;32m    221\u001b[0m     \u001b[1;32mdef\u001b[0m \u001b[0mget_data_transform\u001b[0m\u001b[1;33m(\u001b[0m\u001b[0mself\u001b[0m\u001b[1;33m)\u001b[0m\u001b[1;33m:\u001b[0m\u001b[1;33m\u001b[0m\u001b[0m\n",
      "\u001b[0;32mC:\\Users\\adamc\\Anaconda3\\lib\\site-packages\\matplotlib\\patches.py\u001b[0m in \u001b[0;36mget_patch_transform\u001b[0;34m(self)\u001b[0m\n\u001b[1;32m    706\u001b[0m \u001b[1;33m\u001b[0m\u001b[0m\n\u001b[1;32m    707\u001b[0m     \u001b[1;32mdef\u001b[0m \u001b[0mget_patch_transform\u001b[0m\u001b[1;33m(\u001b[0m\u001b[0mself\u001b[0m\u001b[1;33m)\u001b[0m\u001b[1;33m:\u001b[0m\u001b[1;33m\u001b[0m\u001b[0m\n\u001b[0;32m--> 708\u001b[0;31m         \u001b[0mself\u001b[0m\u001b[1;33m.\u001b[0m\u001b[0m_update_patch_transform\u001b[0m\u001b[1;33m(\u001b[0m\u001b[1;33m)\u001b[0m\u001b[1;33m\u001b[0m\u001b[0m\n\u001b[0m\u001b[1;32m    709\u001b[0m         \u001b[1;32mreturn\u001b[0m \u001b[0mself\u001b[0m\u001b[1;33m.\u001b[0m\u001b[0m_rect_transform\u001b[0m\u001b[1;33m\u001b[0m\u001b[0m\n\u001b[1;32m    710\u001b[0m \u001b[1;33m\u001b[0m\u001b[0m\n",
      "\u001b[0;32mC:\\Users\\adamc\\Anaconda3\\lib\\site-packages\\matplotlib\\patches.py\u001b[0m in \u001b[0;36m_update_patch_transform\u001b[0;34m(self)\u001b[0m\n\u001b[1;32m    701\u001b[0m         \u001b[0mbbox\u001b[0m \u001b[1;33m=\u001b[0m \u001b[0mtransforms\u001b[0m\u001b[1;33m.\u001b[0m\u001b[0mBbox\u001b[0m\u001b[1;33m.\u001b[0m\u001b[0mfrom_bounds\u001b[0m\u001b[1;33m(\u001b[0m\u001b[0mx\u001b[0m\u001b[1;33m,\u001b[0m \u001b[0my\u001b[0m\u001b[1;33m,\u001b[0m \u001b[0mwidth\u001b[0m\u001b[1;33m,\u001b[0m \u001b[0mheight\u001b[0m\u001b[1;33m)\u001b[0m\u001b[1;33m\u001b[0m\u001b[0m\n\u001b[1;32m    702\u001b[0m         \u001b[0mrot_trans\u001b[0m \u001b[1;33m=\u001b[0m \u001b[0mtransforms\u001b[0m\u001b[1;33m.\u001b[0m\u001b[0mAffine2D\u001b[0m\u001b[1;33m(\u001b[0m\u001b[1;33m)\u001b[0m\u001b[1;33m\u001b[0m\u001b[0m\n\u001b[0;32m--> 703\u001b[0;31m         \u001b[0mrot_trans\u001b[0m\u001b[1;33m.\u001b[0m\u001b[0mrotate_deg_around\u001b[0m\u001b[1;33m(\u001b[0m\u001b[0mx\u001b[0m\u001b[1;33m,\u001b[0m \u001b[0my\u001b[0m\u001b[1;33m,\u001b[0m \u001b[0mself\u001b[0m\u001b[1;33m.\u001b[0m\u001b[0m_angle\u001b[0m\u001b[1;33m)\u001b[0m\u001b[1;33m\u001b[0m\u001b[0m\n\u001b[0m\u001b[1;32m    704\u001b[0m         \u001b[0mself\u001b[0m\u001b[1;33m.\u001b[0m\u001b[0m_rect_transform\u001b[0m \u001b[1;33m=\u001b[0m \u001b[0mtransforms\u001b[0m\u001b[1;33m.\u001b[0m\u001b[0mBboxTransformTo\u001b[0m\u001b[1;33m(\u001b[0m\u001b[0mbbox\u001b[0m\u001b[1;33m)\u001b[0m\u001b[1;33m\u001b[0m\u001b[0m\n\u001b[1;32m    705\u001b[0m         \u001b[0mself\u001b[0m\u001b[1;33m.\u001b[0m\u001b[0m_rect_transform\u001b[0m \u001b[1;33m+=\u001b[0m \u001b[0mrot_trans\u001b[0m\u001b[1;33m\u001b[0m\u001b[0m\n",
      "\u001b[0;32mC:\\Users\\adamc\\Anaconda3\\lib\\site-packages\\matplotlib\\transforms.py\u001b[0m in \u001b[0;36mrotate_deg_around\u001b[0;34m(self, x, y, degrees)\u001b[0m\n\u001b[1;32m   1953\u001b[0m         \u001b[1;32mand\u001b[0m \u001b[1;33m:\u001b[0m\u001b[0mmeth\u001b[0m\u001b[1;33m:\u001b[0m\u001b[0;31m`\u001b[0m\u001b[0mscale\u001b[0m\u001b[0;31m`\u001b[0m\u001b[1;33m.\u001b[0m\u001b[1;33m\u001b[0m\u001b[0m\n\u001b[1;32m   1954\u001b[0m         \"\"\"\n\u001b[0;32m-> 1955\u001b[0;31m         \u001b[1;32mreturn\u001b[0m \u001b[0mself\u001b[0m\u001b[1;33m.\u001b[0m\u001b[0mtranslate\u001b[0m\u001b[1;33m(\u001b[0m\u001b[1;33m-\u001b[0m\u001b[0mx\u001b[0m\u001b[1;33m,\u001b[0m \u001b[1;33m-\u001b[0m\u001b[0my\u001b[0m\u001b[1;33m)\u001b[0m\u001b[1;33m.\u001b[0m\u001b[0mrotate_deg\u001b[0m\u001b[1;33m(\u001b[0m\u001b[0mdegrees\u001b[0m\u001b[1;33m)\u001b[0m\u001b[1;33m.\u001b[0m\u001b[0mtranslate\u001b[0m\u001b[1;33m(\u001b[0m\u001b[0mx\u001b[0m\u001b[1;33m,\u001b[0m \u001b[0my\u001b[0m\u001b[1;33m)\u001b[0m\u001b[1;33m\u001b[0m\u001b[0m\n\u001b[0m\u001b[1;32m   1956\u001b[0m \u001b[1;33m\u001b[0m\u001b[0m\n\u001b[1;32m   1957\u001b[0m     \u001b[1;32mdef\u001b[0m \u001b[0mtranslate\u001b[0m\u001b[1;33m(\u001b[0m\u001b[0mself\u001b[0m\u001b[1;33m,\u001b[0m \u001b[0mtx\u001b[0m\u001b[1;33m,\u001b[0m \u001b[0mty\u001b[0m\u001b[1;33m)\u001b[0m\u001b[1;33m:\u001b[0m\u001b[1;33m\u001b[0m\u001b[0m\n",
      "\u001b[0;32mC:\\Users\\adamc\\Anaconda3\\lib\\site-packages\\matplotlib\\transforms.py\u001b[0m in \u001b[0;36mtranslate\u001b[0;34m(self, tx, ty)\u001b[0m\n\u001b[1;32m   1966\u001b[0m             \u001b[1;33m[\u001b[0m\u001b[1;33m[\u001b[0m\u001b[1;36m1.0\u001b[0m\u001b[1;33m,\u001b[0m \u001b[1;36m0.0\u001b[0m\u001b[1;33m,\u001b[0m \u001b[0mtx\u001b[0m\u001b[1;33m]\u001b[0m\u001b[1;33m,\u001b[0m \u001b[1;33m[\u001b[0m\u001b[1;36m0.0\u001b[0m\u001b[1;33m,\u001b[0m \u001b[1;36m1.0\u001b[0m\u001b[1;33m,\u001b[0m \u001b[0mty\u001b[0m\u001b[1;33m]\u001b[0m\u001b[1;33m,\u001b[0m \u001b[1;33m[\u001b[0m\u001b[1;36m0.0\u001b[0m\u001b[1;33m,\u001b[0m \u001b[1;36m0.0\u001b[0m\u001b[1;33m,\u001b[0m \u001b[1;36m1.0\u001b[0m\u001b[1;33m]\u001b[0m\u001b[1;33m]\u001b[0m\u001b[1;33m,\u001b[0m\u001b[1;33m\u001b[0m\u001b[0m\n\u001b[1;32m   1967\u001b[0m             np.float_)\n\u001b[0;32m-> 1968\u001b[0;31m         \u001b[0mself\u001b[0m\u001b[1;33m.\u001b[0m\u001b[0m_mtx\u001b[0m \u001b[1;33m=\u001b[0m \u001b[0mnp\u001b[0m\u001b[1;33m.\u001b[0m\u001b[0mdot\u001b[0m\u001b[1;33m(\u001b[0m\u001b[0mtranslate_mtx\u001b[0m\u001b[1;33m,\u001b[0m \u001b[0mself\u001b[0m\u001b[1;33m.\u001b[0m\u001b[0m_mtx\u001b[0m\u001b[1;33m)\u001b[0m\u001b[1;33m\u001b[0m\u001b[0m\n\u001b[0m\u001b[1;32m   1969\u001b[0m         \u001b[0mself\u001b[0m\u001b[1;33m.\u001b[0m\u001b[0minvalidate\u001b[0m\u001b[1;33m(\u001b[0m\u001b[1;33m)\u001b[0m\u001b[1;33m\u001b[0m\u001b[0m\n\u001b[1;32m   1970\u001b[0m         \u001b[1;32mreturn\u001b[0m \u001b[0mself\u001b[0m\u001b[1;33m\u001b[0m\u001b[0m\n",
      "\u001b[0;31mKeyboardInterrupt\u001b[0m: "
     ]
    }
   ],
   "source": [
    "# First set up the figure, the axis, and the plot element we want to animate\n",
    "fig = plt.figure()\n",
    "ax = plt.axes(xlim=(0, 100), ylim=(0, 400))\n",
    "line, = ax.plot([], [], lw=2)\n",
    "\n",
    "# initialization function: plot the background of each frame\n",
    "def init():\n",
    "    line.set_data([], [])\n",
    "    return line,\n",
    "\n",
    "# animation function.  This is called sequentially\n",
    "def animate(i):\n",
    "    x = [0,10,20,30,40,50,60,70,80,90]\n",
    "    y = batteryFreq[i]\n",
    "    line.set_data(x, y)\n",
    "    return line,\n",
    "\n",
    "# call the animator.  blit=True means only re-draw the parts that have changed.\n",
    "anim = animation.FuncAnimation(fig, animate, init_func=init,\n",
    "                               frames=200, interval=25, blit=True)\n",
    "\n",
    "# save the animation as an mp4.  This requires ffmpeg or mencoder to be\n",
    "# installed.  The extra_args ensure that the x264 codec is used, so that\n",
    "# the video can be embedded in html5.  You may need to adjust this for\n",
    "# your system: for more information, see\n",
    "# http://matplotlib.sourceforge.net/api/animation_api.html\n",
    "\n",
    "#to save file:\n",
    "#anim.save('basic_animation.mp4', fps=30, extra_args=['-vcodec', 'libx264'])\n",
    "\n",
    "HTML(anim.to_html5_video())"
   ]
  },
  {
   "cell_type": "code",
   "execution_count": null,
   "metadata": {
    "collapsed": false
   },
   "outputs": [],
   "source": [
    "num = 0\n",
    "def update_hist(num):\n",
    "    plt.cla()\n",
    "    plt.hist(batteryLevels[num],bins=100)\n",
    "    plt.title(\"Battery Levels at T=\"+str(num))\n",
    "    plt.xlabel(\"Battery %\")\n",
    "    plt.ylabel(\"Frequency\")\n",
    "\n",
    "fig = plt.figure()\n",
    "hist = plt.hist(batteryLevels[0])\n",
    "\n",
    "animation = animation.FuncAnimation(fig, update_hist, num_iters, fargs=(num) )\n",
    "HTML(animation.to_html5_video())"
   ]
  },
  {
   "cell_type": "code",
   "execution_count": null,
   "metadata": {
    "collapsed": false
   },
   "outputs": [],
   "source": []
  },
  {
   "cell_type": "code",
   "execution_count": null,
   "metadata": {
    "collapsed": false
   },
   "outputs": [],
   "source": []
  },
  {
   "cell_type": "code",
   "execution_count": 70,
   "metadata": {
    "collapsed": false
   },
   "outputs": [
    {
     "name": "stdout",
     "output_type": "stream",
     "text": [
      "2001\n",
      "2000 [57.7015, 69.2557, 67.8344, 78.3297, 69.1729, 74.7728, 73.3934, 78.81, 67.2159, 72.0658, 0.0]\n",
      "43.5921\n"
     ]
    }
   ],
   "source": [
    "b = [x[:] for x in [[0.0] * (num_nodes-2)] * (num_iters-1)]\n",
    "for i in range(1,num_iters-1):\n",
    "    b[i-1] = sorted(batteryLevels[i][:2000])\n",
    "    \n",
    "j=0\n",
    "while batteryLevels[1][j] != 0:\n",
    "    j = j+1\n",
    "    \n",
    "print(num_nodes)\n",
    "print(j,batteryLevels[1][1990:])\n",
    "print(b[0][0])"
   ]
  },
  {
   "cell_type": "code",
   "execution_count": 71,
   "metadata": {
    "collapsed": false
   },
   "outputs": [
    {
     "name": "stdout",
     "output_type": "stream",
     "text": [
      "Iteration\tMin\tLowerQuartile\tUpperQuartile\t  Max\n",
      "   0 \t \t 43.5921 \t 64.6078 \t 75.3348 \t 92.5288\n",
      "   1 \t \t 43.5721 \t 64.5878 \t 75.3148 \t 92.5088\n",
      "   2 \t \t 43.5521 \t 64.5678 \t 75.2948 \t 92.4887\n",
      "   3 \t \t 43.5321 \t 64.5478 \t 75.2625 \t 92.4687\n",
      "   4 \t \t 43.5121 \t 64.5278 \t 75.2222 \t 92.4487\n",
      "   5 \t \t 43.4922 \t 64.5078 \t 75.1835 \t 92.4287\n",
      "   6 \t \t 43.4722 \t 64.4878 \t 75.1545 \t 92.4087\n",
      "   7 \t \t 43.4522 \t 64.4678 \t 75.1296 \t 92.3887\n",
      "   8 \t \t 43.4322 \t 64.4478 \t 75.0767 \t 92.3687\n",
      "   9 \t \t 43.4122 \t 64.4264 \t 75.0567 \t 92.3487\n",
      "   10 \t \t 43.3922 \t 64.3632 \t 74.9948 \t 92.3287\n",
      "   11 \t \t 43.3722 \t 64.3432 \t 74.9595 \t 92.3087\n",
      "   12 \t \t 43.3522 \t 64.3149 \t 74.9395 \t 92.2887\n",
      "   13 \t \t 43.3322 \t 64.2949 \t 74.9178 \t 92.2687\n",
      "   14 \t \t 43.3122 \t 64.2719 \t 74.8978 \t 92.2487\n",
      "   15 \t \t 43.2922 \t 64.2449 \t 74.8495 \t 92.2287\n",
      "   16 \t \t 43.2722 \t 64.222 \t 74.8255 \t 92.2087\n",
      "   17 \t \t 43.2522 \t 64.139 \t 74.7655 \t 92.1887\n",
      "   18 \t \t 43.2322 \t 64.119 \t 74.7254 \t 92.1687\n",
      "   19 \t \t 43.2122 \t 64.0975 \t 74.6929 \t 92.1487\n",
      "   20 \t \t 43.1922 \t 64.0405 \t 74.6372 \t 92.1287\n",
      "   21 \t \t 43.1722 \t 64.0205 \t 74.6172 \t 92.1087\n",
      "   22 \t \t 43.1522 \t 63.9844 \t 74.5906 \t 92.0887\n",
      "   23 \t \t 43.1322 \t 63.8815 \t 74.5196 \t 92.0687\n",
      "   24 \t \t 43.1122 \t 63.8391 \t 74.4763 \t 92.0487\n",
      "   25 \t \t 43.0922 \t 63.7699 \t 74.4109 \t 92.0286\n",
      "   26 \t \t 43.0722 \t 63.7404 \t 74.3159 \t 92.0086\n",
      "   27 \t \t 43.0522 \t 63.6805 \t 74.2349 \t 91.9886\n",
      "   28 \t \t 43.0322 \t 63.6122 \t 74.1481 \t 91.9686\n",
      "   29 \t \t 43.0122 \t 63.5497 \t 74.0851 \t 91.9486\n",
      "   30 \t \t 42.8597 \t 63.484 \t 74.0426 \t 91.9286\n",
      "   31 \t \t 42.7147 \t 63.4066 \t 74.0007 \t 91.9086\n",
      "   32 \t \t 42.5697 \t 63.2926 \t 73.9331 \t 91.8886\n",
      "   33 \t \t 42.4197 \t 63.2113 \t 73.8027 \t 91.8686\n",
      "   34 \t \t 42.2896 \t 63.1892 \t 73.6968 \t 91.8486\n",
      "   35 \t \t 42.1546 \t 63.0959 \t 73.6538 \t 91.8286\n",
      "   36 \t \t 42.0196 \t 63.031 \t 73.5609 \t 91.8086\n",
      "   37 \t \t 41.8896 \t 62.9148 \t 73.4927 \t 91.7886\n",
      "   38 \t \t 41.7496 \t 62.8127 \t 73.4511 \t 91.7686\n",
      "   39 \t \t 41.6145 \t 62.7207 \t 73.3527 \t 91.7486\n",
      "   40 \t \t 41.4845 \t 62.6039 \t 73.1492 \t 91.7286\n",
      "   41 \t \t 41.3395 \t 62.4946 \t 73.0579 \t 91.7086\n",
      "   42 \t \t 41.2095 \t 62.3791 \t 72.9337 \t 91.6886\n",
      "   43 \t \t 41.0945 \t 62.2766 \t 72.8871 \t 91.6686\n",
      "   44 \t \t 40.9844 \t 62.1666 \t 72.8501 \t 91.6486\n",
      "   45 \t \t 40.8694 \t 62.0237 \t 72.7746 \t 91.6286\n",
      "   46 \t \t 40.7594 \t 61.9296 \t 72.6516 \t 91.6086\n",
      "   47 \t \t 40.6494 \t 61.8312 \t 72.5308 \t 91.5886\n",
      "   48 \t \t 40.5344 \t 61.7064 \t 72.4291 \t 91.5686\n",
      "   49 \t \t 40.4244 \t 61.5438 \t 72.3716 \t 91.5485\n",
      "   50 \t \t 40.3143 \t 61.3349 \t 72.3128 \t 91.5285\n",
      "   51 \t \t 40.1993 \t 61.1689 \t 72.1778 \t 91.5085\n",
      "   52 \t \t 40.0893 \t 60.9852 \t 72.1299 \t 91.4885\n",
      "   53 \t \t 39.9793 \t 60.7682 \t 72.0777 \t 91.4685\n",
      "   54 \t \t 39.8643 \t 60.5919 \t 71.9691 \t 91.4485\n",
      "   55 \t \t 39.7543 \t 60.5184 \t 71.8149 \t 91.4285\n",
      "   56 \t \t 39.6442 \t 60.3444 \t 71.6905 \t 91.4085\n",
      "   57 \t \t 39.3476 \t 60.2074 \t 71.6137 \t 91.3885\n",
      "   58 \t \t 39.0425 \t 60.0401 \t 71.4588 \t 91.3685\n",
      "   59 \t \t 38.7375 \t 59.8464 \t 71.2955 \t 91.3485\n",
      "   60 \t \t 38.4374 \t 59.6121 \t 71.1245 \t 91.3285\n",
      "   61 \t \t 38.1374 \t 59.4213 \t 71.0171 \t 91.3085\n",
      "   62 \t \t 37.8323 \t 59.2539 \t 70.8277 \t 91.2885\n",
      "   63 \t \t 37.5322 \t 59.0601 \t 70.6963 \t 91.2685\n",
      "   64 \t \t 37.2422 \t 58.9641 \t 70.5913 \t 91.2485\n",
      "   65 \t \t 36.9671 \t 58.757 \t 70.4555 \t 91.2285\n",
      "   66 \t \t 36.6921 \t 58.5264 \t 70.284 \t 91.2085\n",
      "   67 \t \t 36.317 \t 58.3325 \t 70.1407 \t 91.1885\n",
      "   68 \t \t 36.042 \t 58.1282 \t 69.9676 \t 91.1685\n",
      "   69 \t \t 35.7669 \t 57.9145 \t 69.8021 \t 91.1485\n",
      "   70 \t \t 35.4919 \t 57.6825 \t 69.6688 \t 91.1285\n",
      "   71 \t \t 35.2168 \t 57.4793 \t 69.5329 \t 91.1085\n",
      "   72 \t \t 34.8418 \t 57.234 \t 69.3689 \t 91.0884\n",
      "   73 \t \t 34.5617 \t 57.0023 \t 69.1987 \t 91.0684\n",
      "   74 \t \t 34.2817 \t 56.8029 \t 69.0532 \t 91.0484\n",
      "   75 \t \t 34.0016 \t 56.6635 \t 68.8947 \t 91.0284\n",
      "   76 \t \t 33.7216 \t 56.4669 \t 68.7659 \t 91.0084\n",
      "   77 \t \t 33.3515 \t 56.2526 \t 68.6311 \t 90.9884\n",
      "   78 \t \t 33.0815 \t 56.0576 \t 68.4989 \t 90.9684\n",
      "   79 \t \t 32.8114 \t 55.8318 \t 68.3439 \t 90.9484\n",
      "   80 \t \t 32.5414 \t 55.6026 \t 68.1779 \t 90.9284\n",
      "   81 \t \t 32.2763 \t 55.3765 \t 68.011 \t 90.9084\n",
      "   82 \t \t 31.9113 \t 55.1544 \t 67.9112 \t 90.8884\n",
      "   83 \t \t 31.6663 \t 54.8643 \t 67.7326 \t 90.8684\n",
      "   84 \t \t 31.4163 \t 54.6042 \t 67.6024 \t 90.8484\n",
      "   85 \t \t 31.1614 \t 54.397 \t 67.3864 \t 90.7327\n",
      "   86 \t \t 30.9064 \t 54.2232 \t 67.1386 \t 90.4928\n",
      "   87 \t \t 30.5515 \t 53.9913 \t 66.9763 \t 90.1479\n",
      "   88 \t \t 30.2965 \t 53.7563 \t 66.8453 \t 89.923\n",
      "   89 \t \t 30.0415 \t 53.5299 \t 66.6873 \t 89.6682\n",
      "   90 \t \t 29.7916 \t 53.3119 \t 66.4868 \t 89.4083\n",
      "   91 \t \t 29.7866 \t 53.1341 \t 66.2756 \t 89.1384\n",
      "   92 \t \t 29.7816 \t 52.8775 \t 66.1271 \t 88.7686\n",
      "   93 \t \t 29.7816 \t 52.5928 \t 65.9311 \t 88.4887\n",
      "   94 \t \t 29.7816 \t 52.4104 \t 65.7861 \t 88.1938\n",
      "   95 \t \t 29.7816 \t 52.2436 \t 65.5673 \t 88.0078\n",
      "   96 \t \t 29.7816 \t 51.9638 \t 65.2954 \t 87.9878\n",
      "   97 \t \t 29.7816 \t 51.7448 \t 65.1251 \t 87.8628\n",
      "   98 \t \t 29.7816 \t 51.4815 \t 64.8758 \t 87.6329\n",
      "   99 \t \t 29.7816 \t 51.2408 \t 64.6291 \t 87.423\n",
      "   100 \t \t 29.7816 \t 50.9691 \t 64.4197 \t 87.2081\n",
      "   101 \t \t 29.7778 \t 50.7177 \t 64.15 \t 86.9932\n",
      "   102 \t \t 29.7276 \t 50.4422 \t 63.9292 \t 86.6784\n",
      "   103 \t \t 29.7226 \t 50.2 \t 63.7291 \t 86.4635\n",
      "   104 \t \t 29.7226 \t 49.9656 \t 63.5022 \t 86.1486\n",
      "   105 \t \t 29.7226 \t 49.6921 \t 63.2544 \t 85.9337\n",
      "   106 \t \t 29.7226 \t 49.4218 \t 63.0053 \t 85.7188\n",
      "   107 \t \t 29.7226 \t 49.1807 \t 62.7492 \t 85.5039\n",
      "   108 \t \t 29.7226 \t 48.8996 \t 62.5352 \t 85.289\n",
      "   109 \t \t 29.7226 \t 48.6255 \t 62.2964 \t 84.9741\n",
      "   110 \t \t 29.7226 \t 48.3769 \t 62.0814 \t 84.7592\n",
      "   111 \t \t 29.7226 \t 48.1137 \t 61.836 \t 84.5616\n",
      "   112 \t \t 29.7226 \t 47.8446 \t 61.5813 \t 84.3294\n",
      "   113 \t \t 29.7226 \t 47.546 \t 61.3423 \t 84.1617\n",
      "   114 \t \t 29.7226 \t 47.2229 \t 61.1097 \t 84.0118\n",
      "   115 \t \t 29.7226 \t 46.9778 \t 60.8946 \t 83.8618\n",
      "   116 \t \t 29.7226 \t 46.7447 \t 60.7054 \t 83.7119\n",
      "   117 \t \t 29.7226 \t 46.4809 \t 60.5009 \t 83.462\n",
      "   118 \t \t 29.7226 \t 46.2377 \t 60.282 \t 83.312\n",
      "   119 \t \t 29.7226 \t 45.9408 \t 60.0604 \t 83.1621\n",
      "   120 \t \t 29.7226 \t 45.6875 \t 59.7804 \t 83.0072\n",
      "   121 \t \t 29.7226 \t 45.4025 \t 59.5757 \t 82.8522\n",
      "   122 \t \t 29.7226 \t 45.127 \t 59.3457 \t 82.5973\n",
      "   123 \t \t 29.7226 \t 44.8683 \t 59.1783 \t 82.4374\n",
      "   124 \t \t 29.7226 \t 44.6654 \t 59.0041 \t 82.2824\n",
      "   125 \t \t 29.7226 \t 44.4117 \t 58.7849 \t 82.1225\n",
      "   126 \t \t 29.7226 \t 44.1349 \t 58.5525 \t 81.9576\n",
      "   127 \t \t 29.7226 \t 43.8566 \t 58.2924 \t 81.6927\n",
      "   128 \t \t 29.7226 \t 43.5911 \t 58.0635 \t 81.5477\n",
      "   129 \t \t 29.7226 \t 43.3855 \t 57.8312 \t 81.3928\n",
      "   130 \t \t 29.7192 \t 43.1653 \t 57.6509 \t 81.2279\n",
      "   131 \t \t 29.7192 \t 42.945 \t 57.4619 \t 81.048\n",
      "   132 \t \t 29.7192 \t 42.6732 \t 57.2625 \t 80.7581\n",
      "   133 \t \t 29.7192 \t 42.414 \t 57.0868 \t 80.5482\n",
      "   134 \t \t 29.7192 \t 42.1741 \t 56.9018 \t 80.3483\n",
      "   135 \t \t 29.7192 \t 41.884 \t 56.7047 \t 80.1433\n",
      "   136 \t \t 29.7192 \t 41.6094 \t 56.4935 \t 79.9334\n",
      "   137 \t \t 29.7192 \t 41.3344 \t 56.1989 \t 79.6335\n",
      "   138 \t \t 29.7192 \t 41.0662 \t 55.9906 \t 79.4037\n",
      "   139 \t \t 29.7192 \t 40.8008 \t 55.7557 \t 79.1738\n",
      "   140 \t \t 29.7189 \t 40.5405 \t 55.5756 \t 78.9239\n",
      "   141 \t \t 29.7189 \t 40.3155 \t 55.3804 \t 78.674\n",
      "   142 \t \t 29.7189 \t 40.0854 \t 55.1368 \t 78.3191\n",
      "   143 \t \t 29.7189 \t 39.8604 \t 54.9525 \t 78.0892\n",
      "   144 \t \t 29.7174 \t 39.6409 \t 54.7192 \t 77.8544\n",
      "   145 \t \t 29.7174 \t 39.4127 \t 54.5454 \t 77.6345\n",
      "   146 \t \t 29.7174 \t 39.1586 \t 54.3754 \t 77.3996\n",
      "   147 \t \t 29.6732 \t 38.9058 \t 54.1189 \t 77.0497\n",
      "   148 \t \t 29.6682 \t 38.6061 \t 53.9166 \t 76.7549\n",
      "   149 \t \t 29.6632 \t 38.34 \t 53.6299 \t 76.5543\n",
      "   150 \t \t 29.6582 \t 38.1011 \t 53.5219 \t 76.4344\n",
      "   151 \t \t 29.6525 \t 37.87 \t 53.3215 \t 76.2713\n",
      "   152 \t \t 29.6525 \t 37.6337 \t 53.1082 \t 76.1663\n",
      "   153 \t \t 29.6525 \t 37.4028 \t 52.9822 \t 76.0564\n",
      "   154 \t \t 29.6525 \t 37.1652 \t 52.7691 \t 75.9514\n",
      "   155 \t \t 29.6525 \t 36.877 \t 52.6081 \t 75.8465\n",
      "   156 \t \t 29.6525 \t 36.647 \t 52.3882 \t 75.7415\n",
      "   157 \t \t 29.6525 \t 36.4291 \t 52.1808 \t 75.6315\n",
      "   158 \t \t 29.6525 \t 36.196 \t 51.9308 \t 75.5266\n",
      "   159 \t \t 29.6525 \t 35.9769 \t 51.711 \t 75.4216\n",
      "   160 \t \t 29.6525 \t 35.8068 \t 51.5345 \t 75.3117\n",
      "   161 \t \t 29.6525 \t 35.6305 \t 51.2773 \t 75.2067\n",
      "   162 \t \t 29.6525 \t 35.4105 \t 51.1431 \t 75.1018\n",
      "   163 \t \t 29.6525 \t 35.1854 \t 50.9829 \t 75.025\n",
      "   164 \t \t 29.6525 \t 34.9704 \t 50.7855 \t 74.9801\n",
      "   165 \t \t 29.6525 \t 34.7576 \t 50.5905 \t 74.9301\n",
      "   166 \t \t 29.6525 \t 34.5226 \t 50.3839 \t 74.8851\n",
      "   167 \t \t 29.6525 \t 34.3203 \t 50.2127 \t 74.8401\n",
      "   168 \t \t 29.6525 \t 34.1098 \t 50.0265 \t 74.7901\n",
      "   169 \t \t 29.6525 \t 33.8566 \t 49.7875 \t 74.7451\n",
      "   170 \t \t 29.6525 \t 33.6426 \t 49.5762 \t 74.7001\n",
      "   171 \t \t 29.6525 \t 33.4091 \t 49.3641 \t 74.6501\n",
      "   172 \t \t 29.6525 \t 33.2117 \t 49.1098 \t 74.6051\n",
      "   173 \t \t 29.6525 \t 32.9993 \t 49.0127 \t 74.5602\n",
      "   174 \t \t 29.6525 \t 32.8286 \t 48.8173 \t 74.5002\n",
      "   175 \t \t 29.6525 \t 32.6318 \t 48.654 \t 74.4402\n",
      "   176 \t \t 29.6525 \t 32.4316 \t 48.4545 \t 74.2802\n",
      "   177 \t \t 29.6525 \t 32.2755 \t 48.2194 \t 74.2202\n",
      "   178 \t \t 29.6525 \t 32.0955 \t 47.985 \t 74.1602\n",
      "   179 \t \t 29.6525 \t 31.9219 \t 47.7944 \t 74.1003\n",
      "   180 \t \t 29.6525 \t 31.7842 \t 47.6222 \t 74.0503\n",
      "   181 \t \t 29.6525 \t 31.6321 \t 47.445 \t 74.0053\n",
      "   182 \t \t 29.6525 \t 31.4596 \t 47.2181 \t 73.9603\n",
      "   183 \t \t 29.6525 \t 31.3326 \t 47.0651 \t 73.9103\n",
      "   184 \t \t 29.6525 \t 31.1211 \t 46.8924 \t 73.8653\n",
      "   185 \t \t 29.6525 \t 30.9943 \t 46.6929 \t 73.8203\n",
      "   186 \t \t 29.6525 \t 30.8443 \t 46.5029 \t 73.7703\n",
      "   187 \t \t 29.6525 \t 30.659 \t 46.3273 \t 73.7253\n",
      "   188 \t \t 29.6525 \t 30.4865 \t 46.1346 \t 73.6804\n",
      "   189 \t \t 29.6525 \t 30.3348 \t 45.9598 \t 73.6304\n",
      "   190 \t \t 29.6525 \t 30.2066 \t 45.7672 \t 73.5854\n",
      "   191 \t \t 29.6525 \t 30.0321 \t 45.5655 \t 73.5404\n",
      "   192 \t \t 29.6525 \t 29.9959 \t 45.3842 \t 73.4904\n",
      "   193 \t \t 29.6525 \t 29.9939 \t 45.2112 \t 73.4454\n",
      "   194 \t \t 29.6525 \t 29.9918 \t 45.0585 \t 73.4004\n",
      "   195 \t \t 29.6525 \t 29.9897 \t 44.9157 \t 73.3504\n",
      "   196 \t \t 29.6525 \t 29.9893 \t 44.7385 \t 73.2904\n",
      "   197 \t \t 0.0 \t 0.0 \t 0.0 \t 0.0\n"
     ]
    }
   ],
   "source": [
    "print(\"Iteration\\tMin\\tLowerQuartile\\tUpperQuartile\\t  Max\")\n",
    "for i in range(0,num_iters-1):\n",
    "    minimum = b[i][0]\n",
    "    maximum = b[i][1998]\n",
    "    lowerq = b[i][499]\n",
    "    upperq = b[i][1499]\n",
    "    print(\"  \",i,\"\\t\",\"\\t\",minimum,\"\\t\",lowerq,\"\\t\",upperq,\"\\t\",maximum)"
   ]
  },
  {
   "cell_type": "code",
   "execution_count": null,
   "metadata": {
    "collapsed": false
   },
   "outputs": [],
   "source": []
  },
  {
   "cell_type": "code",
   "execution_count": null,
   "metadata": {
    "collapsed": true
   },
   "outputs": [],
   "source": []
  }
 ],
 "metadata": {
  "kernelspec": {
   "display_name": "Python 3",
   "language": "python",
   "name": "python3"
  },
  "language_info": {
   "codemirror_mode": {
    "name": "ipython",
    "version": 3
   },
   "file_extension": ".py",
   "mimetype": "text/x-python",
   "name": "python",
   "nbconvert_exporter": "python",
   "pygments_lexer": "ipython3",
   "version": "3.6.0"
  }
 },
 "nbformat": 4,
 "nbformat_minor": 2
}
